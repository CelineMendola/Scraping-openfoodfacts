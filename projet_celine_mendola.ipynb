{
 "cells": [
  {
   "cell_type": "markdown",
   "metadata": {},
   "source": [
    "<br>Le notebook présente les analyses de données scrappées sur le site https://fr.openfoodfacts.org/ <br/> L'organisation du notebook est la suivante: \n",
    "\n",
    "1. Scraping du site Openfoodfacts\n",
    "2. Nettoyage du dataset en vue des analyses des données\n",
    "<br/> 2.1. Transformation en variables numériques de certaines colonnes et nettoyage des variables catégorielles\n",
    "<br/> 2.2. Calcul du nombre de pays de ventes et du nombre d'additifs pour chaque produit.\n",
    "3. Analyses\n",
    "<br/> 3.1.  Distribution du nombre de produits par catégorie Nutri Score, Nova et Eco score.(100 possibilités)\n",
    "<br/> 3.2. Liste des produits ayant “gluten free” optimaux (Nutri score A, Nova 1 et Ecoscore A\n",
    "<br/> 3.3. Nombre de produit dont le ratio sucre/produit est supérieur à 0.6\n",
    "<br/> 3.4. Liste des produits dont le nombre de calories pour 100g est supérieur à 500.\n",
    "<br/> 3.5. Liste des produits contenant de l’huile de palme, vendu en France et en Belgique\n",
    "<br/> 3.6. Distribution des produits par nombre de pays de vente\n",
    "<br/> 3.7. Est-ce que tous les produits du site sont vendus en France ?\n",
    "<br/> 3.8. L'écoscore est-il sensible au nombre de pays de vente?\n",
    "<br/> 3.9. Les produits végétariens, végétaliens sont ils dans l'ensemble très transformés ?\n",
    "<br/> 3.10. Quels sont les 20 produits végétariens contenant le plus d'additifs? \n"
   ]
  },
  {
   "cell_type": "markdown",
   "metadata": {},
   "source": [
    "# 1. Scraping du site Openfoodfacts\n"
   ]
  },
  {
   "cell_type": "code",
   "execution_count": 1,
   "metadata": {},
   "outputs": [],
   "source": [
    "import opfoodfact  "
   ]
  },
  {
   "cell_type": "code",
   "execution_count": 3,
   "metadata": {},
   "outputs": [
    {
     "name": "stdout",
     "output_type": "stream",
     "text": [
      "temps d'exécution:  42538.536375284195  sec\n"
     ]
    }
   ],
   "source": [
    "#data=opfoodfact.scrap_opfoodfacts(800)  "
   ]
  },
  {
   "cell_type": "markdown",
   "metadata": {},
   "source": [
    "Temps d'exécution : 42538 secondes soit 11.8 heures pour 800 pages scrapées, autrement dit 53 secondes par page. <br/> Les données sont scrapées à partir de la 2e page du site (erreur sur un début de boucle qui a été corrigée dans le programme openfoodfact.py)"
   ]
  },
  {
   "cell_type": "code",
   "execution_count": 17,
   "metadata": {},
   "outputs": [
    {
     "data": {
      "text/plain": [
       "(80000, 31)"
      ]
     },
     "execution_count": 17,
     "metadata": {},
     "output_type": "execute_result"
    }
   ],
   "source": [
    "data.shape  #80 000 produits "
   ]
  },
  {
   "cell_type": "markdown",
   "metadata": {},
   "source": [
    "Les 26 champs demandés sur le sujet on été récupéré. Nous avons scrappé en plus :\n",
    "* Les vitamines et minéraux ajoutés\n",
    "* Les étiquettes vertes rouges ou oranges correspondant auc mentions huile de palme/végétarien/végétalien."
   ]
  },
  {
   "cell_type": "code",
   "execution_count": 337,
   "metadata": {},
   "outputs": [],
   "source": [
    "#data.to_csv('data.csv',index=False,sep=';')  #export du dataset en un fichier csv"
   ]
  },
  {
   "cell_type": "markdown",
   "metadata": {},
   "source": [
    "# 2. Nettoyage du dataset en vue des analyses de données"
   ]
  },
  {
   "cell_type": "code",
   "execution_count": 66,
   "metadata": {},
   "outputs": [],
   "source": [
    "import matplotlib.pyplot as plt\n",
    "import seaborn as sns\n",
    "import numpy as np\n",
    "import pandas as pd\n",
    "\n",
    "#options d'affichage des dataframe\n",
    "pd.set_option(\"display.max_columns\", 36)\n",
    "pd.set_option(\"display.max_colwidth\", 100)\n"
   ]
  },
  {
   "cell_type": "code",
   "execution_count": 67,
   "metadata": {},
   "outputs": [],
   "source": [
    "#Récupération du dataset\n",
    "data=pd.read_csv('data.csv',sep=';')  "
   ]
  },
  {
   "cell_type": "code",
   "execution_count": 68,
   "metadata": {},
   "outputs": [
    {
     "data": {
      "text/plain": [
       "(80000, 31)"
      ]
     },
     "execution_count": 68,
     "metadata": {},
     "output_type": "execute_result"
    }
   ],
   "source": [
    "data.shape"
   ]
  },
  {
   "cell_type": "code",
   "execution_count": 69,
   "metadata": {},
   "outputs": [
    {
     "name": "stdout",
     "output_type": "stream",
     "text": [
      "<class 'pandas.core.frame.DataFrame'>\n",
      "RangeIndex: 80000 entries, 0 to 79999\n",
      "Data columns (total 31 columns):\n",
      " #   Column                                          Non-Null Count  Dtype \n",
      "---  ------                                          --------------  ----- \n",
      " 0   nom                                             80000 non-null  object\n",
      " 1   URL                                             80000 non-null  object\n",
      " 2   code bar                                        80000 non-null  object\n",
      " 3   nutrtri-score                                   80000 non-null  object\n",
      " 4   nova                                            80000 non-null  object\n",
      " 5   ecoscore                                        80000 non-null  object\n",
      " 6   quantite                                        79998 non-null  object\n",
      " 7   conditionnement                                 80000 non-null  object\n",
      " 8   marques                                         80000 non-null  object\n",
      " 9   categorie                                       80000 non-null  object\n",
      " 10  label,certifications,récompenses                80000 non-null  object\n",
      " 11  origine                                         80000 non-null  object\n",
      " 12  lieu de fabrication                             80000 non-null  object\n",
      " 13  code de traçabilité                             80000 non-null  object\n",
      " 14  lien vers la page du produit                    80000 non-null  object\n",
      " 15  magasins                                        80000 non-null  object\n",
      " 16  pays de vente                                   80000 non-null  object\n",
      " 17  additifs                                        80000 non-null  object\n",
      " 18  ingrédients issus de l'huile de palme           80000 non-null  object\n",
      " 19  vitamines ajoutées                              80000 non-null  object\n",
      " 20  minéraux ajoutés                                80000 non-null  object\n",
      " 21  matières grasses/lipides pour 100g              80000 non-null  object\n",
      " 22  acides gras saturés pour 100g                   80000 non-null  object\n",
      " 23  sucres pour 100g                                80000 non-null  object\n",
      " 24  sel pour 100g                                   80000 non-null  object\n",
      " 25  catégories aux repères nutritionels similaires  80000 non-null  object\n",
      " 26  énergie en kj                                   80000 non-null  object\n",
      " 27  énergie en kcal                                 80000 non-null  object\n",
      " 28  libellés vert                                   80000 non-null  object\n",
      " 29  libellés orange                                 80000 non-null  object\n",
      " 30  libellés rouge                                  80000 non-null  object\n",
      "dtypes: object(31)\n",
      "memory usage: 18.9+ MB\n"
     ]
    }
   ],
   "source": [
    "data.info()"
   ]
  },
  {
   "cell_type": "code",
   "execution_count": 70,
   "metadata": {},
   "outputs": [],
   "source": [
    "# correction des noms de certaines colonnes\n",
    "data.rename(columns={'nutrtri-score' : 'nutriscore','libellés vert':'libellés verts','libellés orange':'libellés oranges',\\\n",
    "                    'libellés rouge':'libellés rouges','énergie en kj':'énergie en kj pour 100g',\\\n",
    "                    'énergie en kcal':'énergie en kcal pour 100g'},inplace=True) "
   ]
  },
  {
   "cell_type": "code",
   "execution_count": 71,
   "metadata": {},
   "outputs": [
    {
     "data": {
      "text/plain": [
       "Index(['nom', 'URL', 'code bar', 'nutriscore', 'nova', 'ecoscore', 'quantite',\n",
       "       'conditionnement', 'marques', 'categorie',\n",
       "       'label,certifications,récompenses', 'origine', 'lieu de fabrication',\n",
       "       'code de traçabilité', 'lien vers la page du produit', 'magasins',\n",
       "       'pays de vente', 'additifs', 'ingrédients issus de l'huile de palme',\n",
       "       'vitamines ajoutées', 'minéraux ajoutés',\n",
       "       'matières grasses/lipides pour 100g', 'acides gras saturés pour 100g',\n",
       "       'sucres pour 100g', 'sel pour 100g',\n",
       "       'catégories aux repères nutritionels similaires',\n",
       "       'énergie en kj pour 100g', 'énergie en kcal pour 100g',\n",
       "       'libellés verts', 'libellés oranges', 'libellés rouges'],\n",
       "      dtype='object')"
      ]
     },
     "execution_count": 71,
     "metadata": {},
     "output_type": "execute_result"
    }
   ],
   "source": [
    "data.columns"
   ]
  },
  {
   "cell_type": "markdown",
   "metadata": {},
   "source": [
    "### 2. 1. Transformation en variables numériques de certaines variables et nettoyage des variables catégorielles"
   ]
  },
  {
   "cell_type": "code",
   "execution_count": 72,
   "metadata": {},
   "outputs": [],
   "source": [
    "def clean(var):\n",
    "    y=var.strip().strip(',').replace(\"kcal\",\"\").replace(\"g\",\"\").replace(\"kj\",\"\").replace('\\xa0','').replace('?','').replace(' ','')\n",
    "    return y\n",
    "\n",
    "def tofloat(x):\n",
    "    try:\n",
    "        y=float(x)\n",
    "    except:\n",
    "        y=np.nan\n",
    "    return y\n",
    "\n",
    "# on transforme les colonnes donnant les quantités pour 100g de matières grasses/lipides,sucres,sel et acides gras saturés en appliquant \n",
    "#les deux fonctions précédents. \n",
    "for i in [21,22,23,24,26,27]:\n",
    "    col=data.columns[i]\n",
    "    data[col]=data[col].transform(clean).transform(tofloat)\n",
    "\n",
    "# on nettoie les colonnes de type object (on supprime la virgule et les espaces à la fin du texte)\n",
    "for i in range(len(data.columns)):\n",
    "    col=data.columns[i]\n",
    "    if data[col].dtypes==object : \n",
    "        data[col]=data[col].str.strip(' ')\n",
    "        data[col]=data[col].str.strip(',')"
   ]
  },
  {
   "cell_type": "markdown",
   "metadata": {},
   "source": [
    "### 2.2. Nettoyage du nombre de pays de ventes en vue de mieux répondre à la question "
   ]
  },
  {
   "cell_type": "markdown",
   "metadata": {},
   "source": [
    "On remarque que certains pays peuvent être présents plusieurs fois, en plusieurs langues. On tente un nettoyage de la colonne pays de vente.  "
   ]
  },
  {
   "cell_type": "code",
   "execution_count": 73,
   "metadata": {},
   "outputs": [
    {
     "data": {
      "text/plain": [
       "'France, Maroc, Espagne, Suisse, en:Alemania, en:Egipto, en:Francia, en:Suiza'"
      ]
     },
     "execution_count": 73,
     "metadata": {},
     "output_type": "execute_result"
    }
   ],
   "source": [
    "data['pays de vente'][33]"
   ]
  },
  {
   "cell_type": "code",
   "execution_count": 74,
   "metadata": {},
   "outputs": [
    {
     "data": {
      "text/plain": [
       "'https://fr.openfoodfacts.org//produit/3161711001971/caprice-des-dieux'"
      ]
     },
     "execution_count": 74,
     "metadata": {},
     "output_type": "execute_result"
    }
   ],
   "source": [
    "data.iloc[33,1]"
   ]
  },
  {
   "cell_type": "code",
   "execution_count": 75,
   "metadata": {},
   "outputs": [
    {
     "data": {
      "text/plain": [
       "['Suisse',\n",
       " 'France',\n",
       " 'en:Suisse',\n",
       " 'Francia',\n",
       " 'Frankreich',\n",
       " 'Royaume-Uni',\n",
       " 'La Réunion',\n",
       " 'en:Suiza',\n",
       " 'Espagne',\n",
       " 'Maroc',\n",
       " 'Thaïlande',\n",
       " 'Guadeloupe',\n",
       " 'États-Unis',\n",
       " 'en:en',\n",
       " 'en:Reino Unido',\n",
       " 'Suiza',\n",
       " 'en:Belgique',\n",
       " 'Allemagne',\n",
       " 'Polynésie française',\n",
       " 'Schweiz',\n",
       " 'Martinique',\n",
       " 'Luxembourg',\n",
       " 'Italie',\n",
       " 'Japon',\n",
       " 'Pays-Bas',\n",
       " 'de:Allemagne',\n",
       " 'Uruguay',\n",
       " 'en:Slovenie',\n",
       " 'Marruecos',\n",
       " 'Σερβία',\n",
       " 'Pologne',\n",
       " 'en:Ungarn',\n",
       " 'Nouvelle-Calédonie',\n",
       " 'en:Francia',\n",
       " 'Suède',\n",
       " 'Mexique',\n",
       " 'en:Belgica',\n",
       " 'Guadalupe',\n",
       " 'Sénégal',\n",
       " 'en:Wybrzeże Kości Słoniowej',\n",
       " 'en:Suède',\n",
       " 'Inde',\n",
       " 'Portugal',\n",
       " 'es:Espagne',\n",
       " 'en:Spanyolország',\n",
       " 'en:Vereinigtes Königreich',\n",
       " 'Spagna',\n",
       " 'Serbie',\n",
       " 'Frankrijk',\n",
       " 'Galmudug',\n",
       " 'en:slowenien',\n",
       " 'Spanien',\n",
       " 'de:Suiza',\n",
       " 'en:Allemagne',\n",
       " 'pt:Marruecos',\n",
       " 'Tunisie',\n",
       " 'en:suisse',\n",
       " 'en:États-Unis',\n",
       " 'en:Γαλλία',\n",
       " 'en:Espagne',\n",
       " 'en:Frankreich',\n",
       " 'Guyane',\n",
       " 'es:Spanje',\n",
       " 'de:La Réunion',\n",
       " 'Hongrie',\n",
       " 'es:Pays-Bas',\n",
       " 'Roumanie',\n",
       " 'Dom-tom',\n",
       " 'Gabon',\n",
       " 'en:Royaume-Uni',\n",
       " 'Turquie',\n",
       " 'DOM TOM',\n",
       " 'en:Schweiz',\n",
       " 'Émirats arabes unis',\n",
       " 'Liban',\n",
       " 'en:Maroc',\n",
       " 'Maurice',\n",
       " 'nl:Belgique',\n",
       " 'Jordanie',\n",
       " 'Russie',\n",
       " 'Monaco',\n",
       " 'Grèce',\n",
       " 'Singapour',\n",
       " 'Zwitserland',\n",
       " 'Hong Kong',\n",
       " 'en:maroc',\n",
       " 'en:suiza',\n",
       " 'Marokko',\n",
       " 'Arabie saoudite',\n",
       " 'Afrique du Sud',\n",
       " 'Slovénie',\n",
       " 'Saint-Pierre-et-Miquelon',\n",
       " 'Deutschland',\n",
       " 'lb:Belgique',\n",
       " 'en:Szwajcaria',\n",
       " 'es:França',\n",
       " 'Vereinigtes Königreich',\n",
       " 'Polska',\n",
       " 'paysan-breton-les-surgeles',\n",
       " 'Irlande',\n",
       " 'Togo',\n",
       " 'en:Pays-Bas',\n",
       " 'es:Španělsko',\n",
       " 'en:Deutschland',\n",
       " 'Norvège',\n",
       " 'Kazakhstan',\n",
       " 'en:allemagne',\n",
       " 'Bélgica',\n",
       " 'es:Suisse',\n",
       " 'es:Mexique',\n",
       " 'Belgien',\n",
       " 'Mayotte',\n",
       " 'Taiwan',\n",
       " 'en:Albanie',\n",
       " 'de:Danemark',\n",
       " 'en:Niederlande',\n",
       " 'België',\n",
       " 'Slovaquie',\n",
       " 'it:Italien',\n",
       " 'Saint-Martin',\n",
       " 'de:autriche',\n",
       " 'Niederlande',\n",
       " 'en:Zambia - English',\n",
       " 'en:Thaïlande',\n",
       " 'Nouvelle-Zélande',\n",
       " '(100 produits)',\n",
       " 'it:Bélgica',\n",
       " 'de:allemagne',\n",
       " 'en:Spagna',\n",
       " 'en:En',\n",
       " 'Nigeria',\n",
       " 'en:Singapour',\n",
       " 'Qatar',\n",
       " 'en:Nouvelle-Zélande',\n",
       " 'Panama',\n",
       " 'Svizzera',\n",
       " 'Guinée',\n",
       " 'es:Afrique du Sud',\n",
       " 'de:Großbritannien',\n",
       " 'Viêt Nam',\n",
       " 'es:Spanien',\n",
       " 'Israël',\n",
       " 'en:Alemania',\n",
       " 'pt:Espagne',\n",
       " 'Madagascar',\n",
       " 'en:Irlande',\n",
       " 'Koweït',\n",
       " 'Macao',\n",
       " 'en:Pologne',\n",
       " 'Malte',\n",
       " 'de:Autriche',\n",
       " 'Île de Man',\n",
       " 'it:En',\n",
       " 'en:Mexique',\n",
       " 'Philippines',\n",
       " 'Iran',\n",
       " 'en:Sverige',\n",
       " 'Géorgie',\n",
       " 'Sverige',\n",
       " 'cs:République tchèque',\n",
       " 'Polonia',\n",
       " 'Somalie',\n",
       " 'Zambie',\n",
       " 'Malaisie',\n",
       " 'Ghana',\n",
       " 'Irak',\n",
       " 'Ukraine',\n",
       " 'Jersey',\n",
       " 'Libye',\n",
       " 'Mauritanie',\n",
       " 'xxx']"
      ]
     },
     "execution_count": 75,
     "metadata": {},
     "output_type": "execute_result"
    }
   ],
   "source": [
    "#on crée la liste de l'ensemble des mots apparaissant dans 'pays de vente'\n",
    "liste=[]\n",
    "for i, var in enumerate(data['pays de vente']):\n",
    "    \n",
    "    pays=var.split(',')\n",
    "    \n",
    "    for elt in pays:\n",
    "        elt=elt.strip()\n",
    "    if elt not in liste:\n",
    "        liste.append(elt)\n",
    "        \n",
    "liste"
   ]
  },
  {
   "cell_type": "code",
   "execution_count": 76,
   "metadata": {},
   "outputs": [],
   "source": [
    "#Grâce à la liste précédente,on nettoie la colonne pays de vente:"
   ]
  },
  {
   "cell_type": "code",
   "execution_count": 77,
   "metadata": {},
   "outputs": [],
   "source": [
    "data['pays de vente']=data['pays de vente'].str.replace('..:','')\n",
    "data['pays de vente']=data['pays de vente'].str.replace('(é|è|É)','e')\n",
    "data['pays de vente']=data['pays de vente'].str.replace('-','',regex=False)\n",
    "data['pays de vente']=data['pays de vente'].str.replace('Arabia Saudita','Arabie saoudite',regex=False)\n",
    "data['pays de vente']=data['pays de vente'].str.replace('Czarnogóra','Montenegro')\n"
   ]
  },
  {
   "cell_type": "code",
   "execution_count": 78,
   "metadata": {},
   "outputs": [
    {
     "name": "stdout",
     "output_type": "stream",
     "text": [
      "364.9883096218109\n"
     ]
    }
   ],
   "source": [
    "import time\n",
    "import re\n",
    "liste=[]\n",
    "start=time.time()\n",
    "\n",
    "for i, var in enumerate(data['pays de vente']):\n",
    "    pays=var.split(',')\n",
    "    \n",
    "    for elt in pays:\n",
    "        elt=elt.strip()\n",
    "        \n",
    "        if re.search(r'(Paysan|Breton|land|en|100|Deutsch|English|Español|Loire|gourmand)',elt,re.IGNORECASE) :\n",
    "            data.loc[i,'pays de vente']=data.loc[i,'pays de vente'].replace(elt,'')\n",
    "            elt=''\n",
    "        \n",
    "        if re.search(r'(Duitsland|Germany|Alema|Allema)',elt,re.IGNORECASE):\n",
    "            data.loc[i,'pays de vente']=data.loc[i,'pays de vente'].replace(elt,'Allemagne')\n",
    "            elt='Allemagne'\n",
    "            \n",
    "\n",
    "        if re.search(r'^Austr',elt,re.IGNORECASE):\n",
    "            data.loc[i,'pays de vente']=data.loc[i,'pays de vente'].replace(elt,'Australie')\n",
    "            elt='Australie'\n",
    "            \n",
    "            \n",
    "        if re.search(r'(^Belgi|Βέλγιο)',elt,re.IGNORECASE) :\n",
    "            data.loc[i,'pays de vente']=data.loc[i,'pays de vente'].replace(elt,'Belgique')\n",
    "            elt='Belgique'\n",
    "            \n",
    "        elif re.search(r'^Boliv',elt,re.IGNORECASE) :\n",
    "            data.loc[i,'pays de vente']=data.loc[i,'pays de vente'].replace(elt,'Bolivie')\n",
    "            elt='Bolivie'\n",
    "        \n",
    "        elif re.search(r'^Bosni',elt,re.IGNORECASE) :\n",
    "            data.loc[i,'pays de vente']=data.loc[i,'pays de vente'].replace(elt,'Bosnie Herzegovine')\n",
    "            elt='Bosnie Herzegovine'\n",
    "        \n",
    "        elif re.search(r'Br',elt,re.IGNORECASE) :\n",
    "            data.loc[i,'pays de vente']=data.loc[i,'pays de vente'].replace(elt,'Bresil')\n",
    "            elt='Bresil'\n",
    "            \n",
    "        elif re.search(r'^Bulgar',elt,re.IGNORECASE) :\n",
    "            data.loc[i,'pays de vente']=data.loc[i,'pays de vente'].replace(elt,'Bulgarie')\n",
    "            elt='Bulgarie'\n",
    "        elif re.search(r'^Cambodia',elt,re.IGNORECASE) :\n",
    "            data.loc[i,'pays de vente']=data.loc[i,'pays de vente'].replace(elt,'Cambodge')\n",
    "            elt='Cambodge'\n",
    "        elif re.search(r'^Canada',elt,re.IGNORECASE) :\n",
    "            data.loc[i,'pays de vente']=data.loc[i,'pays de vente'].replace(elt,'Canada')\n",
    "            elt='Canada'\n",
    "        elif re.search(r'^Chil',elt,re.IGNORECASE) :\n",
    "            data.loc[i,'pays de vente']=data.loc[i,'pays de vente'].replace(elt,'Chili')\n",
    "            elt='Chili'\n",
    "        elif re.search(r'^Chin',elt,re.IGNORECASE) :\n",
    "            data.loc[i,'pays de vente']=data.loc[i,'pays de vente'].replace(elt,'Chine')\n",
    "            elt='Chine'\n",
    "        elif re.search(r'(^Chypr|Cyprus)',elt,re.IGNORECASE) :\n",
    "            data.loc[i,'pays de vente']=data.loc[i,'pays de vente'].replace(elt,'Chypre')\n",
    "            elt='Chypre'\n",
    "        elif re.search(r'(^Croat|Chorwacja)',elt,re.IGNORECASE) :\n",
    "            data.loc[i,'pays de vente']=data.loc[i,'pays de vente'].replace(elt,'Croatie')\n",
    "            elt='Croatie'\n",
    "        elif re.search(r'(^Czech|Tcheque)',elt,re.IGNORECASE) :\n",
    "            data.loc[i,'pays de vente']=data.loc[i,'pays de vente'].replace(elt,'Tchéquie')\n",
    "            elt='Tchéquie'\n",
    "        elif re.search(r'(^D.n.m|^D.nm)',elt,re.IGNORECASE) :\n",
    "            data.loc[i,'pays de vente']=data.loc[i,'pays de vente'].replace(elt,'Danemark')\n",
    "            elt='Danemark'\n",
    "        elif re.search(r'^DOM',elt,re.IGNORECASE) :\n",
    "            data.loc[i,'pays de vente']=data.loc[i,'pays de vente'].replace(elt,'DOM-TOM')\n",
    "            elt='DOM-TOM'\n",
    "        elif re.search(r'^Esp',elt,re.IGNORECASE) :\n",
    "            data.loc[i,'pays de vente']=data.loc[i,'pays de vente'].replace(elt,'Espagne')\n",
    "            elt='Espagne'\n",
    "        elif re.search(r'(^Fran.|Γαλλία)',elt,re.IGNORECASE) :\n",
    "            data.loc[i,'pays de vente']=data.loc[i,'pays de vente'].replace(elt,'France')\n",
    "            elt='France'\n",
    "        elif re.search(r'^Guad',elt,re.IGNORECASE) :\n",
    "            data.loc[i,'pays de vente']=data.loc[i,'pays de vente'].replace(elt,'Guadeloupe')\n",
    "            elt='Guadeloupe'\n",
    "        elif re.search(r'^Ital',elt,re.IGNORECASE) :\n",
    "            data.loc[i,'pays de vente']=data.loc[i,'pays de vente'].replace(elt,'Italie')\n",
    "            elt='Italie'\n",
    "        elif re.search(r'reunion',elt,re.IGNORECASE) :\n",
    "            data.loc[i,'pays de vente']=data.loc[i,'pays de vente'].replace(elt,'La Reunion')\n",
    "            elt='La Reunion'\n",
    "        elif re.search(r'^(Luks|Lux)',elt,re.IGNORECASE) :\n",
    "            data.loc[i,'pays de vente']=data.loc[i,'pays de vente'].replace(elt,'Luxembourg')\n",
    "            elt='Luxembourg'\n",
    "        elif re.search(r'(^Maro|Marruecos|Maroc)',elt,re.IGNORECASE) :\n",
    "            data.loc[i,'pays de vente']=data.loc[i,'pays de vente'].replace(elt,'Maroc')\n",
    "            elt='Maroc'\n",
    "            \n",
    "        elif re.search(r'Caledoni',elt,re.IGNORECASE) :\n",
    "            data.loc[i,'pays de vente']=data.loc[i,'pays de vente'].replace(elt,'Nouvelle Caledonie')\n",
    "            elt='Nouvelle Caledonie'\n",
    "        elif re.search(r'Pays',elt,re.IGNORECASE) and re.search(r'Bas',elt,re.IGNORECASE) :\n",
    "            data.loc[i,'pays de vente']=data.loc[i,'pays de vente'].replace(elt,'Pays-Bas')\n",
    "            elt='Pays-Bas'\n",
    "        \n",
    "        elif re.search(r'(Pol|Países Bajos|Polen)',elt,re.IGNORECASE) and not re.search(r'Poly',elt,re.IGNORECASE) :\n",
    "            data.loc[i,'pays de vente']=data.loc[i,'pays de vente'].replace(elt,'Pologne')\n",
    "            elt='Pologne'\n",
    "            \n",
    "        elif re.search(r'Polynesie',elt,re.IGNORECASE) :\n",
    "            data.loc[i,'pays de vente']=data.loc[i,'pays de vente'].replace(elt,'Polynesie française')\n",
    "            elt='Polynesie française'\n",
    "        elif re.search(r'royaume',elt,re.IGNORECASE) :\n",
    "            data.loc[i,'pays de vente']=data.loc[i,'pays de vente'].replace(elt,'Polynesie française')\n",
    "            elt='Polynesie française'\n",
    "        elif re.search(r'(royaume|united|Vereinigtes|reino)',elt,re.IGNORECASE) and re.search(r'(kingdom|Königreich|unido)',elt,re.IGNORECASE) : \n",
    "            data.loc[i,'pays de vente']=data.loc[i,'pays de vente'].replace(elt,'Royaume-Unis')\n",
    "            elt='Royaume-Unis'\n",
    "        \n",
    "        elif re.search(r'Rum',elt,re.IGNORECASE) :\n",
    "            data.loc[i,'pays de vente']=data.loc[i,'pays de vente'].replace(elt,'Roumanie')\n",
    "            elt='Roumanie'\n",
    "        \n",
    "        elif re.search(r'(^Grec|Σερβία|serb)',elt,re.IGNORECASE) :\n",
    "            data.loc[i,'pays de vente']=data.loc[i,'pays de vente'].replace(elt,'Serbie')\n",
    "            elt='Serbie'\n",
    "        elif re.search(r'(Schweiz|^Sui|Szwajcaria|Ελβετία)',elt,re.IGNORECASE) :\n",
    "            data.loc[i,'pays de vente']=data.loc[i,'pays de vente'].replace(elt,'Suisse')\n",
    "            elt='Suisse'\n",
    "        \n",
    "        elif re.search(r'(^spa|Hiszpania)',elt,re.IGNORECASE) :\n",
    "            data.loc[i,'pays de vente']=data.loc[i,'pays de vente'].replace(elt,'Espagne')\n",
    "            elt='Espagne'\n",
    "        elif re.search(r'ungar',elt,re.IGNORECASE) :\n",
    "            data.loc[i,'pays de vente']=data.loc[i,'pays de vente'].replace(elt,'Hongrie')\n",
    "            elt='Hongrie'\n",
    "            \n",
    "        elif re.search(r'(^Grec|Ελλάδα)',elt,re.IGNORECASE) :\n",
    "            data.loc[i,'pays de vente']=data.loc[i,'pays de vente'].replace(elt,'Grèce')\n",
    "            elt='Grèce'\n",
    "        elif re.search(r'(Estados Unidos|Etatsunis)',elt,re.IGNORECASE) :\n",
    "            data.loc[i,'pays de vente']=data.loc[i,'pays de vente'].replace(elt,'Etats-Unis')\n",
    "            elt='Etats-Unis'\n",
    "        elif re.search(r'europe',elt,re.IGNORECASE) :\n",
    "            data.loc[i,'pays de vente']=data.loc[i,'pays de vente'].replace(elt,'Europe')\n",
    "            elt='Europe'\n",
    "        elif re.search(r'Wybrzeże Kości Słoniowej',elt,re.IGNORECASE) :\n",
    "            data.loc[i,'pays de vente']=data.loc[i,'pays de vente'].replace(elt,'Cote d\\'Ivoire')\n",
    "            elt='Cote d\\'Ivoire'\n",
    "        elif re.search(r'^sue',elt,re.IGNORECASE) :\n",
    "            data.loc[i,'pays de vente']=data.loc[i,'pays de vente'].replace(elt,'Suede')\n",
    "            elt='Suede'\n",
    "        elif re.search(r'^eg',elt,re.IGNORECASE) :\n",
    "            data.loc[i,'pays de vente']=data.loc[i,'pays de vente'].replace(elt,'Egypte')\n",
    "            elt='Egypte'\n",
    "        elif re.search(r'^azerba',elt,re.IGNORECASE) :\n",
    "            data.loc[i,'pays de vente']=data.loc[i,'pays de vente'].replace(elt,'Azerbaidjan')\n",
    "            elt='Azerbaidjan'\n",
    "\n",
    "        if elt not in liste:\n",
    "            liste.append(elt)\n",
    "\n",
    "print(time.time()-start)"
   ]
  },
  {
   "cell_type": "markdown",
   "metadata": {},
   "source": [
    "### 2 c. Création des colonnes \"nombre de pays de vente\" et \"nombre d'additifs\""
   ]
  },
  {
   "cell_type": "code",
   "execution_count": 79,
   "metadata": {
    "scrolled": true
   },
   "outputs": [
    {
     "data": {
      "text/plain": [
       "'France, Maroc, Espagne, Suisse, Allemagne, Egypte, France, Suisse'"
      ]
     },
     "execution_count": 79,
     "metadata": {},
     "output_type": "execute_result"
    }
   ],
   "source": [
    "data['pays de vente'][33]"
   ]
  },
  {
   "cell_type": "code",
   "execution_count": 80,
   "metadata": {},
   "outputs": [],
   "source": [
    "#supression des doublons\n",
    "def suppr_dbl(x):\n",
    "    l=x.split(',')\n",
    "    l=[x.strip() for x in l]\n",
    "    lu=np.unique(l)\n",
    "    y=\", \".join(lu)\n",
    "    return y\n",
    "data['pays de vente']=data['pays de vente'].apply(suppr_dbl)"
   ]
  },
  {
   "cell_type": "code",
   "execution_count": 81,
   "metadata": {},
   "outputs": [
    {
     "data": {
      "text/plain": [
       "'Allemagne, Egypte, Espagne, France, Maroc, Suisse'"
      ]
     },
     "execution_count": 81,
     "metadata": {},
     "output_type": "execute_result"
    }
   ],
   "source": [
    "data['pays de vente'][33]"
   ]
  },
  {
   "cell_type": "code",
   "execution_count": 107,
   "metadata": {},
   "outputs": [],
   "source": [
    "#nombre de pays de vente :\n",
    "def nbpays(x) : \n",
    "    \"\"\"détermine le nombre de pays de ventes d'un produit\n",
    "    entrée : les pays de vente séparés par des virgules\n",
    "    sorties : nombre de pays de vente en type str dans les chasses 1, 2,3 ou 4+ \"\"\"\n",
    "    if x==\"xxx\" :\n",
    "        return \"xxx\"\n",
    "    elif x==\"\":\n",
    "        return '0'\n",
    "    elif len(x.split(','))>=4:\n",
    "        return '4+'\n",
    "    else:\n",
    "        return str(len(x.split(',')))\n",
    "\n",
    "def nbadd(x):\n",
    "    \"\"\"détermine le nombre d'additifs d'un produit\n",
    "    entrée : les additifs séparés par des virgules\n",
    "    sorties : nombre d'additifs en numeric \"\"\"\n",
    "    if x==\"xxx\":\n",
    "        return np.nan\n",
    "    elif x==\"\":\n",
    "        return 0\n",
    "    else:\n",
    "        return len(x.split(','))\n"
   ]
  },
  {
   "cell_type": "code",
   "execution_count": 108,
   "metadata": {},
   "outputs": [],
   "source": [
    "data['nb_pays_vente']=data['pays de vente'].apply(nbpays)\n",
    "data['nb_additifs']=data['additifs'].apply(nbadd)"
   ]
  },
  {
   "cell_type": "code",
   "execution_count": 109,
   "metadata": {},
   "outputs": [],
   "source": [
    "data.to_csv('data_cleaned.csv',sep=';')"
   ]
  },
  {
   "cell_type": "markdown",
   "metadata": {},
   "source": [
    "# 3.  Analyses"
   ]
  },
  {
   "cell_type": "code",
   "execution_count": 110,
   "metadata": {},
   "outputs": [],
   "source": [
    "import matplotlib.pyplot as plt\n",
    "import seaborn as sns\n",
    "import numpy as np\n",
    "import pandas as pd\n",
    "\n",
    "#options d'affichage des dataframe\n",
    "pd.set_option(\"display.max_columns\", 36)\n",
    "pd.set_option(\"display.max_colwidth\", 100)\n"
   ]
  },
  {
   "cell_type": "code",
   "execution_count": 111,
   "metadata": {},
   "outputs": [],
   "source": [
    "data=pd.read_csv('data_cleaned.csv',sep=';')"
   ]
  },
  {
   "cell_type": "code",
   "execution_count": 112,
   "metadata": {},
   "outputs": [
    {
     "data": {
      "text/plain": [
       "Index(['Unnamed: 0', 'Unnamed: 0.1', 'nom', 'URL', 'code bar', 'nutriscore',\n",
       "       'nova', 'ecoscore', 'quantite', 'conditionnement', 'marques',\n",
       "       'categorie', 'label,certifications,récompenses', 'origine',\n",
       "       'lieu de fabrication', 'code de traçabilité',\n",
       "       'lien vers la page du produit', 'magasins', 'pays de vente', 'additifs',\n",
       "       'ingrédients issus de l'huile de palme', 'vitamines ajoutées',\n",
       "       'minéraux ajoutés', 'matières grasses/lipides pour 100g',\n",
       "       'acides gras saturés pour 100g', 'sucres pour 100g', 'sel pour 100g',\n",
       "       'catégories aux repères nutritionels similaires',\n",
       "       'énergie en kj pour 100g', 'énergie en kcal pour 100g',\n",
       "       'libellés verts', 'libellés oranges', 'libellés rouges',\n",
       "       'nb_pays_vente', 'nb_additifs', 'huile de palme'],\n",
       "      dtype='object')"
      ]
     },
     "execution_count": 112,
     "metadata": {},
     "output_type": "execute_result"
    }
   ],
   "source": [
    "data.columns"
   ]
  },
  {
   "cell_type": "markdown",
   "metadata": {},
   "source": [
    "### 3.1. Distribution du nombre de produits par catégorie Nutri Score, Nova et Eco score.( 100 possibilités)"
   ]
  },
  {
   "cell_type": "code",
   "execution_count": 113,
   "metadata": {},
   "outputs": [
    {
     "data": {
      "text/html": [
       "<div>\n",
       "<style scoped>\n",
       "    .dataframe tbody tr th:only-of-type {\n",
       "        vertical-align: middle;\n",
       "    }\n",
       "\n",
       "    .dataframe tbody tr th {\n",
       "        vertical-align: top;\n",
       "    }\n",
       "\n",
       "    .dataframe thead tr th {\n",
       "        text-align: left;\n",
       "    }\n",
       "\n",
       "    .dataframe thead tr:last-of-type th {\n",
       "        text-align: right;\n",
       "    }\n",
       "</style>\n",
       "<table border=\"1\" class=\"dataframe\">\n",
       "  <thead>\n",
       "    <tr>\n",
       "      <th>nova</th>\n",
       "      <th colspan=\"6\" halign=\"left\">1</th>\n",
       "      <th colspan=\"6\" halign=\"left\">2</th>\n",
       "      <th colspan=\"6\" halign=\"left\">3</th>\n",
       "      <th colspan=\"6\" halign=\"left\">4</th>\n",
       "      <th colspan=\"6\" halign=\"left\">xxx</th>\n",
       "    </tr>\n",
       "    <tr>\n",
       "      <th>ecoscore</th>\n",
       "      <th>A</th>\n",
       "      <th>B</th>\n",
       "      <th>C</th>\n",
       "      <th>D</th>\n",
       "      <th>E</th>\n",
       "      <th>xxx</th>\n",
       "      <th>A</th>\n",
       "      <th>B</th>\n",
       "      <th>C</th>\n",
       "      <th>D</th>\n",
       "      <th>E</th>\n",
       "      <th>xxx</th>\n",
       "      <th>A</th>\n",
       "      <th>B</th>\n",
       "      <th>C</th>\n",
       "      <th>D</th>\n",
       "      <th>E</th>\n",
       "      <th>xxx</th>\n",
       "      <th>A</th>\n",
       "      <th>B</th>\n",
       "      <th>C</th>\n",
       "      <th>D</th>\n",
       "      <th>E</th>\n",
       "      <th>xxx</th>\n",
       "      <th>A</th>\n",
       "      <th>B</th>\n",
       "      <th>C</th>\n",
       "      <th>D</th>\n",
       "      <th>E</th>\n",
       "      <th>xxx</th>\n",
       "    </tr>\n",
       "    <tr>\n",
       "      <th>nutriscore</th>\n",
       "      <th></th>\n",
       "      <th></th>\n",
       "      <th></th>\n",
       "      <th></th>\n",
       "      <th></th>\n",
       "      <th></th>\n",
       "      <th></th>\n",
       "      <th></th>\n",
       "      <th></th>\n",
       "      <th></th>\n",
       "      <th></th>\n",
       "      <th></th>\n",
       "      <th></th>\n",
       "      <th></th>\n",
       "      <th></th>\n",
       "      <th></th>\n",
       "      <th></th>\n",
       "      <th></th>\n",
       "      <th></th>\n",
       "      <th></th>\n",
       "      <th></th>\n",
       "      <th></th>\n",
       "      <th></th>\n",
       "      <th></th>\n",
       "      <th></th>\n",
       "      <th></th>\n",
       "      <th></th>\n",
       "      <th></th>\n",
       "      <th></th>\n",
       "      <th></th>\n",
       "    </tr>\n",
       "  </thead>\n",
       "  <tbody>\n",
       "    <tr>\n",
       "      <th>A</th>\n",
       "      <td>508</td>\n",
       "      <td>1310</td>\n",
       "      <td>481</td>\n",
       "      <td>137</td>\n",
       "      <td>120</td>\n",
       "      <td>1009</td>\n",
       "      <td>0</td>\n",
       "      <td>1</td>\n",
       "      <td>1</td>\n",
       "      <td>3</td>\n",
       "      <td>0</td>\n",
       "      <td>0</td>\n",
       "      <td>726</td>\n",
       "      <td>1158</td>\n",
       "      <td>234</td>\n",
       "      <td>95</td>\n",
       "      <td>45</td>\n",
       "      <td>660</td>\n",
       "      <td>528</td>\n",
       "      <td>1179</td>\n",
       "      <td>284</td>\n",
       "      <td>217</td>\n",
       "      <td>128</td>\n",
       "      <td>1050</td>\n",
       "      <td>185</td>\n",
       "      <td>739</td>\n",
       "      <td>205</td>\n",
       "      <td>188</td>\n",
       "      <td>87</td>\n",
       "      <td>639</td>\n",
       "    </tr>\n",
       "    <tr>\n",
       "      <th>B</th>\n",
       "      <td>24</td>\n",
       "      <td>307</td>\n",
       "      <td>199</td>\n",
       "      <td>174</td>\n",
       "      <td>59</td>\n",
       "      <td>187</td>\n",
       "      <td>0</td>\n",
       "      <td>1</td>\n",
       "      <td>0</td>\n",
       "      <td>0</td>\n",
       "      <td>0</td>\n",
       "      <td>2</td>\n",
       "      <td>274</td>\n",
       "      <td>606</td>\n",
       "      <td>187</td>\n",
       "      <td>291</td>\n",
       "      <td>187</td>\n",
       "      <td>553</td>\n",
       "      <td>481</td>\n",
       "      <td>1203</td>\n",
       "      <td>703</td>\n",
       "      <td>590</td>\n",
       "      <td>381</td>\n",
       "      <td>1498</td>\n",
       "      <td>49</td>\n",
       "      <td>399</td>\n",
       "      <td>251</td>\n",
       "      <td>312</td>\n",
       "      <td>147</td>\n",
       "      <td>656</td>\n",
       "    </tr>\n",
       "    <tr>\n",
       "      <th>C</th>\n",
       "      <td>40</td>\n",
       "      <td>163</td>\n",
       "      <td>361</td>\n",
       "      <td>406</td>\n",
       "      <td>52</td>\n",
       "      <td>152</td>\n",
       "      <td>2</td>\n",
       "      <td>39</td>\n",
       "      <td>135</td>\n",
       "      <td>90</td>\n",
       "      <td>0</td>\n",
       "      <td>26</td>\n",
       "      <td>240</td>\n",
       "      <td>890</td>\n",
       "      <td>335</td>\n",
       "      <td>411</td>\n",
       "      <td>134</td>\n",
       "      <td>542</td>\n",
       "      <td>407</td>\n",
       "      <td>2017</td>\n",
       "      <td>1715</td>\n",
       "      <td>963</td>\n",
       "      <td>287</td>\n",
       "      <td>2034</td>\n",
       "      <td>68</td>\n",
       "      <td>545</td>\n",
       "      <td>497</td>\n",
       "      <td>661</td>\n",
       "      <td>166</td>\n",
       "      <td>686</td>\n",
       "    </tr>\n",
       "    <tr>\n",
       "      <th>D</th>\n",
       "      <td>10</td>\n",
       "      <td>65</td>\n",
       "      <td>103</td>\n",
       "      <td>53</td>\n",
       "      <td>24</td>\n",
       "      <td>85</td>\n",
       "      <td>78</td>\n",
       "      <td>123</td>\n",
       "      <td>36</td>\n",
       "      <td>47</td>\n",
       "      <td>13</td>\n",
       "      <td>34</td>\n",
       "      <td>134</td>\n",
       "      <td>1045</td>\n",
       "      <td>931</td>\n",
       "      <td>1032</td>\n",
       "      <td>288</td>\n",
       "      <td>453</td>\n",
       "      <td>236</td>\n",
       "      <td>1949</td>\n",
       "      <td>2138</td>\n",
       "      <td>1872</td>\n",
       "      <td>854</td>\n",
       "      <td>2058</td>\n",
       "      <td>60</td>\n",
       "      <td>633</td>\n",
       "      <td>535</td>\n",
       "      <td>689</td>\n",
       "      <td>305</td>\n",
       "      <td>837</td>\n",
       "    </tr>\n",
       "    <tr>\n",
       "      <th>E</th>\n",
       "      <td>1</td>\n",
       "      <td>10</td>\n",
       "      <td>34</td>\n",
       "      <td>13</td>\n",
       "      <td>3</td>\n",
       "      <td>48</td>\n",
       "      <td>1</td>\n",
       "      <td>0</td>\n",
       "      <td>76</td>\n",
       "      <td>135</td>\n",
       "      <td>130</td>\n",
       "      <td>55</td>\n",
       "      <td>28</td>\n",
       "      <td>211</td>\n",
       "      <td>340</td>\n",
       "      <td>374</td>\n",
       "      <td>86</td>\n",
       "      <td>197</td>\n",
       "      <td>52</td>\n",
       "      <td>514</td>\n",
       "      <td>1302</td>\n",
       "      <td>1889</td>\n",
       "      <td>1126</td>\n",
       "      <td>1961</td>\n",
       "      <td>11</td>\n",
       "      <td>135</td>\n",
       "      <td>336</td>\n",
       "      <td>343</td>\n",
       "      <td>215</td>\n",
       "      <td>675</td>\n",
       "    </tr>\n",
       "    <tr>\n",
       "      <th>xxx</th>\n",
       "      <td>231</td>\n",
       "      <td>332</td>\n",
       "      <td>67</td>\n",
       "      <td>80</td>\n",
       "      <td>127</td>\n",
       "      <td>336</td>\n",
       "      <td>238</td>\n",
       "      <td>285</td>\n",
       "      <td>12</td>\n",
       "      <td>10</td>\n",
       "      <td>6</td>\n",
       "      <td>2</td>\n",
       "      <td>30</td>\n",
       "      <td>180</td>\n",
       "      <td>250</td>\n",
       "      <td>66</td>\n",
       "      <td>10</td>\n",
       "      <td>189</td>\n",
       "      <td>473</td>\n",
       "      <td>482</td>\n",
       "      <td>332</td>\n",
       "      <td>218</td>\n",
       "      <td>67</td>\n",
       "      <td>3225</td>\n",
       "      <td>158</td>\n",
       "      <td>746</td>\n",
       "      <td>298</td>\n",
       "      <td>207</td>\n",
       "      <td>172</td>\n",
       "      <td>8448</td>\n",
       "    </tr>\n",
       "  </tbody>\n",
       "</table>\n",
       "</div>"
      ],
      "text/plain": [
       "nova          1                               2                            3  \\\n",
       "ecoscore      A     B    C    D    E   xxx    A    B    C    D    E xxx    A   \n",
       "nutriscore                                                                     \n",
       "A           508  1310  481  137  120  1009    0    1    1    3    0   0  726   \n",
       "B            24   307  199  174   59   187    0    1    0    0    0   2  274   \n",
       "C            40   163  361  406   52   152    2   39  135   90    0  26  240   \n",
       "D            10    65  103   53   24    85   78  123   36   47   13  34  134   \n",
       "E             1    10   34   13    3    48    1    0   76  135  130  55   28   \n",
       "xxx         231   332   67   80  127   336  238  285   12   10    6   2   30   \n",
       "\n",
       "nova                                     4                                xxx  \\\n",
       "ecoscore       B    C     D    E  xxx    A     B     C     D     E   xxx    A   \n",
       "nutriscore                                                                      \n",
       "A           1158  234    95   45  660  528  1179   284   217   128  1050  185   \n",
       "B            606  187   291  187  553  481  1203   703   590   381  1498   49   \n",
       "C            890  335   411  134  542  407  2017  1715   963   287  2034   68   \n",
       "D           1045  931  1032  288  453  236  1949  2138  1872   854  2058   60   \n",
       "E            211  340   374   86  197   52   514  1302  1889  1126  1961   11   \n",
       "xxx          180  250    66   10  189  473   482   332   218    67  3225  158   \n",
       "\n",
       "nova                                  \n",
       "ecoscore      B    C    D    E   xxx  \n",
       "nutriscore                            \n",
       "A           739  205  188   87   639  \n",
       "B           399  251  312  147   656  \n",
       "C           545  497  661  166   686  \n",
       "D           633  535  689  305   837  \n",
       "E           135  336  343  215   675  \n",
       "xxx         746  298  207  172  8448  "
      ]
     },
     "execution_count": 113,
     "metadata": {},
     "output_type": "execute_result"
    }
   ],
   "source": [
    "#effectifs par nutriscore, nova, ecoscore\n",
    "pd.crosstab(data['nutriscore'], [data['nova'], data['ecoscore']])\n",
    " "
   ]
  },
  {
   "cell_type": "code",
   "execution_count": 114,
   "metadata": {},
   "outputs": [],
   "source": [
    "dh=pd.crosstab(data['nutriscore'], [data['nova'], data['ecoscore']],normalize=True)\n",
    "dh=np.round(dh,4)*100  #obtenir les proportions en %"
   ]
  },
  {
   "cell_type": "code",
   "execution_count": 115,
   "metadata": {},
   "outputs": [
    {
     "data": {
      "image/png": "[encoded data removed]",
      "text/plain": [
       "<Figure size 1440x720 with 2 Axes>"
      ]
     },
     "metadata": {
      "needs_background": "light"
     },
     "output_type": "display_data"
    }
   ],
   "source": [
    "dh=pd.crosstab(data['nutriscore'], [data['nova'], data['ecoscore']],normalize=True)\n",
    "dh=np.round(dh,4)*100  #obtenir les proportions en %\n",
    "# visualisation avec heatmap\n",
    "plt.figure(figsize=(20,10))\n",
    "ax=plt.axes()\n",
    "sns.heatmap(dh,cmap='magma_r',linewidths=0.01,xticklabels=1,annot=True,fmt='g',center=6)\n",
    "ax.set_title('Distribution en pourcentage du nombre de produits par nutriscore, nova et écoscore')\n",
    "plt.show()"
   ]
  },
  {
   "cell_type": "markdown",
   "metadata": {},
   "source": [
    "10,6 % des produits du dataset n'ont aucune indication nutriscore, nova ni eco-score. <br/>\n",
    "On remarque particulièrement la faible proportion de produits qui ont un nova à 2, ainsi que la plus forte présence de produits de nova 4 avec un nutriscore D ou E.   "
   ]
  },
  {
   "cell_type": "markdown",
   "metadata": {},
   "source": [
    "### 2. Liste des produits ayant “gluten free” optimaux (Nutri score A, Nova 1 et Ecoscore A)"
   ]
  },
  {
   "cell_type": "code",
   "execution_count": 116,
   "metadata": {},
   "outputs": [
    {
     "name": "stderr",
     "output_type": "stream",
     "text": [
      "C:\\Users\\celine\\anaconda3\\lib\\site-packages\\pandas\\core\\strings.py:1954: UserWarning: This pattern has match groups. To actually get the groups, use str.extract.\n",
      "  return func(self, *args, **kwargs)\n"
     ]
    },
    {
     "data": {
      "text/html": [
       "<div>\n",
       "<style scoped>\n",
       "    .dataframe tbody tr th:only-of-type {\n",
       "        vertical-align: middle;\n",
       "    }\n",
       "\n",
       "    .dataframe tbody tr th {\n",
       "        vertical-align: top;\n",
       "    }\n",
       "\n",
       "    .dataframe thead th {\n",
       "        text-align: right;\n",
       "    }\n",
       "</style>\n",
       "<table border=\"1\" class=\"dataframe\">\n",
       "  <thead>\n",
       "    <tr style=\"text-align: right;\">\n",
       "      <th></th>\n",
       "      <th>Unnamed: 0</th>\n",
       "      <th>Unnamed: 0.1</th>\n",
       "      <th>nom</th>\n",
       "      <th>URL</th>\n",
       "      <th>code bar</th>\n",
       "      <th>nutriscore</th>\n",
       "      <th>nova</th>\n",
       "      <th>ecoscore</th>\n",
       "      <th>quantite</th>\n",
       "      <th>conditionnement</th>\n",
       "      <th>marques</th>\n",
       "      <th>categorie</th>\n",
       "      <th>label,certifications,récompenses</th>\n",
       "      <th>origine</th>\n",
       "      <th>lieu de fabrication</th>\n",
       "      <th>code de traçabilité</th>\n",
       "      <th>lien vers la page du produit</th>\n",
       "      <th>magasins</th>\n",
       "      <th>pays de vente</th>\n",
       "      <th>additifs</th>\n",
       "      <th>ingrédients issus de l'huile de palme</th>\n",
       "      <th>vitamines ajoutées</th>\n",
       "      <th>minéraux ajoutés</th>\n",
       "      <th>matières grasses/lipides pour 100g</th>\n",
       "      <th>acides gras saturés pour 100g</th>\n",
       "      <th>sucres pour 100g</th>\n",
       "      <th>sel pour 100g</th>\n",
       "      <th>catégories aux repères nutritionels similaires</th>\n",
       "      <th>énergie en kj pour 100g</th>\n",
       "      <th>énergie en kcal pour 100g</th>\n",
       "      <th>libellés verts</th>\n",
       "      <th>libellés oranges</th>\n",
       "      <th>libellés rouges</th>\n",
       "      <th>nb_pays_vente</th>\n",
       "      <th>nb_additifs</th>\n",
       "      <th>huile de palme</th>\n",
       "    </tr>\n",
       "  </thead>\n",
       "  <tbody>\n",
       "    <tr>\n",
       "      <th>1569</th>\n",
       "      <td>1569</td>\n",
       "      <td>1569</td>\n",
       "      <td>Tartines craquantes bio au sarrasin sans gluten - Le Pain des Fleurs - 150 g</td>\n",
       "      <td>https://fr.openfoodfacts.org//produit/3380380046940/tartines-craquantes-bio-au-sarrasin-sans-glu...</td>\n",
       "      <td>3380380046940</td>\n",
       "      <td>A</td>\n",
       "      <td>1</td>\n",
       "      <td>A</td>\n",
       "      <td>150 g</td>\n",
       "      <td>Carton</td>\n",
       "      <td>Le Pain des Fleurs</td>\n",
       "      <td>Aliments et boissons à base de végétaux, Aliments d'origine végétale, Céréales et pommes de terr...</td>\n",
       "      <td>Peu ou pas de sel, Peu ou pas de sucre, Bio, Végétarien, Sans gluten, Végétalien, Fabriqué en Fr...</td>\n",
       "      <td>xxx</td>\n",
       "      <td>xxx</td>\n",
       "      <td>xxx</td>\n",
       "      <td>https://fr.openfoodfacts.org/eco-score-l-impact-environnemental-des-produits-alimentaires</td>\n",
       "      <td>xxx</td>\n",
       "      <td>Belgique, France</td>\n",
       "      <td>xxx</td>\n",
       "      <td>xxx</td>\n",
       "      <td>xxx</td>\n",
       "      <td>xxx</td>\n",
       "      <td>2.7</td>\n",
       "      <td>0.6</td>\n",
       "      <td>1.7</td>\n",
       "      <td>0.0</td>\n",
       "      <td>Tartines craquantes</td>\n",
       "      <td>1642.0</td>\n",
       "      <td>388.0</td>\n",
       "      <td>Sans huile de palme, Végétalien, Végétarien</td>\n",
       "      <td>xxx</td>\n",
       "      <td>xxx</td>\n",
       "      <td>2</td>\n",
       "      <td>NaN</td>\n",
       "      <td>xxx</td>\n",
       "    </tr>\n",
       "  </tbody>\n",
       "</table>\n",
       "</div>"
      ],
      "text/plain": [
       "      Unnamed: 0  Unnamed: 0.1  \\\n",
       "1569        1569          1569   \n",
       "\n",
       "                                                                               nom  \\\n",
       "1569  Tartines craquantes bio au sarrasin sans gluten - Le Pain des Fleurs - 150 g   \n",
       "\n",
       "                                                                                                      URL  \\\n",
       "1569  https://fr.openfoodfacts.org//produit/3380380046940/tartines-craquantes-bio-au-sarrasin-sans-glu...   \n",
       "\n",
       "           code bar nutriscore nova ecoscore quantite conditionnement  \\\n",
       "1569  3380380046940          A    1        A    150 g          Carton   \n",
       "\n",
       "                 marques  \\\n",
       "1569  Le Pain des Fleurs   \n",
       "\n",
       "                                                                                                categorie  \\\n",
       "1569  Aliments et boissons à base de végétaux, Aliments d'origine végétale, Céréales et pommes de terr...   \n",
       "\n",
       "                                                                         label,certifications,récompenses  \\\n",
       "1569  Peu ou pas de sel, Peu ou pas de sucre, Bio, Végétarien, Sans gluten, Végétalien, Fabriqué en Fr...   \n",
       "\n",
       "     origine lieu de fabrication code de traçabilité  \\\n",
       "1569     xxx                 xxx                 xxx   \n",
       "\n",
       "                                                                   lien vers la page du produit  \\\n",
       "1569  https://fr.openfoodfacts.org/eco-score-l-impact-environnemental-des-produits-alimentaires   \n",
       "\n",
       "     magasins     pays de vente additifs  \\\n",
       "1569      xxx  Belgique, France      xxx   \n",
       "\n",
       "     ingrédients issus de l'huile de palme vitamines ajoutées  \\\n",
       "1569                                   xxx                xxx   \n",
       "\n",
       "     minéraux ajoutés  matières grasses/lipides pour 100g  \\\n",
       "1569              xxx                                 2.7   \n",
       "\n",
       "      acides gras saturés pour 100g  sucres pour 100g  sel pour 100g  \\\n",
       "1569                            0.6               1.7            0.0   \n",
       "\n",
       "     catégories aux repères nutritionels similaires  énergie en kj pour 100g  \\\n",
       "1569                            Tartines craquantes                   1642.0   \n",
       "\n",
       "      énergie en kcal pour 100g                               libellés verts  \\\n",
       "1569                      388.0  Sans huile de palme, Végétalien, Végétarien   \n",
       "\n",
       "     libellés oranges libellés rouges nb_pays_vente  nb_additifs  \\\n",
       "1569              xxx             xxx             2          NaN   \n",
       "\n",
       "     huile de palme  \n",
       "1569            xxx  "
      ]
     },
     "execution_count": 116,
     "metadata": {},
     "output_type": "execute_result"
    }
   ],
   "source": [
    "dgf_op=data[(data['nom'].str.contains('(sans gluten|glutenfree|gluten free)',flags=re.IGNORECASE)) &\\\n",
    "    (data['nova']=='1') & (data['nutriscore']=='A') & (data['ecoscore']=='A')]\n",
    "dgf_op"
   ]
  },
  {
   "cell_type": "markdown",
   "metadata": {},
   "source": [
    "Nous ne trouvons qu'un seul produit gluten free \"optimal\". Nous décidons de faire une heatmap particulière pour les produits sans gluten. "
   ]
  },
  {
   "cell_type": "code",
   "execution_count": 117,
   "metadata": {},
   "outputs": [
    {
     "name": "stderr",
     "output_type": "stream",
     "text": [
      "C:\\Users\\celine\\anaconda3\\lib\\site-packages\\pandas\\core\\strings.py:1954: UserWarning: This pattern has match groups. To actually get the groups, use str.extract.\n",
      "  return func(self, *args, **kwargs)\n"
     ]
    }
   ],
   "source": [
    "#ensemble des produits gluten free\n",
    "dgf=data[data['nom'].str.contains('(sans gluten|glutenfree|gluten free)',flags=re.IGNORECASE)]"
   ]
  },
  {
   "cell_type": "code",
   "execution_count": 118,
   "metadata": {},
   "outputs": [
    {
     "data": {
      "text/plain": [
       "(349, 36)"
      ]
     },
     "execution_count": 118,
     "metadata": {},
     "output_type": "execute_result"
    }
   ],
   "source": [
    "dgf.shape  #présence de 349 produits dans notre dataset"
   ]
  },
  {
   "cell_type": "code",
   "execution_count": 119,
   "metadata": {},
   "outputs": [
    {
     "data": {
      "image/png": "[encoded data removed]",
      "text/plain": [
       "<Figure size 1440x720 with 2 Axes>"
      ]
     },
     "metadata": {
      "needs_background": "light"
     },
     "output_type": "display_data"
    }
   ],
   "source": [
    "dh=pd.crosstab(dgf['nutriscore'], [dgf['nova'], dgf['ecoscore']],normalize=True)\n",
    "dh=np.round(dh,4)*100  #obtenir les proportions en %\n",
    "# visualisation avec heatmap\n",
    "plt.figure(figsize=(20,10))\n",
    "ax=plt.axes()\n",
    "sns.heatmap(dh,cmap='magma_r',linewidths=0.01,xticklabels=1,annot=True,fmt='g',center=6)\n",
    "ax.set_title('Distribution en pourcentage du nombre de produits glutenfree par nutriscore, nova et écoscore')\n",
    "plt.show()"
   ]
  },
  {
   "cell_type": "markdown",
   "metadata": {},
   "source": [
    "L'une des plus large sous classe des produits gluten free a pour nutriscore D, nova 4 et ecoscore D (6.02 %)"
   ]
  },
  {
   "cell_type": "markdown",
   "metadata": {},
   "source": [
    "### 3.3 Nombre de produit dont le ratio sucre/produit est supérieur à 0.6\n"
   ]
  },
  {
   "cell_type": "code",
   "execution_count": 120,
   "metadata": {},
   "outputs": [
    {
     "data": {
      "text/plain": [
       "(1624, 36)"
      ]
     },
     "execution_count": 120,
     "metadata": {},
     "output_type": "execute_result"
    }
   ],
   "source": [
    "data[data['sucres pour 100g']>60].shape"
   ]
  },
  {
   "cell_type": "code",
   "execution_count": 121,
   "metadata": {
    "scrolled": true
   },
   "outputs": [
    {
     "data": {
      "text/html": [
       "<div>\n",
       "<style scoped>\n",
       "    .dataframe tbody tr th:only-of-type {\n",
       "        vertical-align: middle;\n",
       "    }\n",
       "\n",
       "    .dataframe tbody tr th {\n",
       "        vertical-align: top;\n",
       "    }\n",
       "\n",
       "    .dataframe thead th {\n",
       "        text-align: right;\n",
       "    }\n",
       "</style>\n",
       "<table border=\"1\" class=\"dataframe\">\n",
       "  <thead>\n",
       "    <tr style=\"text-align: right;\">\n",
       "      <th></th>\n",
       "      <th>nom</th>\n",
       "      <th>URL</th>\n",
       "      <th>sucres pour 100g</th>\n",
       "    </tr>\n",
       "  </thead>\n",
       "  <tbody>\n",
       "    <tr>\n",
       "      <th>20849</th>\n",
       "      <td>Dulce de leche Estilo Colonial - La Serenísima - 400 g</td>\n",
       "      <td>https://fr.openfoodfacts.org//produit/7790742140609/dulce-de-leche-estilo-colonial-la-serenisima</td>\n",
       "      <td>275.0</td>\n",
       "    </tr>\n",
       "    <tr>\n",
       "      <th>8794</th>\n",
       "      <td>Poudre de chocolat - Nestlé - 800 g</td>\n",
       "      <td>https://fr.openfoodfacts.org//produit/7613036184359/poudre-de-chocolat-nestle</td>\n",
       "      <td>146.0</td>\n",
       "    </tr>\n",
       "    <tr>\n",
       "      <th>40024</th>\n",
       "      <td>Koa &amp; Choc 7 vitamines - Rik &amp; Rok - 400 g</td>\n",
       "      <td>https://fr.openfoodfacts.org//produit/3254560039940/koa-choc-7-vitamines-rik-rok</td>\n",
       "      <td>135.0</td>\n",
       "    </tr>\n",
       "    <tr>\n",
       "      <th>40051</th>\n",
       "      <td>Leader quick - Leader Price - 1 kg</td>\n",
       "      <td>https://fr.openfoodfacts.org//produit/3263850776212/leader-quick-leader-price</td>\n",
       "      <td>125.0</td>\n",
       "    </tr>\n",
       "    <tr>\n",
       "      <th>8252</th>\n",
       "      <td>Grand arôme - Poulain - 400g</td>\n",
       "      <td>https://fr.openfoodfacts.org//produit/10662564/grand-arome-poulain</td>\n",
       "      <td>120.0</td>\n",
       "    </tr>\n",
       "    <tr>\n",
       "      <th>20783</th>\n",
       "      <td>Sirop d'agave pur - Allos - 500 ml</td>\n",
       "      <td>https://fr.openfoodfacts.org//produit/4016249015732/sirop-d-agave-pur-allos</td>\n",
       "      <td>104.0</td>\n",
       "    </tr>\n",
       "    <tr>\n",
       "      <th>31700</th>\n",
       "      <td>Sucre Poudre - Béghin Say - 500 g</td>\n",
       "      <td>https://fr.openfoodfacts.org//produit/3174660000902/sucre-poudre-beghin-say</td>\n",
       "      <td>100.0</td>\n",
       "    </tr>\n",
       "    <tr>\n",
       "      <th>22103</th>\n",
       "      <td>Erstein morceau boite 1kg - gamme courants - 1000 g</td>\n",
       "      <td>https://fr.openfoodfacts.org//produit/3071900001111/erstein-morceau-boite-1kg-gamme-courants</td>\n",
       "      <td>100.0</td>\n",
       "    </tr>\n",
       "    <tr>\n",
       "      <th>64353</th>\n",
       "      <td>Sucre de betterave bio - AF - 750 g</td>\n",
       "      <td>https://fr.openfoodfacts.org//produit/3268740100016/sucre-de-betterave-bio-af</td>\n",
       "      <td>100.0</td>\n",
       "    </tr>\n",
       "    <tr>\n",
       "      <th>9111</th>\n",
       "      <td>Sucre blond de canne - CARREFOUR BIO - 500 g</td>\n",
       "      <td>https://fr.openfoodfacts.org//produit/3270190191155/sucre-blond-de-canne-carrefour-bio</td>\n",
       "      <td>100.0</td>\n",
       "    </tr>\n",
       "  </tbody>\n",
       "</table>\n",
       "</div>"
      ],
      "text/plain": [
       "                                                          nom  \\\n",
       "20849  Dulce de leche Estilo Colonial - La Serenísima - 400 g   \n",
       "8794                      Poudre de chocolat - Nestlé - 800 g   \n",
       "40024              Koa & Choc 7 vitamines - Rik & Rok - 400 g   \n",
       "40051                      Leader quick - Leader Price - 1 kg   \n",
       "8252                             Grand arôme - Poulain - 400g   \n",
       "20783                      Sirop d'agave pur - Allos - 500 ml   \n",
       "31700                       Sucre Poudre - Béghin Say - 500 g   \n",
       "22103     Erstein morceau boite 1kg - gamme courants - 1000 g   \n",
       "64353                     Sucre de betterave bio - AF - 750 g   \n",
       "9111             Sucre blond de canne - CARREFOUR BIO - 500 g   \n",
       "\n",
       "                                                                                                    URL  \\\n",
       "20849  https://fr.openfoodfacts.org//produit/7790742140609/dulce-de-leche-estilo-colonial-la-serenisima   \n",
       "8794                      https://fr.openfoodfacts.org//produit/7613036184359/poudre-de-chocolat-nestle   \n",
       "40024                  https://fr.openfoodfacts.org//produit/3254560039940/koa-choc-7-vitamines-rik-rok   \n",
       "40051                     https://fr.openfoodfacts.org//produit/3263850776212/leader-quick-leader-price   \n",
       "8252                                 https://fr.openfoodfacts.org//produit/10662564/grand-arome-poulain   \n",
       "20783                       https://fr.openfoodfacts.org//produit/4016249015732/sirop-d-agave-pur-allos   \n",
       "31700                       https://fr.openfoodfacts.org//produit/3174660000902/sucre-poudre-beghin-say   \n",
       "22103      https://fr.openfoodfacts.org//produit/3071900001111/erstein-morceau-boite-1kg-gamme-courants   \n",
       "64353                     https://fr.openfoodfacts.org//produit/3268740100016/sucre-de-betterave-bio-af   \n",
       "9111             https://fr.openfoodfacts.org//produit/3270190191155/sucre-blond-de-canne-carrefour-bio   \n",
       "\n",
       "       sucres pour 100g  \n",
       "20849             275.0  \n",
       "8794              146.0  \n",
       "40024             135.0  \n",
       "40051             125.0  \n",
       "8252              120.0  \n",
       "20783             104.0  \n",
       "31700             100.0  \n",
       "22103             100.0  \n",
       "64353             100.0  \n",
       "9111              100.0  "
      ]
     },
     "execution_count": 121,
     "metadata": {},
     "output_type": "execute_result"
    }
   ],
   "source": [
    "data[data['sucres pour 100g']>60].sort_values(by='sucres pour 100g',ascending=False).loc[:,['nom','URL','sucres pour 100g']].head(10)"
   ]
  },
  {
   "cell_type": "markdown",
   "metadata": {},
   "source": [
    "certains produits ont un taux >100, je suppose qu'il s'agit d'une erreur de conversion/report."
   ]
  },
  {
   "cell_type": "markdown",
   "metadata": {},
   "source": [
    "### 3. 4. Liste des produits dont le nombre de calories pour 100g est supérieur à 500."
   ]
  },
  {
   "cell_type": "code",
   "execution_count": 122,
   "metadata": {},
   "outputs": [
    {
     "data": {
      "text/plain": [
       "Index(['Unnamed: 0', 'Unnamed: 0.1', 'nom', 'URL', 'code bar', 'nutriscore',\n",
       "       'nova', 'ecoscore', 'quantite', 'conditionnement', 'marques',\n",
       "       'categorie', 'label,certifications,récompenses', 'origine',\n",
       "       'lieu de fabrication', 'code de traçabilité',\n",
       "       'lien vers la page du produit', 'magasins', 'pays de vente', 'additifs',\n",
       "       'ingrédients issus de l'huile de palme', 'vitamines ajoutées',\n",
       "       'minéraux ajoutés', 'matières grasses/lipides pour 100g',\n",
       "       'acides gras saturés pour 100g', 'sucres pour 100g', 'sel pour 100g',\n",
       "       'catégories aux repères nutritionels similaires',\n",
       "       'énergie en kj pour 100g', 'énergie en kcal pour 100g',\n",
       "       'libellés verts', 'libellés oranges', 'libellés rouges',\n",
       "       'nb_pays_vente', 'nb_additifs', 'huile de palme'],\n",
       "      dtype='object')"
      ]
     },
     "execution_count": 122,
     "metadata": {},
     "output_type": "execute_result"
    }
   ],
   "source": [
    "data.columns"
   ]
  },
  {
   "cell_type": "code",
   "execution_count": null,
   "metadata": {},
   "outputs": [],
   "source": []
  },
  {
   "cell_type": "code",
   "execution_count": 123,
   "metadata": {},
   "outputs": [
    {
     "data": {
      "text/html": [
       "<div>\n",
       "<style scoped>\n",
       "    .dataframe tbody tr th:only-of-type {\n",
       "        vertical-align: middle;\n",
       "    }\n",
       "\n",
       "    .dataframe tbody tr th {\n",
       "        vertical-align: top;\n",
       "    }\n",
       "\n",
       "    .dataframe thead th {\n",
       "        text-align: right;\n",
       "    }\n",
       "</style>\n",
       "<table border=\"1\" class=\"dataframe\">\n",
       "  <thead>\n",
       "    <tr style=\"text-align: right;\">\n",
       "      <th></th>\n",
       "      <th>nom</th>\n",
       "      <th>URL</th>\n",
       "      <th>énergie en kcal pour 100g</th>\n",
       "    </tr>\n",
       "  </thead>\n",
       "  <tbody>\n",
       "    <tr>\n",
       "      <th>4067</th>\n",
       "      <td>Chocolat noir Amande et écorces d'orange - J.D. Gross - 125g</td>\n",
       "      <td>https://fr.openfoodfacts.org//produit/20936600/chocolat-noir-amande-et-ecorces-d-orange-j-d-gross</td>\n",
       "      <td>4580.0000</td>\n",
       "    </tr>\n",
       "    <tr>\n",
       "      <th>3999</th>\n",
       "      <td>Petit St Michel Bio au bon beurre - 144g</td>\n",
       "      <td>https://fr.openfoodfacts.org//produit/3178530419979/petit-st-michel-bio-au-bon-beurre</td>\n",
       "      <td>3720.0000</td>\n",
       "    </tr>\n",
       "    <tr>\n",
       "      <th>55125</th>\n",
       "      <td>Psyllium Blond Bio - 150G - Uberti - 150 g</td>\n",
       "      <td>https://fr.openfoodfacts.org//produit/3760048990790/psyllium-blond-bio-150g-uberti</td>\n",
       "      <td>2810.0000</td>\n",
       "    </tr>\n",
       "    <tr>\n",
       "      <th>21132</th>\n",
       "      <td>Mayonesa - Kania - 500 ml</td>\n",
       "      <td>https://fr.openfoodfacts.org//produit/20578992/mayonesa-kania</td>\n",
       "      <td>2569.0000</td>\n",
       "    </tr>\n",
       "    <tr>\n",
       "      <th>48494</th>\n",
       "      <td>Nu+cao coconut cinnamon - nucao - 40g</td>\n",
       "      <td>https://fr.openfoodfacts.org//produit/4260500650013/nu-cao-coconut-cinnamon-nucao</td>\n",
       "      <td>2558.0000</td>\n",
       "    </tr>\n",
       "    <tr>\n",
       "      <th>...</th>\n",
       "      <td>...</td>\n",
       "      <td>...</td>\n",
       "      <td>...</td>\n",
       "    </tr>\n",
       "    <tr>\n",
       "      <th>55771</th>\n",
       "      <td>Kessel Chips - Pulled Beef flavour - Snack Day - 150 g</td>\n",
       "      <td>https://fr.openfoodfacts.org//produit/4056489141136/kessel-chips-pulled-beef-flavour-snack-day</td>\n",
       "      <td>501.0000</td>\n",
       "    </tr>\n",
       "    <tr>\n",
       "      <th>55836</th>\n",
       "      <td>Crusti Croc Kessel Chips Sweet Chili - 150</td>\n",
       "      <td>https://fr.openfoodfacts.org//produit/20768034/crusti-croc-kessel-chips-sweet-chili</td>\n",
       "      <td>501.0000</td>\n",
       "    </tr>\n",
       "    <tr>\n",
       "      <th>3182</th>\n",
       "      <td>Nos tartinettes à croquer - jardin Bio - 138g</td>\n",
       "      <td>https://fr.openfoodfacts.org//produit/3456300009880/nos-tartinettes-a-croquer-jardin-bio</td>\n",
       "      <td>501.0000</td>\n",
       "    </tr>\n",
       "    <tr>\n",
       "      <th>9940</th>\n",
       "      <td>Granola low sugar - Lizi's - 500g</td>\n",
       "      <td>https://fr.openfoodfacts.org//produit/5060092030687/granola-low-sugar-lizi-s</td>\n",
       "      <td>501.0000</td>\n",
       "    </tr>\n",
       "    <tr>\n",
       "      <th>6053</th>\n",
       "      <td>Sablés aux céréales chocolat au lait BIO - Chabrior - 200 g</td>\n",
       "      <td>https://fr.openfoodfacts.org//produit/3250391641345/sables-aux-cereales-chocolat-au-lait-bio-cha...</td>\n",
       "      <td>500.1433</td>\n",
       "    </tr>\n",
       "  </tbody>\n",
       "</table>\n",
       "<p>8617 rows × 3 columns</p>\n",
       "</div>"
      ],
      "text/plain": [
       "                                                                nom  \\\n",
       "4067   Chocolat noir Amande et écorces d'orange - J.D. Gross - 125g   \n",
       "3999                       Petit St Michel Bio au bon beurre - 144g   \n",
       "55125                    Psyllium Blond Bio - 150G - Uberti - 150 g   \n",
       "21132                                     Mayonesa - Kania - 500 ml   \n",
       "48494                         Nu+cao coconut cinnamon - nucao - 40g   \n",
       "...                                                             ...   \n",
       "55771        Kessel Chips - Pulled Beef flavour - Snack Day - 150 g   \n",
       "55836                    Crusti Croc Kessel Chips Sweet Chili - 150   \n",
       "3182                  Nos tartinettes à croquer - jardin Bio - 138g   \n",
       "9940                              Granola low sugar - Lizi's - 500g   \n",
       "6053    Sablés aux céréales chocolat au lait BIO - Chabrior - 200 g   \n",
       "\n",
       "                                                                                                       URL  \\\n",
       "4067     https://fr.openfoodfacts.org//produit/20936600/chocolat-noir-amande-et-ecorces-d-orange-j-d-gross   \n",
       "3999                 https://fr.openfoodfacts.org//produit/3178530419979/petit-st-michel-bio-au-bon-beurre   \n",
       "55125                   https://fr.openfoodfacts.org//produit/3760048990790/psyllium-blond-bio-150g-uberti   \n",
       "21132                                        https://fr.openfoodfacts.org//produit/20578992/mayonesa-kania   \n",
       "48494                    https://fr.openfoodfacts.org//produit/4260500650013/nu-cao-coconut-cinnamon-nucao   \n",
       "...                                                                                                    ...   \n",
       "55771       https://fr.openfoodfacts.org//produit/4056489141136/kessel-chips-pulled-beef-flavour-snack-day   \n",
       "55836                  https://fr.openfoodfacts.org//produit/20768034/crusti-croc-kessel-chips-sweet-chili   \n",
       "3182              https://fr.openfoodfacts.org//produit/3456300009880/nos-tartinettes-a-croquer-jardin-bio   \n",
       "9940                          https://fr.openfoodfacts.org//produit/5060092030687/granola-low-sugar-lizi-s   \n",
       "6053   https://fr.openfoodfacts.org//produit/3250391641345/sables-aux-cereales-chocolat-au-lait-bio-cha...   \n",
       "\n",
       "       énergie en kcal pour 100g  \n",
       "4067                   4580.0000  \n",
       "3999                   3720.0000  \n",
       "55125                  2810.0000  \n",
       "21132                  2569.0000  \n",
       "48494                  2558.0000  \n",
       "...                          ...  \n",
       "55771                   501.0000  \n",
       "55836                   501.0000  \n",
       "3182                    501.0000  \n",
       "9940                    501.0000  \n",
       "6053                    500.1433  \n",
       "\n",
       "[8617 rows x 3 columns]"
      ]
     },
     "execution_count": 123,
     "metadata": {},
     "output_type": "execute_result"
    }
   ],
   "source": [
    "data[data['énergie en kcal pour 100g']>500].sort_values(by='énergie en kcal pour 100g',ascending=False).loc[:,['nom','URL','énergie en kcal pour 100g']]"
   ]
  },
  {
   "cell_type": "markdown",
   "metadata": {},
   "source": [
    "### 3.5. Liste des produits contenant de l’huile de palme, vendus en France et en Belgique"
   ]
  },
  {
   "cell_type": "code",
   "execution_count": 124,
   "metadata": {},
   "outputs": [],
   "source": [
    "def palm(x):\n",
    "    if re.search('palm',x,re.IGNORECASE):\n",
    "        return True\n",
    "    else:\n",
    "        return 'xxx'\n",
    "\n",
    "data['huile de palme']=data['libellés rouges'].apply(palm) #True si le produit porte l'étiquette \"présence d'huile de palme\",\"xxx\" sinon\n"
   ]
  },
  {
   "cell_type": "markdown",
   "metadata": {},
   "source": [
    "On compte 4819 produits contenant de l'huile de palme vendus en France ou en Belgique: "
   ]
  },
  {
   "cell_type": "code",
   "execution_count": 125,
   "metadata": {
    "scrolled": true
   },
   "outputs": [
    {
     "name": "stdout",
     "output_type": "stream",
     "text": [
      "(4819, 2)\n"
     ]
    },
    {
     "name": "stderr",
     "output_type": "stream",
     "text": [
      "C:\\Users\\celine\\anaconda3\\lib\\site-packages\\pandas\\core\\strings.py:1954: UserWarning: This pattern has match groups. To actually get the groups, use str.extract.\n",
      "  return func(self, *args, **kwargs)\n"
     ]
    },
    {
     "data": {
      "text/html": [
       "<div>\n",
       "<style scoped>\n",
       "    .dataframe tbody tr th:only-of-type {\n",
       "        vertical-align: middle;\n",
       "    }\n",
       "\n",
       "    .dataframe tbody tr th {\n",
       "        vertical-align: top;\n",
       "    }\n",
       "\n",
       "    .dataframe thead th {\n",
       "        text-align: right;\n",
       "    }\n",
       "</style>\n",
       "<table border=\"1\" class=\"dataframe\">\n",
       "  <thead>\n",
       "    <tr style=\"text-align: right;\">\n",
       "      <th></th>\n",
       "      <th>nom</th>\n",
       "      <th>URL</th>\n",
       "    </tr>\n",
       "  </thead>\n",
       "  <tbody>\n",
       "    <tr>\n",
       "      <th>0</th>\n",
       "      <td>Pain grillé de campagne Blé complet - Pelletier - 500 g e</td>\n",
       "      <td>https://fr.openfoodfacts.org//produit/3017760542890/pain-grille-de-campagne-ble-complet-pelletier</td>\n",
       "    </tr>\n",
       "    <tr>\n",
       "      <th>5</th>\n",
       "      <td>bn chocolat - 10</td>\n",
       "      <td>https://fr.openfoodfacts.org//produit/3061990141354/bn-chocolat</td>\n",
       "    </tr>\n",
       "    <tr>\n",
       "      <th>8</th>\n",
       "      <td>Thé - Biscuits - Lu  thé - 350 g ℮</td>\n",
       "      <td>https://fr.openfoodfacts.org//produit/7622210476296/the-biscuits-lu-the</td>\n",
       "    </tr>\n",
       "    <tr>\n",
       "      <th>24</th>\n",
       "      <td>Granola Gros éclats de Chocolat - LU - 276 g</td>\n",
       "      <td>https://fr.openfoodfacts.org//produit/7622300689124/granola-gros-eclats-de-chocolat-lu</td>\n",
       "    </tr>\n",
       "    <tr>\n",
       "      <th>26</th>\n",
       "      <td>Krisprolls - 425 g</td>\n",
       "      <td>https://fr.openfoodfacts.org//produit/7311070032611/krisprolls</td>\n",
       "    </tr>\n",
       "    <tr>\n",
       "      <th>27</th>\n",
       "      <td>Kinder bueno gaufrettes enrobees de chocolat 2 barres - 43 g</td>\n",
       "      <td>https://fr.openfoodfacts.org//produit/8000500037560/kinder-bueno-gaufrettes-enrobees-de-chocolat...</td>\n",
       "    </tr>\n",
       "    <tr>\n",
       "      <th>29</th>\n",
       "      <td>Biscotte Fibres+ - Heudebert - 280g, 2 sachets de 16 biscottes</td>\n",
       "      <td>https://fr.openfoodfacts.org//produit/3017760363990/biscotte-fibres-heudebert</td>\n",
       "    </tr>\n",
       "    <tr>\n",
       "      <th>43</th>\n",
       "      <td>Extra chocolat au lait - Kellogg’s - 500g</td>\n",
       "      <td>https://fr.openfoodfacts.org//produit/5050083516313/extra-chocolat-au-lait-kellogg-s</td>\n",
       "    </tr>\n",
       "    <tr>\n",
       "      <th>73</th>\n",
       "      <td>Nutella - Ferrero - 350 g</td>\n",
       "      <td>https://fr.openfoodfacts.org//produit/80177173/nutella-ferrero</td>\n",
       "    </tr>\n",
       "    <tr>\n",
       "      <th>75</th>\n",
       "      <td>Spéculoos à tartiner - Lotus - 400g</td>\n",
       "      <td>https://fr.openfoodfacts.org//produit/5410126006957/speculoos-a-tartiner-lotus</td>\n",
       "    </tr>\n",
       "    <tr>\n",
       "      <th>81</th>\n",
       "      <td>Krisprolls - 425 g</td>\n",
       "      <td>https://fr.openfoodfacts.org//produit/7311070362664/krisprolls</td>\n",
       "    </tr>\n",
       "    <tr>\n",
       "      <th>82</th>\n",
       "      <td>Ferrero rocher fines gaufrettes enrobees de chocolat au lait et noisettes avec noisette entiere ...</td>\n",
       "      <td>https://fr.openfoodfacts.org//produit/8000500167113/ferrero-rocher-fines-gaufrettes-enrobees-de-...</td>\n",
       "    </tr>\n",
       "    <tr>\n",
       "      <th>91</th>\n",
       "      <td>Oreo Original - MONDELEZ - 154 g</td>\n",
       "      <td>https://fr.openfoodfacts.org//produit/7622300336738/oreo-original-mondelez</td>\n",
       "    </tr>\n",
       "    <tr>\n",
       "      <th>103</th>\n",
       "      <td>Monaco - Belin - 100 g e</td>\n",
       "      <td>https://fr.openfoodfacts.org//produit/7622210998095/monaco-belin</td>\n",
       "    </tr>\n",
       "    <tr>\n",
       "      <th>108</th>\n",
       "      <td>Sablés Anglais - MCVITIE'S - 400 g</td>\n",
       "      <td>https://fr.openfoodfacts.org//produit/5000168198491/sables-anglais-mcvitie-s</td>\n",
       "    </tr>\n",
       "    <tr>\n",
       "      <th>124</th>\n",
       "      <td>Heudebert biscottes sans sel ajouté - 300 g</td>\n",
       "      <td>https://fr.openfoodfacts.org//produit/3392460481114/heudebert-biscottes-sans-sel-ajoute</td>\n",
       "    </tr>\n",
       "    <tr>\n",
       "      <th>129</th>\n",
       "      <td>Nutella pate a tartiner noisettes-cacao t630 pot de - 630 g (630 g)</td>\n",
       "      <td>https://fr.openfoodfacts.org//produit/59032823/nutella-pate-a-tartiner-noisettes-cacao-t630-pot-de</td>\n",
       "    </tr>\n",
       "    <tr>\n",
       "      <th>130</th>\n",
       "      <td>Cracotte Chocolat - LU - 200 g</td>\n",
       "      <td>https://fr.openfoodfacts.org//produit/3041090061615/cracotte-chocolat-lu</td>\n",
       "    </tr>\n",
       "    <tr>\n",
       "      <th>133</th>\n",
       "      <td>Matière grasse a tartiner - St Hubert - 510 g e</td>\n",
       "      <td>https://fr.openfoodfacts.org//produit/3366321051686/matiere-grasse-a-tartiner-st-hubert</td>\n",
       "    </tr>\n",
       "    <tr>\n",
       "      <th>139</th>\n",
       "      <td>Nutella pate a tartiner noisettes-cacao t.600 pot de - Ferrero - 600 g (600 g)</td>\n",
       "      <td>https://fr.openfoodfacts.org//produit/3017620406003/nutella-pate-a-tartiner-noisettes-cacao-t-60...</td>\n",
       "    </tr>\n",
       "  </tbody>\n",
       "</table>\n",
       "</div>"
      ],
      "text/plain": [
       "                                                                                                     nom  \\\n",
       "0                                              Pain grillé de campagne Blé complet - Pelletier - 500 g e   \n",
       "5                                                                                       bn chocolat - 10   \n",
       "8                                                                     Thé - Biscuits - Lu  thé - 350 g ℮   \n",
       "24                                                          Granola Gros éclats de Chocolat - LU - 276 g   \n",
       "26                                                                                    Krisprolls - 425 g   \n",
       "27                                          Kinder bueno gaufrettes enrobees de chocolat 2 barres - 43 g   \n",
       "29                                        Biscotte Fibres+ - Heudebert - 280g, 2 sachets de 16 biscottes   \n",
       "43                                                             Extra chocolat au lait - Kellogg’s - 500g   \n",
       "73                                                                             Nutella - Ferrero - 350 g   \n",
       "75                                                                   Spéculoos à tartiner - Lotus - 400g   \n",
       "81                                                                                    Krisprolls - 425 g   \n",
       "82   Ferrero rocher fines gaufrettes enrobees de chocolat au lait et noisettes avec noisette entiere ...   \n",
       "91                                                                      Oreo Original - MONDELEZ - 154 g   \n",
       "103                                                                             Monaco - Belin - 100 g e   \n",
       "108                                                                   Sablés Anglais - MCVITIE'S - 400 g   \n",
       "124                                                          Heudebert biscottes sans sel ajouté - 300 g   \n",
       "129                                  Nutella pate a tartiner noisettes-cacao t630 pot de - 630 g (630 g)   \n",
       "130                                                                       Cracotte Chocolat - LU - 200 g   \n",
       "133                                                      Matière grasse a tartiner - St Hubert - 510 g e   \n",
       "139                       Nutella pate a tartiner noisettes-cacao t.600 pot de - Ferrero - 600 g (600 g)   \n",
       "\n",
       "                                                                                                     URL  \n",
       "0      https://fr.openfoodfacts.org//produit/3017760542890/pain-grille-de-campagne-ble-complet-pelletier  \n",
       "5                                        https://fr.openfoodfacts.org//produit/3061990141354/bn-chocolat  \n",
       "8                                https://fr.openfoodfacts.org//produit/7622210476296/the-biscuits-lu-the  \n",
       "24                https://fr.openfoodfacts.org//produit/7622300689124/granola-gros-eclats-de-chocolat-lu  \n",
       "26                                        https://fr.openfoodfacts.org//produit/7311070032611/krisprolls  \n",
       "27   https://fr.openfoodfacts.org//produit/8000500037560/kinder-bueno-gaufrettes-enrobees-de-chocolat...  \n",
       "29                         https://fr.openfoodfacts.org//produit/3017760363990/biscotte-fibres-heudebert  \n",
       "43                  https://fr.openfoodfacts.org//produit/5050083516313/extra-chocolat-au-lait-kellogg-s  \n",
       "73                                        https://fr.openfoodfacts.org//produit/80177173/nutella-ferrero  \n",
       "75                        https://fr.openfoodfacts.org//produit/5410126006957/speculoos-a-tartiner-lotus  \n",
       "81                                        https://fr.openfoodfacts.org//produit/7311070362664/krisprolls  \n",
       "82   https://fr.openfoodfacts.org//produit/8000500167113/ferrero-rocher-fines-gaufrettes-enrobees-de-...  \n",
       "91                            https://fr.openfoodfacts.org//produit/7622300336738/oreo-original-mondelez  \n",
       "103                                     https://fr.openfoodfacts.org//produit/7622210998095/monaco-belin  \n",
       "108                         https://fr.openfoodfacts.org//produit/5000168198491/sables-anglais-mcvitie-s  \n",
       "124              https://fr.openfoodfacts.org//produit/3392460481114/heudebert-biscottes-sans-sel-ajoute  \n",
       "129   https://fr.openfoodfacts.org//produit/59032823/nutella-pate-a-tartiner-noisettes-cacao-t630-pot-de  \n",
       "130                             https://fr.openfoodfacts.org//produit/3041090061615/cracotte-chocolat-lu  \n",
       "133              https://fr.openfoodfacts.org//produit/3366321051686/matiere-grasse-a-tartiner-st-hubert  \n",
       "139  https://fr.openfoodfacts.org//produit/3017620406003/nutella-pate-a-tartiner-noisettes-cacao-t-60...  "
      ]
     },
     "execution_count": 125,
     "metadata": {},
     "output_type": "execute_result"
    }
   ],
   "source": [
    "#les noms des pays ont déjà été nettoyés dans la partie 2.\n",
    "df=data[(data['pays de vente'].str.contains('(France|belgique)',case=False)) & (data['huile de palme']==True)].loc[:,['nom','URL']]\n",
    "print(df.shape)\n",
    "df.head(20)"
   ]
  },
  {
   "cell_type": "markdown",
   "metadata": {},
   "source": [
    "Il s'agit essentiellement de biscuits et gâteaux.\n",
    "<br/> Question: \n",
    "est ce que l'on compte sur openfoodfacts plus de produits contenant de l'huile de palme en vendus France ou en Belgique ?"
   ]
  },
  {
   "cell_type": "markdown",
   "metadata": {},
   "source": [
    "### 3.6 Distribution des produits par nombre de pays de vente"
   ]
  },
  {
   "cell_type": "code",
   "execution_count": 126,
   "metadata": {},
   "outputs": [
    {
     "data": {
      "text/plain": [
       "Index(['Unnamed: 0', 'Unnamed: 0.1', 'nom', 'URL', 'code bar', 'nutriscore',\n",
       "       'nova', 'ecoscore', 'quantite', 'conditionnement', 'marques',\n",
       "       'categorie', 'label,certifications,récompenses', 'origine',\n",
       "       'lieu de fabrication', 'code de traçabilité',\n",
       "       'lien vers la page du produit', 'magasins', 'pays de vente', 'additifs',\n",
       "       'ingrédients issus de l'huile de palme', 'vitamines ajoutées',\n",
       "       'minéraux ajoutés', 'matières grasses/lipides pour 100g',\n",
       "       'acides gras saturés pour 100g', 'sucres pour 100g', 'sel pour 100g',\n",
       "       'catégories aux repères nutritionels similaires',\n",
       "       'énergie en kj pour 100g', 'énergie en kcal pour 100g',\n",
       "       'libellés verts', 'libellés oranges', 'libellés rouges',\n",
       "       'nb_pays_vente', 'nb_additifs', 'huile de palme'],\n",
       "      dtype='object')"
      ]
     },
     "execution_count": 126,
     "metadata": {},
     "output_type": "execute_result"
    }
   ],
   "source": [
    "data.columns"
   ]
  },
  {
   "cell_type": "code",
   "execution_count": 130,
   "metadata": {
    "scrolled": true
   },
   "outputs": [
    {
     "name": "stdout",
     "output_type": "stream",
     "text": [
      "1      58666\n",
      "2      15949\n",
      "3       3661\n",
      "4+      1723\n",
      "xxx        1\n",
      "Name: nb_pays_vente, dtype: int64\n",
      "1      0.733325\n",
      "2      0.199362\n",
      "3      0.045762\n",
      "4+     0.021538\n",
      "xxx    0.000013\n",
      "Name: nb_pays_vente, dtype: float64\n"
     ]
    }
   ],
   "source": [
    "print(data['nb_pays_vente'].value_counts())\n",
    "print(data['nb_pays_vente'].value_counts(normalize=True))"
   ]
  },
  {
   "cell_type": "markdown",
   "metadata": {},
   "source": [
    "73 % des produits ont un seul pays de vente"
   ]
  },
  {
   "cell_type": "code",
   "execution_count": 132,
   "metadata": {},
   "outputs": [
    {
     "data": {
      "image/png": "[encoded data removed]",
      "text/plain": [
       "<Figure size 432x288 with 1 Axes>"
      ]
     },
     "metadata": {
      "needs_background": "light"
     },
     "output_type": "display_data"
    }
   ],
   "source": [
    "sns.countplot(data=data,x='nb_pays_vente',order=['1','2','3','4+'])\n",
    "plt.title('Diagramme en bâtons du nombre de pays de vente des produits')\n",
    "plt.show()"
   ]
  },
  {
   "cell_type": "markdown",
   "metadata": {},
   "source": [
    "### 3.7 Est-ce que tous les produits du site sont vendus en France ?"
   ]
  },
  {
   "cell_type": "code",
   "execution_count": 137,
   "metadata": {
    "scrolled": false
   },
   "outputs": [
    {
     "data": {
      "text/plain": [
       "79999"
      ]
     },
     "execution_count": 137,
     "metadata": {},
     "output_type": "execute_result"
    }
   ],
   "source": [
    "data[data['pays de vente'].str.contains('France',case=False)].shape[0]"
   ]
  },
  {
   "cell_type": "code",
   "execution_count": 139,
   "metadata": {},
   "outputs": [
    {
     "data": {
      "text/plain": [
       "4390"
      ]
     },
     "execution_count": 139,
     "metadata": {},
     "output_type": "execute_result"
    }
   ],
   "source": [
    "data[data['pays de vente'].str.contains('Allemagne',case=False)].shape[0]"
   ]
  },
  {
   "cell_type": "code",
   "execution_count": 141,
   "metadata": {},
   "outputs": [
    {
     "data": {
      "text/plain": [
       "1"
      ]
     },
     "execution_count": 141,
     "metadata": {},
     "output_type": "execute_result"
    }
   ],
   "source": [
    "data[data['pays de vente'].str.contains('Grèce',case=False)].shape[0]"
   ]
  },
  {
   "cell_type": "markdown",
   "metadata": {},
   "source": [
    "Dans notre dataset, la (quasi)totalité des produits sont vendus en France.\n",
    "<br/>Openfoodfacts est un projet collaboratif né en France où l'on peut répertorier des produits du monde entier  (https://fr.openfoodfacts.org/decouvrir)\n",
    "<br/> On peut penser qu'openfoodfacts n'est pas très connu à l'internationale et que ce sont essentiellement des bénévoles Français qui ont rempli les renseignements des produits."
   ]
  },
  {
   "cell_type": "markdown",
   "metadata": {},
   "source": [
    "### 3.8 L'écoscore est-il sensible au nombre de pays de vente?"
   ]
  },
  {
   "cell_type": "code",
   "execution_count": 142,
   "metadata": {},
   "outputs": [],
   "source": [
    "a=pd.crosstab(data['ecoscore'],data['nb_pays_vente'])"
   ]
  },
  {
   "cell_type": "code",
   "execution_count": 143,
   "metadata": {
    "scrolled": true
   },
   "outputs": [],
   "source": [
    "b=a.apply(lambda x: x*100/sum(x), axis=1)"
   ]
  },
  {
   "cell_type": "code",
   "execution_count": 144,
   "metadata": {},
   "outputs": [
    {
     "data": {
      "text/html": [
       "<div>\n",
       "<style scoped>\n",
       "    .dataframe tbody tr th:only-of-type {\n",
       "        vertical-align: middle;\n",
       "    }\n",
       "\n",
       "    .dataframe tbody tr th {\n",
       "        vertical-align: top;\n",
       "    }\n",
       "\n",
       "    .dataframe thead th {\n",
       "        text-align: right;\n",
       "    }\n",
       "</style>\n",
       "<table border=\"1\" class=\"dataframe\">\n",
       "  <thead>\n",
       "    <tr style=\"text-align: right;\">\n",
       "      <th>nb_pays_vente</th>\n",
       "      <th>1</th>\n",
       "      <th>2</th>\n",
       "      <th>3</th>\n",
       "      <th>4+</th>\n",
       "      <th>xxx</th>\n",
       "    </tr>\n",
       "    <tr>\n",
       "      <th>ecoscore</th>\n",
       "      <th></th>\n",
       "      <th></th>\n",
       "      <th></th>\n",
       "      <th></th>\n",
       "      <th></th>\n",
       "    </tr>\n",
       "  </thead>\n",
       "  <tbody>\n",
       "    <tr>\n",
       "      <th>A</th>\n",
       "      <td>80.428599</td>\n",
       "      <td>13.901005</td>\n",
       "      <td>3.356723</td>\n",
       "      <td>2.313673</td>\n",
       "      <td>0.000000</td>\n",
       "    </tr>\n",
       "    <tr>\n",
       "      <th>B</th>\n",
       "      <td>74.726357</td>\n",
       "      <td>18.642497</td>\n",
       "      <td>4.331963</td>\n",
       "      <td>2.299183</td>\n",
       "      <td>0.000000</td>\n",
       "    </tr>\n",
       "    <tr>\n",
       "      <th>C</th>\n",
       "      <td>71.320084</td>\n",
       "      <td>20.487963</td>\n",
       "      <td>5.509775</td>\n",
       "      <td>2.682178</td>\n",
       "      <td>0.000000</td>\n",
       "    </tr>\n",
       "    <tr>\n",
       "      <th>D</th>\n",
       "      <td>72.393222</td>\n",
       "      <td>20.776414</td>\n",
       "      <td>4.763963</td>\n",
       "      <td>2.066402</td>\n",
       "      <td>0.000000</td>\n",
       "    </tr>\n",
       "    <tr>\n",
       "      <th>E</th>\n",
       "      <td>73.270742</td>\n",
       "      <td>18.528454</td>\n",
       "      <td>5.115923</td>\n",
       "      <td>3.084882</td>\n",
       "      <td>0.000000</td>\n",
       "    </tr>\n",
       "    <tr>\n",
       "      <th>xxx</th>\n",
       "      <td>72.435240</td>\n",
       "      <td>21.525250</td>\n",
       "      <td>4.367954</td>\n",
       "      <td>1.668021</td>\n",
       "      <td>0.003534</td>\n",
       "    </tr>\n",
       "  </tbody>\n",
       "</table>\n",
       "</div>"
      ],
      "text/plain": [
       "nb_pays_vente          1          2         3        4+       xxx\n",
       "ecoscore                                                         \n",
       "A              80.428599  13.901005  3.356723  2.313673  0.000000\n",
       "B              74.726357  18.642497  4.331963  2.299183  0.000000\n",
       "C              71.320084  20.487963  5.509775  2.682178  0.000000\n",
       "D              72.393222  20.776414  4.763963  2.066402  0.000000\n",
       "E              73.270742  18.528454  5.115923  3.084882  0.000000\n",
       "xxx            72.435240  21.525250  4.367954  1.668021  0.003534"
      ]
     },
     "execution_count": 144,
     "metadata": {},
     "output_type": "execute_result"
    }
   ],
   "source": [
    "b"
   ]
  },
  {
   "cell_type": "code",
   "execution_count": 145,
   "metadata": {},
   "outputs": [
    {
     "data": {
      "image/png": "[encoded data removed]",
      "text/plain": [
       "<Figure size 432x288 with 1 Axes>"
      ]
     },
     "metadata": {
      "needs_background": "light"
     },
     "output_type": "display_data"
    }
   ],
   "source": [
    "b.plot(kind='bar', stacked=True,title='Répartition du nombre de pays de vente par écoscore').legend(bbox_to_anchor=(1, 0.5))\n",
    "plt.ylabel('pourcentage')\n",
    "plt.legend(bbox_to_anchor=(1, 0.5),title='Nombre de pays de vente')\n",
    "plt.show()"
   ]
  },
  {
   "cell_type": "markdown",
   "metadata": {},
   "source": [
    "80% des produits en écoscore A sont vendus dans un seul pays de vente, 74 % pour l'ecoscore B, 71% pour le C et 73% pour le E. \n",
    "Remarque : L'écoscore semble légèrement sensible au nombre de pays de vente. "
   ]
  },
  {
   "cell_type": "markdown",
   "metadata": {},
   "source": [
    "### 3.9 Les produits végétariens, végétaliens sont ils dans l'ensemble très transformés ?"
   ]
  },
  {
   "cell_type": "code",
   "execution_count": 146,
   "metadata": {},
   "outputs": [],
   "source": [
    "import re\n",
    "\n",
    "def vegetar(x):\n",
    "    if re.search('v.g.tarien',x,re.IGNORECASE):\n",
    "        return True\n",
    "    else:\n",
    "        return 'xxx'\n",
    "\n",
    "def vegetal(x):\n",
    "    if re.search('v.g.talien',x,re.IGNORECASE):\n",
    "        return True\n",
    "    else:\n",
    "        return 'xxx'\n"
   ]
  },
  {
   "cell_type": "code",
   "execution_count": 148,
   "metadata": {},
   "outputs": [],
   "source": [
    "data['vegetarien']=data['libellés verts'].apply(vegetar) #True si le produit porte le libellé 'est végétarien', xxx sinon\n",
    "data['vegetalien']=data['libellés verts'].apply(vegetal) # True si le produit porte le libellé 'est végétalien', xxx sinon\n",
    "data['nvegetarien']=data['libellés rouges'].apply(vegetar) #True si le produit porte le libellé 'est végétarien' ,  xxx sinon\n",
    "data['nvegetalien']=data['libellés rouges'].apply(vegetal) # True si le produit porte le libellé 'n'est pas végétalien', xxx sinon\n"
   ]
  },
  {
   "cell_type": "code",
   "execution_count": 149,
   "metadata": {},
   "outputs": [],
   "source": [
    "#on créée respectivement des datasets des produits végétaliens, végétariens, non végétariens, non végétaliens, avec huile de palme\n",
    "data_v=data[data['vegetarien']==True]\n",
    "data_vl=data[data['vegetalien']==True]\n",
    "data_nv=data[data['nvegetarien']==True]\n",
    "data_nvl=data[data['nvegetalien']==True]\n",
    "data_p=data[data['huile de palme']==True]"
   ]
  },
  {
   "cell_type": "code",
   "execution_count": 150,
   "metadata": {
    "scrolled": false
   },
   "outputs": [
    {
     "data": {
      "image/png": "[encoded data removed]",
      "text/plain": [
       "<Figure size 432x288 with 1 Axes>"
      ]
     },
     "metadata": {
      "needs_background": "light"
     },
     "output_type": "display_data"
    }
   ],
   "source": [
    "sns.countplot(data=data_v,x='nova',order=['1','2','3','4','xxx'])\n",
    "plt.title('Répartition du nombre de produits portant l\\'étiquette \"végétarien\" par score nova')\n",
    "plt.show()"
   ]
  },
  {
   "cell_type": "markdown",
   "metadata": {},
   "source": [
    "Parmi les produits végétariens, on compte davatage de produits nova 3 ou 4 (transformés et ultra-transformés) que de nova 1, même si la quantité de produits végétariens nova 1 reste importante. Les produits végétaliens, eux sont dans l'ensemble moins transformés:"
   ]
  },
  {
   "cell_type": "code",
   "execution_count": 151,
   "metadata": {},
   "outputs": [
    {
     "data": {
      "image/png": "[encoded data removed]",
      "text/plain": [
       "<Figure size 432x288 with 1 Axes>"
      ]
     },
     "metadata": {
      "needs_background": "light"
     },
     "output_type": "display_data"
    }
   ],
   "source": [
    "sns.countplot(data=data_vl,x='nova',order=['1','2','3','4','xxx'])\n",
    "plt.title('Répartition du nombre de produits portant l\\'étiquette \"végétalien\" par score nova')\n",
    "plt.show()"
   ]
  },
  {
   "cell_type": "code",
   "execution_count": 152,
   "metadata": {},
   "outputs": [
    {
     "data": {
      "image/png": "[encoded data removed]",
      "text/plain": [
       "<Figure size 432x288 with 1 Axes>"
      ]
     },
     "metadata": {
      "needs_background": "light"
     },
     "output_type": "display_data"
    }
   ],
   "source": [
    "sns.countplot(data=data_nv,x='nova',order=['1','2','3','4','xxx'])\n",
    "plt.title('Répartition du nombre de produits portant l\\'étiquette \"non végétarien\" par score nova')\n",
    "plt.show()"
   ]
  },
  {
   "cell_type": "markdown",
   "metadata": {},
   "source": [
    "Les produits ayant l'étiquette \"non végétarien\" sont dans l'ensemble très transformés. "
   ]
  },
  {
   "cell_type": "markdown",
   "metadata": {},
   "source": [
    "### 3.10. Quels sont les 20 produits végétariens contenant le plus d'additifs? "
   ]
  },
  {
   "cell_type": "code",
   "execution_count": 197,
   "metadata": {
    "scrolled": true
   },
   "outputs": [
    {
     "data": {
      "text/html": [
       "<div>\n",
       "<style scoped>\n",
       "    .dataframe tbody tr th:only-of-type {\n",
       "        vertical-align: middle;\n",
       "    }\n",
       "\n",
       "    .dataframe tbody tr th {\n",
       "        vertical-align: top;\n",
       "    }\n",
       "\n",
       "    .dataframe thead th {\n",
       "        text-align: right;\n",
       "    }\n",
       "</style>\n",
       "<table border=\"1\" class=\"dataframe\">\n",
       "  <thead>\n",
       "    <tr style=\"text-align: right;\">\n",
       "      <th></th>\n",
       "      <th>nom</th>\n",
       "      <th>URL</th>\n",
       "      <th>nb_additifs</th>\n",
       "    </tr>\n",
       "  </thead>\n",
       "  <tbody>\n",
       "    <tr>\n",
       "      <th>63294</th>\n",
       "      <td>Skittles fruits - 191.4 g</td>\n",
       "      <td>https://fr.openfoodfacts.org//produit/4009900532839/skittles-fruits</td>\n",
       "      <td>15.0</td>\n",
       "    </tr>\n",
       "    <tr>\n",
       "      <th>59137</th>\n",
       "      <td>Cake gourmand citron - Monoprix Gourmet - 320 g</td>\n",
       "      <td>https://fr.openfoodfacts.org//produit/3350033231740/cake-gourmand-citron-monoprix-gourmet</td>\n",
       "      <td>15.0</td>\n",
       "    </tr>\n",
       "    <tr>\n",
       "      <th>74568</th>\n",
       "      <td>Skittles Smoothies - Mars Wrigley Confectionery - 191,4 g</td>\n",
       "      <td>https://fr.openfoodfacts.org//produit/4009900531597/skittles-smoothies-mars-wrigley-confectionery</td>\n",
       "      <td>12.0</td>\n",
       "    </tr>\n",
       "    <tr>\n",
       "      <th>30428</th>\n",
       "      <td>Wraps - Goldähren - 372g</td>\n",
       "      <td>https://fr.openfoodfacts.org//produit/4061458045780/wraps-goldahren</td>\n",
       "      <td>12.0</td>\n",
       "    </tr>\n",
       "    <tr>\n",
       "      <th>36561</th>\n",
       "      <td>Cordon Bleu  Végétale - Céréal - 200 g</td>\n",
       "      <td>https://fr.openfoodfacts.org//produit/3175681209831/cordon-bleu-vegetale-cereal</td>\n",
       "      <td>11.0</td>\n",
       "    </tr>\n",
       "    <tr>\n",
       "      <th>2456</th>\n",
       "      <td>Pringles Hot &amp; Spicy - 175 g</td>\n",
       "      <td>https://fr.openfoodfacts.org//produit/5053990155941/pringles-hot-spicy</td>\n",
       "      <td>11.0</td>\n",
       "    </tr>\n",
       "    <tr>\n",
       "      <th>1818</th>\n",
       "      <td>Pain Complet 12 Céréales &amp; Graines - bimbo - 680 g</td>\n",
       "      <td>https://fr.openfoodfacts.org//produit/8412600024485/pain-complet-12-cereales-graines-bimbo</td>\n",
       "      <td>11.0</td>\n",
       "    </tr>\n",
       "    <tr>\n",
       "      <th>72825</th>\n",
       "      <td>Go Ahead! Forest Fruit Yogurt Breaks 5 Packs of 2 Slices (178g) - 178 g (5 x 35.6 g)</td>\n",
       "      <td>https://fr.openfoodfacts.org//produit/5000168181578/go-ahead-forest-fruit-yogurt-breaks-5-packs-...</td>\n",
       "      <td>11.0</td>\n",
       "    </tr>\n",
       "    <tr>\n",
       "      <th>68805</th>\n",
       "      <td>Mini cakes marbrés - Cereal</td>\n",
       "      <td>https://fr.openfoodfacts.org//produit/5410063023949/mini-cakes-marbres-cereal</td>\n",
       "      <td>11.0</td>\n",
       "    </tr>\n",
       "    <tr>\n",
       "      <th>52955</th>\n",
       "      <td>Sweet Strawberries - Look-O-Look - 115g</td>\n",
       "      <td>https://fr.openfoodfacts.org//produit/8713600175000/sweet-strawberries-look-o-look</td>\n",
       "      <td>10.0</td>\n",
       "    </tr>\n",
       "    <tr>\n",
       "      <th>64490</th>\n",
       "      <td>24 blinis cocktail - Labeyrie - 200 g</td>\n",
       "      <td>https://fr.openfoodfacts.org//produit/3292070101351/24-blinis-cocktail-labeyrie</td>\n",
       "      <td>10.0</td>\n",
       "    </tr>\n",
       "    <tr>\n",
       "      <th>43727</th>\n",
       "      <td>Sauce tartare - Carrefour - 345 g</td>\n",
       "      <td>https://fr.openfoodfacts.org//produit/3560070496808/sauce-tartare-carrefour</td>\n",
       "      <td>10.0</td>\n",
       "    </tr>\n",
       "    <tr>\n",
       "      <th>59632</th>\n",
       "      <td>Mcvities Jaffa Cakes Twin Pack</td>\n",
       "      <td>https://fr.openfoodfacts.org//produit/5000168200941/mcvities-jaffa-cakes-twin-pack</td>\n",
       "      <td>10.0</td>\n",
       "    </tr>\n",
       "    <tr>\n",
       "      <th>42200</th>\n",
       "      <td>Happy Cola Zéro - 50 cl</td>\n",
       "      <td>https://fr.openfoodfacts.org//produit/7613413576005/happy-cola-zero</td>\n",
       "      <td>10.0</td>\n",
       "    </tr>\n",
       "    <tr>\n",
       "      <th>20929</th>\n",
       "      <td>Veggie Ramyun Noodle Soup Gourmet Mild - NONGSHIM - 112 g</td>\n",
       "      <td>https://fr.openfoodfacts.org//produit/8801043022705/veggie-ramyun-noodle-soup-gourmet-mild-nongshim</td>\n",
       "      <td>10.0</td>\n",
       "    </tr>\n",
       "    <tr>\n",
       "      <th>19179</th>\n",
       "      <td>Fanta limón zero azúcar - 33ml</td>\n",
       "      <td>https://fr.openfoodfacts.org//produit/5449000120991/fanta-limon-zero-azucar</td>\n",
       "      <td>10.0</td>\n",
       "    </tr>\n",
       "    <tr>\n",
       "      <th>14435</th>\n",
       "      <td>Ben &amp; Jerry's Glace Pot Vanille Pecan Blondie - 500 ml (414 g)</td>\n",
       "      <td>https://fr.openfoodfacts.org//produit/8712100871320/ben-jerry-s-glace-pot-vanille-pecan-blondie</td>\n",
       "      <td>10.0</td>\n",
       "    </tr>\n",
       "    <tr>\n",
       "      <th>19718</th>\n",
       "      <td>Blinis Apéro - Blini - 125 g</td>\n",
       "      <td>https://fr.openfoodfacts.org//produit/3292070004898/blinis-apero-blini</td>\n",
       "      <td>9.0</td>\n",
       "    </tr>\n",
       "    <tr>\n",
       "      <th>7060</th>\n",
       "      <td>Viennetta Biscuit Caramel - 350 g</td>\n",
       "      <td>https://fr.openfoodfacts.org//produit/8711200607198/viennetta-biscuit-caramel</td>\n",
       "      <td>9.0</td>\n",
       "    </tr>\n",
       "    <tr>\n",
       "      <th>67696</th>\n",
       "      <td>Burger végétal - Curry - Sojasun - 155 g</td>\n",
       "      <td>https://fr.openfoodfacts.org//produit/3273220086186/burger-vegetal-curry-sojasun</td>\n",
       "      <td>9.0</td>\n",
       "    </tr>\n",
       "  </tbody>\n",
       "</table>\n",
       "</div>"
      ],
      "text/plain": [
       "                                                                                        nom  \\\n",
       "63294                                                             Skittles fruits - 191.4 g   \n",
       "59137                                       Cake gourmand citron - Monoprix Gourmet - 320 g   \n",
       "74568                             Skittles Smoothies - Mars Wrigley Confectionery - 191,4 g   \n",
       "30428                                                              Wraps - Goldähren - 372g   \n",
       "36561                                                Cordon Bleu  Végétale - Céréal - 200 g   \n",
       "2456                                                           Pringles Hot & Spicy - 175 g   \n",
       "1818                                     Pain Complet 12 Céréales & Graines - bimbo - 680 g   \n",
       "72825  Go Ahead! Forest Fruit Yogurt Breaks 5 Packs of 2 Slices (178g) - 178 g (5 x 35.6 g)   \n",
       "68805                                                           Mini cakes marbrés - Cereal   \n",
       "52955                                               Sweet Strawberries - Look-O-Look - 115g   \n",
       "64490                                                 24 blinis cocktail - Labeyrie - 200 g   \n",
       "43727                                                     Sauce tartare - Carrefour - 345 g   \n",
       "59632                                                        Mcvities Jaffa Cakes Twin Pack   \n",
       "42200                                                               Happy Cola Zéro - 50 cl   \n",
       "20929                             Veggie Ramyun Noodle Soup Gourmet Mild - NONGSHIM - 112 g   \n",
       "19179                                                        Fanta limón zero azúcar - 33ml   \n",
       "14435                        Ben & Jerry's Glace Pot Vanille Pecan Blondie - 500 ml (414 g)   \n",
       "19718                                                          Blinis Apéro - Blini - 125 g   \n",
       "7060                                                      Viennetta Biscuit Caramel - 350 g   \n",
       "67696                                              Burger végétal - Curry - Sojasun - 155 g   \n",
       "\n",
       "                                                                                                       URL  \\\n",
       "63294                                  https://fr.openfoodfacts.org//produit/4009900532839/skittles-fruits   \n",
       "59137            https://fr.openfoodfacts.org//produit/3350033231740/cake-gourmand-citron-monoprix-gourmet   \n",
       "74568    https://fr.openfoodfacts.org//produit/4009900531597/skittles-smoothies-mars-wrigley-confectionery   \n",
       "30428                                  https://fr.openfoodfacts.org//produit/4061458045780/wraps-goldahren   \n",
       "36561                      https://fr.openfoodfacts.org//produit/3175681209831/cordon-bleu-vegetale-cereal   \n",
       "2456                                https://fr.openfoodfacts.org//produit/5053990155941/pringles-hot-spicy   \n",
       "1818            https://fr.openfoodfacts.org//produit/8412600024485/pain-complet-12-cereales-graines-bimbo   \n",
       "72825  https://fr.openfoodfacts.org//produit/5000168181578/go-ahead-forest-fruit-yogurt-breaks-5-packs-...   \n",
       "68805                        https://fr.openfoodfacts.org//produit/5410063023949/mini-cakes-marbres-cereal   \n",
       "52955                   https://fr.openfoodfacts.org//produit/8713600175000/sweet-strawberries-look-o-look   \n",
       "64490                      https://fr.openfoodfacts.org//produit/3292070101351/24-blinis-cocktail-labeyrie   \n",
       "43727                          https://fr.openfoodfacts.org//produit/3560070496808/sauce-tartare-carrefour   \n",
       "59632                   https://fr.openfoodfacts.org//produit/5000168200941/mcvities-jaffa-cakes-twin-pack   \n",
       "42200                                  https://fr.openfoodfacts.org//produit/7613413576005/happy-cola-zero   \n",
       "20929  https://fr.openfoodfacts.org//produit/8801043022705/veggie-ramyun-noodle-soup-gourmet-mild-nongshim   \n",
       "19179                          https://fr.openfoodfacts.org//produit/5449000120991/fanta-limon-zero-azucar   \n",
       "14435      https://fr.openfoodfacts.org//produit/8712100871320/ben-jerry-s-glace-pot-vanille-pecan-blondie   \n",
       "19718                               https://fr.openfoodfacts.org//produit/3292070004898/blinis-apero-blini   \n",
       "7060                         https://fr.openfoodfacts.org//produit/8711200607198/viennetta-biscuit-caramel   \n",
       "67696                     https://fr.openfoodfacts.org//produit/3273220086186/burger-vegetal-curry-sojasun   \n",
       "\n",
       "       nb_additifs  \n",
       "63294         15.0  \n",
       "59137         15.0  \n",
       "74568         12.0  \n",
       "30428         12.0  \n",
       "36561         11.0  \n",
       "2456          11.0  \n",
       "1818          11.0  \n",
       "72825         11.0  \n",
       "68805         11.0  \n",
       "52955         10.0  \n",
       "64490         10.0  \n",
       "43727         10.0  \n",
       "59632         10.0  \n",
       "42200         10.0  \n",
       "20929         10.0  \n",
       "19179         10.0  \n",
       "14435         10.0  \n",
       "19718          9.0  \n",
       "7060           9.0  \n",
       "67696          9.0  "
      ]
     },
     "execution_count": 197,
     "metadata": {},
     "output_type": "execute_result"
    }
   ],
   "source": [
    "dt=data_v.sort_values(by=['nb_additifs'],ascending=False).head(20).loc[:,['nom','URL','nb_additifs']]\n",
    "dt"
   ]
  }
 ],
 "metadata": {
  "kernelspec": {
   "display_name": "Python 3 (ipykernel)",
   "language": "python",
   "name": "python3"
  },
  "language_info": {
   "codemirror_mode": {
    "name": "ipython",
    "version": 3
   },
   "file_extension": ".py",
   "mimetype": "text/x-python",
   "name": "python",
   "nbconvert_exporter": "python",
   "pygments_lexer": "ipython3",
   "version": "3.8.3"
  }
 },
 "nbformat": 4,
 "nbformat_minor": 4
}
