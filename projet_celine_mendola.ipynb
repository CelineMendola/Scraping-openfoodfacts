{
 "cells": [
  {
   "cell_type": "markdown",
   "metadata": {},
   "source": [
    "<br>Le notebook présente les analyses de données scrappées sur le site https://fr.openfoodfacts.org/ <br/> L'organisation du notebook est la suivante: \n",
    "\n",
    "1. Scraping du site Openfoodfacts\n",
    "2. Nettoyage du dataset en vue des analyses des données\n",
    "<br/> 2.1. Transformation en variables numériques de certaines colonnes et nettoyage des variables catégorielles\n",
    "<br/> 2.2. Calcul du nombre de pays de ventes et du nombre d'additifs pour chaque produit.\n",
    "3. Analyses\n",
    "<br/> 3.1.  Distribution du nombre de produits par catégorie Nutri Score, Nova et Eco score.(100 possibilités)\n",
    "<br/> 3.2. Liste des produits ayant “gluten free” optimaux (Nutri score A, Nova 1 et Ecoscore A\n",
    "<br/> 3.3. Nombre de produit dont le ratio sucre/produit est supérieur à 0.6\n",
    "<br/> 3.4. Liste des produits dont le nombre de calories pour 100g est supérieur à 500.\n",
    "<br/> 3.5. Liste des produits contenant de l’huile de palme, vendu en France et en Belgique\n",
    "<br/> 3.6. Distribution des produits par nombre de pays de vente\n",
    "<br/> 3.7. Est-ce que tous les produits du site sont vendus en France ?\n",
    "<br/> 3.8. L'écoscore est-il sensible au nombre de pays de vente?\n",
    "<br/> 3.9. Les produits végétariens, végétaliens sont ils dans l'ensemble très transformés ?\n",
<<<<<<< HEAD
    "<br/> 3.10. Quels sont les 20 produits végétariens contenant le plus d'additifs? \n"
=======
    "<br/> 3.10. Quels sont les 20 produits végétariens contenant le plus d'additifs? \n",
    "4. Un modèle de machine learning pour prédire le nutriscore d'un produit.\n"
>>>>>>> e123f7c7f9eb080b644e84ea3e6836d6d13d37d1
   ]
  },
  {
   "cell_type": "markdown",
   "metadata": {},
   "source": [
    "# 1. Scraping du site Openfoodfacts\n"
   ]
  },
  {
   "cell_type": "code",
   "execution_count": 1,
   "metadata": {},
   "outputs": [],
   "source": [
    "import opfoodfact  "
   ]
  },
  {
   "cell_type": "code",
   "execution_count": 3,
   "metadata": {},
   "outputs": [
    {
     "name": "stdout",
     "output_type": "stream",
     "text": [
      "temps d'exécution:  42538.536375284195  sec\n"
     ]
    }
   ],
   "source": [
    "#data=opfoodfact.scrap_opfoodfacts(800)  "
   ]
  },
  {
   "cell_type": "markdown",
   "metadata": {},
   "source": [
    "Temps d'exécution : 42538 secondes soit 11.8 heures pour 800 pages scrapées, autrement dit 53 secondes par page. <br/> Les données sont scrapées à partir de la 2e page du site (erreur sur un début de boucle qui a été corrigée dans le programme openfoodfact.py)"
   ]
  },
  {
   "cell_type": "code",
   "execution_count": 17,
   "metadata": {},
   "outputs": [
    {
     "data": {
      "text/plain": [
       "(80000, 31)"
      ]
     },
     "execution_count": 17,
     "metadata": {},
     "output_type": "execute_result"
    }
   ],
   "source": [
    "data.shape  #80 000 produits "
   ]
  },
  {
   "cell_type": "markdown",
   "metadata": {},
   "source": [
    "Les 26 champs demandés sur le sujet on été récupéré. Nous avons scrappé en plus :\n",
    "* Les vitamines et minéraux ajoutés\n",
    "* Les étiquettes vertes rouges ou oranges correspondant auc mentions huile de palme/végétarien/végétalien."
   ]
  },
  {
   "cell_type": "code",
   "execution_count": 337,
   "metadata": {},
   "outputs": [],
   "source": [
    "#data.to_csv('data.csv',index=False,sep=';')  #export du dataset en un fichier csv"
   ]
  },
  {
   "cell_type": "markdown",
   "metadata": {},
   "source": [
    "# 2. Nettoyage du dataset en vue des analyses de données"
   ]
  },
  {
   "cell_type": "code",
   "execution_count": 1,
   "metadata": {},
   "outputs": [],
   "source": [
    "import matplotlib.pyplot as plt\n",
    "import seaborn as sns\n",
    "import numpy as np\n",
    "import pandas as pd\n",
    "\n",
    "#options d'affichage des dataframe\n",
    "pd.set_option(\"display.max_columns\", 36)\n",
    "pd.set_option(\"display.max_colwidth\", 100)\n"
   ]
  },
  {
   "cell_type": "code",
   "execution_count": 14,
   "metadata": {},
   "outputs": [],
   "source": [
    "#Récupération du dataset\n",
    "data=pd.read_csv('data.csv',sep=';')  "
   ]
  },
  {
   "cell_type": "code",
   "execution_count": 15,
   "metadata": {},
   "outputs": [
    {
     "data": {
      "text/plain": [
       "(80000, 31)"
      ]
     },
     "execution_count": 15,
     "metadata": {},
     "output_type": "execute_result"
    }
   ],
   "source": [
    "data.shape"
   ]
  },
  {
   "cell_type": "code",
   "execution_count": 16,
   "metadata": {},
   "outputs": [
    {
     "name": "stdout",
     "output_type": "stream",
     "text": [
      "<class 'pandas.core.frame.DataFrame'>\n",
      "RangeIndex: 80000 entries, 0 to 79999\n",
      "Data columns (total 31 columns):\n",
      " #   Column                                          Non-Null Count  Dtype \n",
      "---  ------                                          --------------  ----- \n",
      " 0   nom                                             80000 non-null  object\n",
      " 1   URL                                             80000 non-null  object\n",
      " 2   code bar                                        80000 non-null  object\n",
      " 3   nutrtri-score                                   80000 non-null  object\n",
      " 4   nova                                            80000 non-null  object\n",
      " 5   ecoscore                                        80000 non-null  object\n",
      " 6   quantite                                        79998 non-null  object\n",
      " 7   conditionnement                                 80000 non-null  object\n",
      " 8   marques                                         80000 non-null  object\n",
      " 9   categorie                                       80000 non-null  object\n",
      " 10  label,certifications,récompenses                80000 non-null  object\n",
      " 11  origine                                         80000 non-null  object\n",
      " 12  lieu de fabrication                             80000 non-null  object\n",
      " 13  code de traçabilité                             80000 non-null  object\n",
      " 14  lien vers la page du produit                    80000 non-null  object\n",
      " 15  magasins                                        80000 non-null  object\n",
      " 16  pays de vente                                   80000 non-null  object\n",
      " 17  additifs                                        80000 non-null  object\n",
      " 18  ingrédients issus de l'huile de palme           80000 non-null  object\n",
      " 19  vitamines ajoutées                              80000 non-null  object\n",
      " 20  minéraux ajoutés                                80000 non-null  object\n",
      " 21  matières grasses/lipides pour 100g              80000 non-null  object\n",
      " 22  acides gras saturés pour 100g                   80000 non-null  object\n",
      " 23  sucres pour 100g                                80000 non-null  object\n",
      " 24  sel pour 100g                                   80000 non-null  object\n",
      " 25  catégories aux repères nutritionels similaires  80000 non-null  object\n",
      " 26  énergie en kj                                   80000 non-null  object\n",
      " 27  énergie en kcal                                 80000 non-null  object\n",
      " 28  libellés vert                                   80000 non-null  object\n",
      " 29  libellés orange                                 80000 non-null  object\n",
      " 30  libellés rouge                                  80000 non-null  object\n",
      "dtypes: object(31)\n",
      "memory usage: 18.9+ MB\n"
     ]
    }
   ],
   "source": [
    "data.info()"
   ]
  },
  {
   "cell_type": "code",
   "execution_count": 17,
   "metadata": {},
   "outputs": [],
   "source": [
    "# correction des noms de certaines colonnes\n",
    "data.rename(columns={'nutrtri-score' : 'nutriscore','libellés vert':'libellés verts','libellés orange':'libellés oranges',\\\n",
    "                    'libellés rouge':'libellés rouges','énergie en kj':'énergie en kj pour 100g',\\\n",
    "                    'énergie en kcal':'énergie en kcal pour 100g'},inplace=True) "
   ]
  },
  {
   "cell_type": "code",
   "execution_count": 18,
   "metadata": {},
   "outputs": [
    {
     "data": {
      "text/plain": [
       "Index(['nom', 'URL', 'code bar', 'nutriscore', 'nova', 'ecoscore', 'quantite',\n",
       "       'conditionnement', 'marques', 'categorie',\n",
       "       'label,certifications,récompenses', 'origine', 'lieu de fabrication',\n",
       "       'code de traçabilité', 'lien vers la page du produit', 'magasins',\n",
       "       'pays de vente', 'additifs', 'ingrédients issus de l'huile de palme',\n",
       "       'vitamines ajoutées', 'minéraux ajoutés',\n",
       "       'matières grasses/lipides pour 100g', 'acides gras saturés pour 100g',\n",
       "       'sucres pour 100g', 'sel pour 100g',\n",
       "       'catégories aux repères nutritionels similaires',\n",
       "       'énergie en kj pour 100g', 'énergie en kcal pour 100g',\n",
       "       'libellés verts', 'libellés oranges', 'libellés rouges'],\n",
       "      dtype='object')"
      ]
     },
     "execution_count": 18,
     "metadata": {},
     "output_type": "execute_result"
    }
   ],
   "source": [
    "data.columns"
   ]
  },
  {
   "cell_type": "markdown",
   "metadata": {},
   "source": [
    "### 2. 1. Transformation en variables numériques de certaines variables et nettoyage des variables catégorielles"
   ]
  },
  {
   "cell_type": "code",
   "execution_count": 19,
   "metadata": {},
   "outputs": [],
   "source": [
    "def clean(var):\n",
    "    y=var.strip().strip(',').replace(\"kcal\",\"\").replace(\"g\",\"\").replace(\"kj\",\"\").replace('\\xa0','').replace('?','').replace(' ','')\n",
    "    return y\n",
    "\n",
    "def tofloat(x):\n",
    "    try:\n",
    "        y=float(x)\n",
    "    except:\n",
    "        y=np.nan\n",
    "    return y\n",
    "\n",
    "# on transforme les colonnes donnant les quantités pour 100g de matières grasses/lipides,sucres,sel et acides gras saturés en appliquant \n",
    "#les deux fonctions précédents. \n",
    "for i in [21,22,23,24,26,27]:\n",
    "    col=data.columns[i]\n",
    "    data[col]=data[col].transform(clean).transform(tofloat)\n",
    "\n",
    "# on nettoie les colonnes de type object (on supprime la virgule et les espaces à la fin du texte)\n",
    "for i in range(len(data.columns)):\n",
    "    col=data.columns[i]\n",
    "    if data[col].dtypes==object : \n",
    "        data[col]=data[col].str.strip(' ')\n",
    "        data[col]=data[col].str.strip(',')"
   ]
  },
  {
   "cell_type": "markdown",
   "metadata": {},
   "source": [
    "### 2.2. Calcul du nombre de pays de ventes et du nombre d'additifs pour chaque produit."
   ]
  },
  {
   "cell_type": "markdown",
   "metadata": {},
   "source": [
    "On remarque que certains pays peuvent être présents plusieurs fois, en plusieurs langues. On tente un nettoyage de la colonne pays de vente.  "
   ]
  },
  {
   "cell_type": "code",
   "execution_count": 20,
   "metadata": {},
   "outputs": [
    {
     "data": {
      "text/plain": [
       "'France, Maroc, Espagne, Suisse, en:Alemania, en:Egipto, en:Francia, en:Suiza'"
      ]
     },
     "execution_count": 20,
     "metadata": {},
     "output_type": "execute_result"
    }
   ],
   "source": [
    "data['pays de vente'][33]"
   ]
  },
  {
   "cell_type": "code",
   "execution_count": 21,
   "metadata": {},
   "outputs": [
    {
     "data": {
      "text/plain": [
       "'https://fr.openfoodfacts.org//produit/3161711001971/caprice-des-dieux'"
      ]
     },
     "execution_count": 21,
     "metadata": {},
     "output_type": "execute_result"
    }
   ],
   "source": [
    "data.iloc[33,1]"
   ]
  },
  {
   "cell_type": "code",
   "execution_count": 23,
   "metadata": {},
   "outputs": [],
   "source": [
    "liste.sort()\n"
   ]
  },
  {
   "cell_type": "code",
   "execution_count": 26,
   "metadata": {},
   "outputs": [
    {
     "data": {
      "text/plain": [
       "['(100 produits)',\n",
       " 'Afrique du Sud',\n",
       " 'Allemagne',\n",
       " 'Arabie saoudite',\n",
       " 'Belgien',\n",
       " 'België',\n",
       " 'Bélgica',\n",
       " 'DOM TOM',\n",
       " 'Deutschland',\n",
       " 'Dom-tom',\n",
       " 'Espagne',\n",
       " 'France',\n",
       " 'Francia',\n",
       " 'Frankreich',\n",
       " 'Frankrijk',\n",
       " 'Gabon',\n",
       " 'Galmudug',\n",
       " 'Ghana',\n",
       " 'Grèce',\n",
       " 'Guadalupe',\n",
       " 'Guadeloupe',\n",
       " 'Guinée',\n",
       " 'Guyane',\n",
       " 'Géorgie',\n",
       " 'Hong Kong',\n",
       " 'Hongrie',\n",
       " 'Inde',\n",
       " 'Irak',\n",
       " 'Iran',\n",
       " 'Irlande',\n",
       " 'Israël',\n",
       " 'Italie',\n",
       " 'Japon',\n",
       " 'Jersey',\n",
       " 'Jordanie',\n",
       " 'Kazakhstan',\n",
       " 'Koweït',\n",
       " 'La Réunion',\n",
       " 'Liban',\n",
       " 'Libye',\n",
       " 'Luxembourg',\n",
       " 'Macao',\n",
       " 'Madagascar',\n",
       " 'Malaisie',\n",
       " 'Malte',\n",
       " 'Maroc',\n",
       " 'Marokko',\n",
       " 'Marruecos',\n",
       " 'Martinique',\n",
       " 'Maurice',\n",
       " 'Mauritanie',\n",
       " 'Mayotte',\n",
       " 'Mexique',\n",
       " 'Monaco',\n",
       " 'Niederlande',\n",
       " 'Nigeria',\n",
       " 'Norvège',\n",
       " 'Nouvelle-Calédonie',\n",
       " 'Nouvelle-Zélande',\n",
       " 'Panama',\n",
       " 'Pays-Bas',\n",
       " 'Philippines',\n",
       " 'Pologne',\n",
       " 'Polonia',\n",
       " 'Polska',\n",
       " 'Polynésie française',\n",
       " 'Portugal',\n",
       " 'Qatar',\n",
       " 'Roumanie',\n",
       " 'Royaume-Uni',\n",
       " 'Russie',\n",
       " 'Saint-Martin',\n",
       " 'Saint-Pierre-et-Miquelon',\n",
       " 'Schweiz',\n",
       " 'Serbie',\n",
       " 'Singapour',\n",
       " 'Slovaquie',\n",
       " 'Slovénie',\n",
       " 'Somalie',\n",
       " 'Spagna',\n",
       " 'Spanien',\n",
       " 'Suisse',\n",
       " 'Suiza',\n",
       " 'Suède',\n",
       " 'Sverige',\n",
       " 'Svizzera',\n",
       " 'Sénégal',\n",
       " 'Taiwan',\n",
       " 'Thaïlande',\n",
       " 'Togo',\n",
       " 'Tunisie',\n",
       " 'Turquie',\n",
       " 'Ukraine',\n",
       " 'Uruguay',\n",
       " 'Vereinigtes Königreich',\n",
       " 'Viêt Nam',\n",
       " 'Zambie',\n",
       " 'Zwitserland',\n",
       " 'cs:République tchèque',\n",
       " 'de:Allemagne',\n",
       " 'de:Autriche',\n",
       " 'de:Danemark',\n",
       " 'de:Großbritannien',\n",
       " 'de:La Réunion',\n",
       " 'de:Suiza',\n",
       " 'de:allemagne',\n",
       " 'de:autriche',\n",
       " 'en:Albanie',\n",
       " 'en:Alemania',\n",
       " 'en:Allemagne',\n",
       " 'en:Belgica',\n",
       " 'en:Belgique',\n",
       " 'en:Deutschland',\n",
       " 'en:En',\n",
       " 'en:Espagne',\n",
       " 'en:Francia',\n",
       " 'en:Frankreich',\n",
       " 'en:Irlande',\n",
       " 'en:Maroc',\n",
       " 'en:Mexique',\n",
       " 'en:Niederlande',\n",
       " 'en:Nouvelle-Zélande',\n",
       " 'en:Pays-Bas',\n",
       " 'en:Pologne',\n",
       " 'en:Reino Unido',\n",
       " 'en:Royaume-Uni',\n",
       " 'en:Schweiz',\n",
       " 'en:Singapour',\n",
       " 'en:Slovenie',\n",
       " 'en:Spagna',\n",
       " 'en:Spanyolország',\n",
       " 'en:Suisse',\n",
       " 'en:Suiza',\n",
       " 'en:Suède',\n",
       " 'en:Sverige',\n",
       " 'en:Szwajcaria',\n",
       " 'en:Thaïlande',\n",
       " 'en:Ungarn',\n",
       " 'en:Vereinigtes Königreich',\n",
       " 'en:Wybrzeże Kości Słoniowej',\n",
       " 'en:Zambia - English',\n",
       " 'en:allemagne',\n",
       " 'en:en',\n",
       " 'en:maroc',\n",
       " 'en:slowenien',\n",
       " 'en:suisse',\n",
       " 'en:suiza',\n",
       " 'en:États-Unis',\n",
       " 'en:Γαλλία',\n",
       " 'es:Afrique du Sud',\n",
       " 'es:Espagne',\n",
       " 'es:França',\n",
       " 'es:Mexique',\n",
       " 'es:Pays-Bas',\n",
       " 'es:Spanien',\n",
       " 'es:Spanje',\n",
       " 'es:Suisse',\n",
       " 'es:Španělsko',\n",
       " 'it:Bélgica',\n",
       " 'it:En',\n",
       " 'it:Italien',\n",
       " 'lb:Belgique',\n",
       " 'nl:Belgique',\n",
       " 'paysan-breton-les-surgeles',\n",
       " 'pt:Espagne',\n",
       " 'pt:Marruecos',\n",
       " 'xxx',\n",
       " 'Émirats arabes unis',\n",
       " 'États-Unis',\n",
       " 'Île de Man',\n",
       " 'Σερβία']"
      ]
     },
     "execution_count": 26,
     "metadata": {},
     "output_type": "execute_result"
    }
   ],
   "source": [
    "liste"
   ]
  },
  {
   "cell_type": "code",
   "execution_count": 76,
   "metadata": {},
   "outputs": [],
   "source": [
    "#Grâce à la liste précédente,on nettoie la colonne pays de vente:"
   ]
  },
  {
   "cell_type": "code",
   "execution_count": 77,
   "metadata": {},
   "outputs": [],
   "source": [
    "data['pays de vente']=data['pays de vente'].str.replace('..:','')\n",
    "data['pays de vente']=data['pays de vente'].str.replace('(é|è|É)','e')\n",
    "data['pays de vente']=data['pays de vente'].str.replace('-','',regex=False)\n",
    "data['pays de vente']=data['pays de vente'].str.replace('Arabia Saudita','Arabie saoudite',regex=False)\n",
    "data['pays de vente']=data['pays de vente'].str.replace('Czarnogóra','Montenegro')\n"
   ]
  },
  {
   "cell_type": "code",
   "execution_count": 78,
   "metadata": {},
   "outputs": [
    {
     "name": "stdout",
     "output_type": "stream",
     "text": [
      "364.9883096218109\n"
     ]
    }
   ],
   "source": [
    "import time\n",
    "import re\n",
    "liste=[]\n",
    "start=time.time()\n",
    "\n",
    "for i, var in enumerate(data['pays de vente']):\n",
    "    pays=var.split(',')\n",
    "    \n",
    "    for elt in pays:\n",
    "        elt=elt.strip()\n",
    "        \n",
    "        if re.search(r'(Paysan|Breton|land|en|100|Deutsch|English|Español|Loire|gourmand)',elt,re.IGNORECASE) :\n",
    "            data.loc[i,'pays de vente']=data.loc[i,'pays de vente'].replace(elt,'')\n",
    "            elt=''\n",
    "        \n",
    "        if re.search(r'(Duitsland|Germany|Alema|Allema)',elt,re.IGNORECASE):\n",
    "            data.loc[i,'pays de vente']=data.loc[i,'pays de vente'].replace(elt,'Allemagne')\n",
    "            elt='Allemagne'\n",
    "            \n",
    "\n",
    "        if re.search(r'^Austr',elt,re.IGNORECASE):\n",
    "            data.loc[i,'pays de vente']=data.loc[i,'pays de vente'].replace(elt,'Australie')\n",
    "            elt='Australie'\n",
    "            \n",
    "            \n",
    "        if re.search(r'(^Belgi|Βέλγιο)',elt,re.IGNORECASE) :\n",
    "            data.loc[i,'pays de vente']=data.loc[i,'pays de vente'].replace(elt,'Belgique')\n",
    "            elt='Belgique'\n",
    "            \n",
    "        elif re.search(r'^Boliv',elt,re.IGNORECASE) :\n",
    "            data.loc[i,'pays de vente']=data.loc[i,'pays de vente'].replace(elt,'Bolivie')\n",
    "            elt='Bolivie'\n",
    "        \n",
    "        elif re.search(r'^Bosni',elt,re.IGNORECASE) :\n",
    "            data.loc[i,'pays de vente']=data.loc[i,'pays de vente'].replace(elt,'Bosnie Herzegovine')\n",
    "            elt='Bosnie Herzegovine'\n",
    "        \n",
    "        elif re.search(r'Br',elt,re.IGNORECASE) :\n",
    "            data.loc[i,'pays de vente']=data.loc[i,'pays de vente'].replace(elt,'Bresil')\n",
    "            elt='Bresil'\n",
    "            \n",
    "        elif re.search(r'^Bulgar',elt,re.IGNORECASE) :\n",
    "            data.loc[i,'pays de vente']=data.loc[i,'pays de vente'].replace(elt,'Bulgarie')\n",
    "            elt='Bulgarie'\n",
    "        elif re.search(r'^Cambodia',elt,re.IGNORECASE) :\n",
    "            data.loc[i,'pays de vente']=data.loc[i,'pays de vente'].replace(elt,'Cambodge')\n",
    "            elt='Cambodge'\n",
    "        elif re.search(r'^Canada',elt,re.IGNORECASE) :\n",
    "            data.loc[i,'pays de vente']=data.loc[i,'pays de vente'].replace(elt,'Canada')\n",
    "            elt='Canada'\n",
    "        elif re.search(r'^Chil',elt,re.IGNORECASE) :\n",
    "            data.loc[i,'pays de vente']=data.loc[i,'pays de vente'].replace(elt,'Chili')\n",
    "            elt='Chili'\n",
    "        elif re.search(r'^Chin',elt,re.IGNORECASE) :\n",
    "            data.loc[i,'pays de vente']=data.loc[i,'pays de vente'].replace(elt,'Chine')\n",
    "            elt='Chine'\n",
    "        elif re.search(r'(^Chypr|Cyprus)',elt,re.IGNORECASE) :\n",
    "            data.loc[i,'pays de vente']=data.loc[i,'pays de vente'].replace(elt,'Chypre')\n",
    "            elt='Chypre'\n",
    "        elif re.search(r'(^Croat|Chorwacja)',elt,re.IGNORECASE) :\n",
    "            data.loc[i,'pays de vente']=data.loc[i,'pays de vente'].replace(elt,'Croatie')\n",
    "            elt='Croatie'\n",
    "        elif re.search(r'(^Czech|Tcheque)',elt,re.IGNORECASE) :\n",
    "            data.loc[i,'pays de vente']=data.loc[i,'pays de vente'].replace(elt,'Tchéquie')\n",
    "            elt='Tchéquie'\n",
    "        elif re.search(r'(^D.n.m|^D.nm)',elt,re.IGNORECASE) :\n",
    "            data.loc[i,'pays de vente']=data.loc[i,'pays de vente'].replace(elt,'Danemark')\n",
    "            elt='Danemark'\n",
    "        elif re.search(r'^DOM',elt,re.IGNORECASE) :\n",
    "            data.loc[i,'pays de vente']=data.loc[i,'pays de vente'].replace(elt,'DOM-TOM')\n",
    "            elt='DOM-TOM'\n",
    "        elif re.search(r'^Esp',elt,re.IGNORECASE) :\n",
    "            data.loc[i,'pays de vente']=data.loc[i,'pays de vente'].replace(elt,'Espagne')\n",
    "            elt='Espagne'\n",
    "        elif re.search(r'(^Fran.|Γαλλία)',elt,re.IGNORECASE) :\n",
    "            data.loc[i,'pays de vente']=data.loc[i,'pays de vente'].replace(elt,'France')\n",
    "            elt='France'\n",
    "        elif re.search(r'^Guad',elt,re.IGNORECASE) :\n",
    "            data.loc[i,'pays de vente']=data.loc[i,'pays de vente'].replace(elt,'Guadeloupe')\n",
    "            elt='Guadeloupe'\n",
    "        elif re.search(r'^Ital',elt,re.IGNORECASE) :\n",
    "            data.loc[i,'pays de vente']=data.loc[i,'pays de vente'].replace(elt,'Italie')\n",
    "            elt='Italie'\n",
    "        elif re.search(r'reunion',elt,re.IGNORECASE) :\n",
    "            data.loc[i,'pays de vente']=data.loc[i,'pays de vente'].replace(elt,'La Reunion')\n",
    "            elt='La Reunion'\n",
    "        elif re.search(r'^(Luks|Lux)',elt,re.IGNORECASE) :\n",
    "            data.loc[i,'pays de vente']=data.loc[i,'pays de vente'].replace(elt,'Luxembourg')\n",
    "            elt='Luxembourg'\n",
    "        elif re.search(r'(^Maro|Marruecos|Maroc)',elt,re.IGNORECASE) :\n",
    "            data.loc[i,'pays de vente']=data.loc[i,'pays de vente'].replace(elt,'Maroc')\n",
    "            elt='Maroc'\n",
    "            \n",
    "        elif re.search(r'Caledoni',elt,re.IGNORECASE) :\n",
    "            data.loc[i,'pays de vente']=data.loc[i,'pays de vente'].replace(elt,'Nouvelle Caledonie')\n",
    "            elt='Nouvelle Caledonie'\n",
    "        elif re.search(r'Pays',elt,re.IGNORECASE) and re.search(r'Bas',elt,re.IGNORECASE) :\n",
    "            data.loc[i,'pays de vente']=data.loc[i,'pays de vente'].replace(elt,'Pays-Bas')\n",
    "            elt='Pays-Bas'\n",
    "        \n",
    "        elif re.search(r'(Pol|Países Bajos|Polen)',elt,re.IGNORECASE) and not re.search(r'Poly',elt,re.IGNORECASE) :\n",
    "            data.loc[i,'pays de vente']=data.loc[i,'pays de vente'].replace(elt,'Pologne')\n",
    "            elt='Pologne'\n",
    "            \n",
    "        elif re.search(r'Polynesie',elt,re.IGNORECASE) :\n",
    "            data.loc[i,'pays de vente']=data.loc[i,'pays de vente'].replace(elt,'Polynesie française')\n",
    "            elt='Polynesie française'\n",
    "        elif re.search(r'royaume',elt,re.IGNORECASE) :\n",
    "            data.loc[i,'pays de vente']=data.loc[i,'pays de vente'].replace(elt,'Polynesie française')\n",
    "            elt='Polynesie française'\n",
    "        elif re.search(r'(royaume|united|Vereinigtes|reino)',elt,re.IGNORECASE) and re.search(r'(kingdom|Königreich|unido)',elt,re.IGNORECASE) : \n",
    "            data.loc[i,'pays de vente']=data.loc[i,'pays de vente'].replace(elt,'Royaume-Unis')\n",
    "            elt='Royaume-Unis'\n",
    "        \n",
    "        elif re.search(r'Rum',elt,re.IGNORECASE) :\n",
    "            data.loc[i,'pays de vente']=data.loc[i,'pays de vente'].replace(elt,'Roumanie')\n",
    "            elt='Roumanie'\n",
    "        \n",
    "        elif re.search(r'(^Grec|Σερβία|serb)',elt,re.IGNORECASE) :\n",
    "            data.loc[i,'pays de vente']=data.loc[i,'pays de vente'].replace(elt,'Serbie')\n",
    "            elt='Serbie'\n",
    "        elif re.search(r'(Schweiz|^Sui|Szwajcaria|Ελβετία)',elt,re.IGNORECASE) :\n",
    "            data.loc[i,'pays de vente']=data.loc[i,'pays de vente'].replace(elt,'Suisse')\n",
    "            elt='Suisse'\n",
    "        \n",
    "        elif re.search(r'(^spa|Hiszpania)',elt,re.IGNORECASE) :\n",
    "            data.loc[i,'pays de vente']=data.loc[i,'pays de vente'].replace(elt,'Espagne')\n",
    "            elt='Espagne'\n",
    "        elif re.search(r'ungar',elt,re.IGNORECASE) :\n",
    "            data.loc[i,'pays de vente']=data.loc[i,'pays de vente'].replace(elt,'Hongrie')\n",
    "            elt='Hongrie'\n",
    "            \n",
    "        elif re.search(r'(^Grec|Ελλάδα)',elt,re.IGNORECASE) :\n",
    "            data.loc[i,'pays de vente']=data.loc[i,'pays de vente'].replace(elt,'Grèce')\n",
    "            elt='Grèce'\n",
    "        elif re.search(r'(Estados Unidos|Etatsunis)',elt,re.IGNORECASE) :\n",
    "            data.loc[i,'pays de vente']=data.loc[i,'pays de vente'].replace(elt,'Etats-Unis')\n",
    "            elt='Etats-Unis'\n",
    "        elif re.search(r'europe',elt,re.IGNORECASE) :\n",
    "            data.loc[i,'pays de vente']=data.loc[i,'pays de vente'].replace(elt,'Europe')\n",
    "            elt='Europe'\n",
    "        elif re.search(r'Wybrzeże Kości Słoniowej',elt,re.IGNORECASE) :\n",
    "            data.loc[i,'pays de vente']=data.loc[i,'pays de vente'].replace(elt,'Cote d\\'Ivoire')\n",
    "            elt='Cote d\\'Ivoire'\n",
    "        elif re.search(r'^sue',elt,re.IGNORECASE) :\n",
    "            data.loc[i,'pays de vente']=data.loc[i,'pays de vente'].replace(elt,'Suede')\n",
    "            elt='Suede'\n",
    "        elif re.search(r'^eg',elt,re.IGNORECASE) :\n",
    "            data.loc[i,'pays de vente']=data.loc[i,'pays de vente'].replace(elt,'Egypte')\n",
    "            elt='Egypte'\n",
    "        elif re.search(r'^azerba',elt,re.IGNORECASE) :\n",
    "            data.loc[i,'pays de vente']=data.loc[i,'pays de vente'].replace(elt,'Azerbaidjan')\n",
    "            elt='Azerbaidjan'\n",
    "\n",
    "        if elt not in liste:\n",
    "            liste.append(elt)\n",
    "\n",
    "print(time.time()-start)"
   ]
  },
  {
   "cell_type": "markdown",
   "metadata": {},
   "source": [
    "Création des colonnes \"nombre de pays de vente\" et \"nombre d'additifs\""
   ]
  },
  {
   "cell_type": "code",
   "execution_count": 27,
   "metadata": {
    "scrolled": true
   },
   "outputs": [
    {
     "data": {
      "text/plain": [
       "'France, Maroc, Espagne, Suisse, en:Alemania, en:Egipto, en:Francia, en:Suiza'"
      ]
     },
     "execution_count": 27,
     "metadata": {},
     "output_type": "execute_result"
    }
   ],
   "source": [
    "data['pays de vente'][33]"
   ]
  },
  {
   "cell_type": "code",
   "execution_count": 28,
   "metadata": {},
   "outputs": [],
   "source": [
    "#supression des doublons\n",
    "def suppr_dbl(x):\n",
    "    l=x.split(',')\n",
    "    l=[x.strip() for x in l]\n",
    "    lu=np.unique(l)\n",
    "    y=\", \".join(lu)\n",
    "    return y\n",
    "data['pays de vente']=data['pays de vente'].apply(suppr_dbl)"
   ]
  },
  {
   "cell_type": "code",
   "execution_count": 29,
   "metadata": {},
   "outputs": [
    {
     "data": {
      "text/plain": [
       "'Espagne, France, Maroc, Suisse, en:Alemania, en:Egipto, en:Francia, en:Suiza'"
      ]
     },
     "execution_count": 29,
     "metadata": {},
     "output_type": "execute_result"
    }
   ],
   "source": [
    "data['pays de vente'][33]"
   ]
  },
  {
   "cell_type": "code",
   "execution_count": 30,
   "metadata": {},
   "outputs": [],
   "source": [
    "#nombre de pays de vente :\n",
    "def nbpays(x) : \n",
    "    \"\"\"détermine le nombre de pays de ventes d'un produit\n",
    "    entrée : les pays de vente séparés par des virgules\n",
    "    sorties : nombre de pays de vente en type str dans les chasses 1, 2,3 ou 4+ \"\"\"\n",
    "    if x==\"xxx\" :\n",
    "        return \"xxx\"\n",
    "    elif x==\"\":\n",
    "        return '0'\n",
    "    elif len(x.split(','))>=4:\n",
    "        return '4+'\n",
    "    else:\n",
    "        return str(len(x.split(',')))\n",
    "\n",
    "def nbadd(x):\n",
    "    \"\"\"détermine le nombre d'additifs d'un produit\n",
    "    entrée : les additifs séparés par des virgules\n",
    "    sorties : nombre d'additifs en numeric \"\"\"\n",
    "    if x==\"xxx\":\n",
    "        return np.nan\n",
    "    elif x==\"\":\n",
    "        return 0\n",
    "    else:\n",
    "        return len(x.split(','))\n"
   ]
  },
  {
   "cell_type": "code",
   "execution_count": 31,
   "metadata": {},
   "outputs": [],
   "source": [
    "data['nb_pays_vente']=data['pays de vente'].apply(nbpays)\n",
    "data['nb_additifs']=data['additifs'].apply(nbadd)"
   ]
  },
  {
   "cell_type": "code",
   "execution_count": 109,
   "metadata": {},
   "outputs": [],
   "source": [
    "#data.to_csv('data_cleaned.csv',sep=';')"
   ]
  },
  {
   "cell_type": "markdown",
   "metadata": {},
   "source": [
    "# 3.  Analyses"
   ]
  },
  {
   "cell_type": "code",
   "execution_count": 32,
   "metadata": {},
   "outputs": [],
   "source": [
    "import matplotlib.pyplot as plt\n",
    "import seaborn as sns\n",
    "import numpy as np\n",
    "import pandas as pd\n",
    "\n",
    "#options d'affichage des dataframe\n",
    "pd.set_option(\"display.max_columns\", 36)\n",
    "pd.set_option(\"display.max_colwidth\", 100)\n"
   ]
  },
  {
   "cell_type": "code",
   "execution_count": 33,
   "metadata": {},
   "outputs": [],
   "source": [
    "data=pd.read_csv('data_cleaned.csv',sep=';')"
   ]
  },
  {
   "cell_type": "code",
   "execution_count": 112,
   "metadata": {},
   "outputs": [
    {
     "data": {
      "text/plain": [
       "Index(['Unnamed: 0', 'Unnamed: 0.1', 'nom', 'URL', 'code bar', 'nutriscore',\n",
       "       'nova', 'ecoscore', 'quantite', 'conditionnement', 'marques',\n",
       "       'categorie', 'label,certifications,récompenses', 'origine',\n",
       "       'lieu de fabrication', 'code de traçabilité',\n",
       "       'lien vers la page du produit', 'magasins', 'pays de vente', 'additifs',\n",
       "       'ingrédients issus de l'huile de palme', 'vitamines ajoutées',\n",
       "       'minéraux ajoutés', 'matières grasses/lipides pour 100g',\n",
       "       'acides gras saturés pour 100g', 'sucres pour 100g', 'sel pour 100g',\n",
       "       'catégories aux repères nutritionels similaires',\n",
       "       'énergie en kj pour 100g', 'énergie en kcal pour 100g',\n",
       "       'libellés verts', 'libellés oranges', 'libellés rouges',\n",
       "       'nb_pays_vente', 'nb_additifs', 'huile de palme'],\n",
       "      dtype='object')"
      ]
     },
     "execution_count": 112,
     "metadata": {},
     "output_type": "execute_result"
    }
   ],
   "source": [
    "data.columns"
   ]
  },
  {
   "cell_type": "markdown",
   "metadata": {},
   "source": [
    "### 3.1. Distribution du nombre de produits par catégorie Nutri Score, Nova et Eco score.( 100 possibilités)"
   ]
  },
  {
   "cell_type": "code",
   "execution_count": 113,
   "metadata": {},
   "outputs": [
    {
     "data": {
      "text/html": [
       "<div>\n",
       "<style scoped>\n",
       "    .dataframe tbody tr th:only-of-type {\n",
       "        vertical-align: middle;\n",
       "    }\n",
       "\n",
       "    .dataframe tbody tr th {\n",
       "        vertical-align: top;\n",
       "    }\n",
       "\n",
       "    .dataframe thead tr th {\n",
       "        text-align: left;\n",
       "    }\n",
       "\n",
       "    .dataframe thead tr:last-of-type th {\n",
       "        text-align: right;\n",
       "    }\n",
       "</style>\n",
       "<table border=\"1\" class=\"dataframe\">\n",
       "  <thead>\n",
       "    <tr>\n",
       "      <th>nova</th>\n",
       "      <th colspan=\"6\" halign=\"left\">1</th>\n",
       "      <th colspan=\"6\" halign=\"left\">2</th>\n",
       "      <th colspan=\"6\" halign=\"left\">3</th>\n",
       "      <th colspan=\"6\" halign=\"left\">4</th>\n",
       "      <th colspan=\"6\" halign=\"left\">xxx</th>\n",
       "    </tr>\n",
       "    <tr>\n",
       "      <th>ecoscore</th>\n",
       "      <th>A</th>\n",
       "      <th>B</th>\n",
       "      <th>C</th>\n",
       "      <th>D</th>\n",
       "      <th>E</th>\n",
       "      <th>xxx</th>\n",
       "      <th>A</th>\n",
       "      <th>B</th>\n",
       "      <th>C</th>\n",
       "      <th>D</th>\n",
       "      <th>E</th>\n",
       "      <th>xxx</th>\n",
       "      <th>A</th>\n",
       "      <th>B</th>\n",
       "      <th>C</th>\n",
       "      <th>D</th>\n",
       "      <th>E</th>\n",
       "      <th>xxx</th>\n",
       "      <th>A</th>\n",
       "      <th>B</th>\n",
       "      <th>C</th>\n",
       "      <th>D</th>\n",
       "      <th>E</th>\n",
       "      <th>xxx</th>\n",
       "      <th>A</th>\n",
       "      <th>B</th>\n",
       "      <th>C</th>\n",
       "      <th>D</th>\n",
       "      <th>E</th>\n",
       "      <th>xxx</th>\n",
       "    </tr>\n",
       "    <tr>\n",
       "      <th>nutriscore</th>\n",
       "      <th></th>\n",
       "      <th></th>\n",
       "      <th></th>\n",
       "      <th></th>\n",
       "      <th></th>\n",
       "      <th></th>\n",
       "      <th></th>\n",
       "      <th></th>\n",
       "      <th></th>\n",
       "      <th></th>\n",
       "      <th></th>\n",
       "      <th></th>\n",
       "      <th></th>\n",
       "      <th></th>\n",
       "      <th></th>\n",
       "      <th></th>\n",
       "      <th></th>\n",
       "      <th></th>\n",
       "      <th></th>\n",
       "      <th></th>\n",
       "      <th></th>\n",
       "      <th></th>\n",
       "      <th></th>\n",
       "      <th></th>\n",
       "      <th></th>\n",
       "      <th></th>\n",
       "      <th></th>\n",
       "      <th></th>\n",
       "      <th></th>\n",
       "      <th></th>\n",
       "    </tr>\n",
       "  </thead>\n",
       "  <tbody>\n",
       "    <tr>\n",
       "      <th>A</th>\n",
       "      <td>508</td>\n",
       "      <td>1310</td>\n",
       "      <td>481</td>\n",
       "      <td>137</td>\n",
       "      <td>120</td>\n",
       "      <td>1009</td>\n",
       "      <td>0</td>\n",
       "      <td>1</td>\n",
       "      <td>1</td>\n",
       "      <td>3</td>\n",
       "      <td>0</td>\n",
       "      <td>0</td>\n",
       "      <td>726</td>\n",
       "      <td>1158</td>\n",
       "      <td>234</td>\n",
       "      <td>95</td>\n",
       "      <td>45</td>\n",
       "      <td>660</td>\n",
       "      <td>528</td>\n",
       "      <td>1179</td>\n",
       "      <td>284</td>\n",
       "      <td>217</td>\n",
       "      <td>128</td>\n",
       "      <td>1050</td>\n",
       "      <td>185</td>\n",
       "      <td>739</td>\n",
       "      <td>205</td>\n",
       "      <td>188</td>\n",
       "      <td>87</td>\n",
       "      <td>639</td>\n",
       "    </tr>\n",
       "    <tr>\n",
       "      <th>B</th>\n",
       "      <td>24</td>\n",
       "      <td>307</td>\n",
       "      <td>199</td>\n",
       "      <td>174</td>\n",
       "      <td>59</td>\n",
       "      <td>187</td>\n",
       "      <td>0</td>\n",
       "      <td>1</td>\n",
       "      <td>0</td>\n",
       "      <td>0</td>\n",
       "      <td>0</td>\n",
       "      <td>2</td>\n",
       "      <td>274</td>\n",
       "      <td>606</td>\n",
       "      <td>187</td>\n",
       "      <td>291</td>\n",
       "      <td>187</td>\n",
       "      <td>553</td>\n",
       "      <td>481</td>\n",
       "      <td>1203</td>\n",
       "      <td>703</td>\n",
       "      <td>590</td>\n",
       "      <td>381</td>\n",
       "      <td>1498</td>\n",
       "      <td>49</td>\n",
       "      <td>399</td>\n",
       "      <td>251</td>\n",
       "      <td>312</td>\n",
       "      <td>147</td>\n",
       "      <td>656</td>\n",
       "    </tr>\n",
       "    <tr>\n",
       "      <th>C</th>\n",
       "      <td>40</td>\n",
       "      <td>163</td>\n",
       "      <td>361</td>\n",
       "      <td>406</td>\n",
       "      <td>52</td>\n",
       "      <td>152</td>\n",
       "      <td>2</td>\n",
       "      <td>39</td>\n",
       "      <td>135</td>\n",
       "      <td>90</td>\n",
       "      <td>0</td>\n",
       "      <td>26</td>\n",
       "      <td>240</td>\n",
       "      <td>890</td>\n",
       "      <td>335</td>\n",
       "      <td>411</td>\n",
       "      <td>134</td>\n",
       "      <td>542</td>\n",
       "      <td>407</td>\n",
       "      <td>2017</td>\n",
       "      <td>1715</td>\n",
       "      <td>963</td>\n",
       "      <td>287</td>\n",
       "      <td>2034</td>\n",
       "      <td>68</td>\n",
       "      <td>545</td>\n",
       "      <td>497</td>\n",
       "      <td>661</td>\n",
       "      <td>166</td>\n",
       "      <td>686</td>\n",
       "    </tr>\n",
       "    <tr>\n",
       "      <th>D</th>\n",
       "      <td>10</td>\n",
       "      <td>65</td>\n",
       "      <td>103</td>\n",
       "      <td>53</td>\n",
       "      <td>24</td>\n",
       "      <td>85</td>\n",
       "      <td>78</td>\n",
       "      <td>123</td>\n",
       "      <td>36</td>\n",
       "      <td>47</td>\n",
       "      <td>13</td>\n",
       "      <td>34</td>\n",
       "      <td>134</td>\n",
       "      <td>1045</td>\n",
       "      <td>931</td>\n",
       "      <td>1032</td>\n",
       "      <td>288</td>\n",
       "      <td>453</td>\n",
       "      <td>236</td>\n",
       "      <td>1949</td>\n",
       "      <td>2138</td>\n",
       "      <td>1872</td>\n",
       "      <td>854</td>\n",
       "      <td>2058</td>\n",
       "      <td>60</td>\n",
       "      <td>633</td>\n",
       "      <td>535</td>\n",
       "      <td>689</td>\n",
       "      <td>305</td>\n",
       "      <td>837</td>\n",
       "    </tr>\n",
       "    <tr>\n",
       "      <th>E</th>\n",
       "      <td>1</td>\n",
       "      <td>10</td>\n",
       "      <td>34</td>\n",
       "      <td>13</td>\n",
       "      <td>3</td>\n",
       "      <td>48</td>\n",
       "      <td>1</td>\n",
       "      <td>0</td>\n",
       "      <td>76</td>\n",
       "      <td>135</td>\n",
       "      <td>130</td>\n",
       "      <td>55</td>\n",
       "      <td>28</td>\n",
       "      <td>211</td>\n",
       "      <td>340</td>\n",
       "      <td>374</td>\n",
       "      <td>86</td>\n",
       "      <td>197</td>\n",
       "      <td>52</td>\n",
       "      <td>514</td>\n",
       "      <td>1302</td>\n",
       "      <td>1889</td>\n",
       "      <td>1126</td>\n",
       "      <td>1961</td>\n",
       "      <td>11</td>\n",
       "      <td>135</td>\n",
       "      <td>336</td>\n",
       "      <td>343</td>\n",
       "      <td>215</td>\n",
       "      <td>675</td>\n",
       "    </tr>\n",
       "    <tr>\n",
       "      <th>xxx</th>\n",
       "      <td>231</td>\n",
       "      <td>332</td>\n",
       "      <td>67</td>\n",
       "      <td>80</td>\n",
       "      <td>127</td>\n",
       "      <td>336</td>\n",
       "      <td>238</td>\n",
       "      <td>285</td>\n",
       "      <td>12</td>\n",
       "      <td>10</td>\n",
       "      <td>6</td>\n",
       "      <td>2</td>\n",
       "      <td>30</td>\n",
       "      <td>180</td>\n",
       "      <td>250</td>\n",
       "      <td>66</td>\n",
       "      <td>10</td>\n",
       "      <td>189</td>\n",
       "      <td>473</td>\n",
       "      <td>482</td>\n",
       "      <td>332</td>\n",
       "      <td>218</td>\n",
       "      <td>67</td>\n",
       "      <td>3225</td>\n",
       "      <td>158</td>\n",
       "      <td>746</td>\n",
       "      <td>298</td>\n",
       "      <td>207</td>\n",
       "      <td>172</td>\n",
       "      <td>8448</td>\n",
       "    </tr>\n",
       "  </tbody>\n",
       "</table>\n",
       "</div>"
      ],
      "text/plain": [
       "nova          1                               2                            3  \\\n",
       "ecoscore      A     B    C    D    E   xxx    A    B    C    D    E xxx    A   \n",
       "nutriscore                                                                     \n",
       "A           508  1310  481  137  120  1009    0    1    1    3    0   0  726   \n",
       "B            24   307  199  174   59   187    0    1    0    0    0   2  274   \n",
       "C            40   163  361  406   52   152    2   39  135   90    0  26  240   \n",
       "D            10    65  103   53   24    85   78  123   36   47   13  34  134   \n",
       "E             1    10   34   13    3    48    1    0   76  135  130  55   28   \n",
       "xxx         231   332   67   80  127   336  238  285   12   10    6   2   30   \n",
       "\n",
       "nova                                     4                                xxx  \\\n",
       "ecoscore       B    C     D    E  xxx    A     B     C     D     E   xxx    A   \n",
       "nutriscore                                                                      \n",
       "A           1158  234    95   45  660  528  1179   284   217   128  1050  185   \n",
       "B            606  187   291  187  553  481  1203   703   590   381  1498   49   \n",
       "C            890  335   411  134  542  407  2017  1715   963   287  2034   68   \n",
       "D           1045  931  1032  288  453  236  1949  2138  1872   854  2058   60   \n",
       "E            211  340   374   86  197   52   514  1302  1889  1126  1961   11   \n",
       "xxx          180  250    66   10  189  473   482   332   218    67  3225  158   \n",
       "\n",
       "nova                                  \n",
       "ecoscore      B    C    D    E   xxx  \n",
       "nutriscore                            \n",
       "A           739  205  188   87   639  \n",
       "B           399  251  312  147   656  \n",
       "C           545  497  661  166   686  \n",
       "D           633  535  689  305   837  \n",
       "E           135  336  343  215   675  \n",
       "xxx         746  298  207  172  8448  "
      ]
     },
     "execution_count": 113,
     "metadata": {},
     "output_type": "execute_result"
    }
   ],
   "source": [
    "#effectifs par nutriscore, nova, ecoscore\n",
    "pd.crosstab(data['nutriscore'], [data['nova'], data['ecoscore']])\n",
    " "
   ]
  },
  {
   "cell_type": "code",
   "execution_count": 114,
   "metadata": {},
   "outputs": [],
   "source": [
    "dh=pd.crosstab(data['nutriscore'], [data['nova'], data['ecoscore']],normalize=True)\n",
    "dh=np.round(dh,4)*100  #obtenir les proportions en %"
   ]
  },
  {
   "cell_type": "code",
   "execution_count": 115,
   "metadata": {},
   "outputs": [
    {
     "data": {
      "image/png": "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\n",
      "text/plain": [
       "<Figure size 1440x720 with 2 Axes>"
      ]
     },
     "metadata": {
      "needs_background": "light"
     },
     "output_type": "display_data"
    }
   ],
   "source": [
    "dh=pd.crosstab(data['nutriscore'], [data['nova'], data['ecoscore']],normalize=True)\n",
    "dh=np.round(dh,4)*100  #obtenir les proportions en %\n",
    "# visualisation avec heatmap\n",
    "plt.figure(figsize=(20,10))\n",
    "ax=plt.axes()\n",
    "sns.heatmap(dh,cmap='magma_r',linewidths=0.01,xticklabels=1,annot=True,fmt='g',center=6)\n",
    "ax.set_title('Distribution en pourcentage du nombre de produits par nutriscore, nova et écoscore')\n",
    "plt.show()"
   ]
  },
  {
   "cell_type": "markdown",
   "metadata": {},
   "source": [
    "10,6 % des produits du dataset n'ont aucune indication nutriscore, nova ni eco-score. <br/>\n",
    "On remarque particulièrement la faible proportion de produits qui ont un nova à 2, ainsi que la plus forte présence de produits de nova 4 avec un nutriscore D ou E.   "
   ]
  },
  {
   "cell_type": "markdown",
   "metadata": {},
   "source": [
    "### 3.2. Liste des produits ayant “gluten free” optimaux (Nutri score A, Nova 1 et Ecoscore A)"
   ]
  },
  {
   "cell_type": "code",
   "execution_count": 116,
   "metadata": {},
   "outputs": [
    {
     "name": "stderr",
     "output_type": "stream",
     "text": [
      "C:\\Users\\celine\\anaconda3\\lib\\site-packages\\pandas\\core\\strings.py:1954: UserWarning: This pattern has match groups. To actually get the groups, use str.extract.\n",
      "  return func(self, *args, **kwargs)\n"
     ]
    },
    {
     "data": {
      "text/html": [
       "<div>\n",
       "<style scoped>\n",
       "    .dataframe tbody tr th:only-of-type {\n",
       "        vertical-align: middle;\n",
       "    }\n",
       "\n",
       "    .dataframe tbody tr th {\n",
       "        vertical-align: top;\n",
       "    }\n",
       "\n",
       "    .dataframe thead th {\n",
       "        text-align: right;\n",
       "    }\n",
       "</style>\n",
       "<table border=\"1\" class=\"dataframe\">\n",
       "  <thead>\n",
       "    <tr style=\"text-align: right;\">\n",
       "      <th></th>\n",
       "      <th>Unnamed: 0</th>\n",
       "      <th>Unnamed: 0.1</th>\n",
       "      <th>nom</th>\n",
       "      <th>URL</th>\n",
       "      <th>code bar</th>\n",
       "      <th>nutriscore</th>\n",
       "      <th>nova</th>\n",
       "      <th>ecoscore</th>\n",
       "      <th>quantite</th>\n",
       "      <th>conditionnement</th>\n",
       "      <th>marques</th>\n",
       "      <th>categorie</th>\n",
       "      <th>label,certifications,récompenses</th>\n",
       "      <th>origine</th>\n",
       "      <th>lieu de fabrication</th>\n",
       "      <th>code de traçabilité</th>\n",
       "      <th>lien vers la page du produit</th>\n",
       "      <th>magasins</th>\n",
       "      <th>pays de vente</th>\n",
       "      <th>additifs</th>\n",
       "      <th>ingrédients issus de l'huile de palme</th>\n",
       "      <th>vitamines ajoutées</th>\n",
       "      <th>minéraux ajoutés</th>\n",
       "      <th>matières grasses/lipides pour 100g</th>\n",
       "      <th>acides gras saturés pour 100g</th>\n",
       "      <th>sucres pour 100g</th>\n",
       "      <th>sel pour 100g</th>\n",
       "      <th>catégories aux repères nutritionels similaires</th>\n",
       "      <th>énergie en kj pour 100g</th>\n",
       "      <th>énergie en kcal pour 100g</th>\n",
       "      <th>libellés verts</th>\n",
       "      <th>libellés oranges</th>\n",
       "      <th>libellés rouges</th>\n",
       "      <th>nb_pays_vente</th>\n",
       "      <th>nb_additifs</th>\n",
       "      <th>huile de palme</th>\n",
       "    </tr>\n",
       "  </thead>\n",
       "  <tbody>\n",
       "    <tr>\n",
       "      <th>1569</th>\n",
       "      <td>1569</td>\n",
       "      <td>1569</td>\n",
       "      <td>Tartines craquantes bio au sarrasin sans gluten - Le Pain des Fleurs - 150 g</td>\n",
       "      <td>https://fr.openfoodfacts.org//produit/3380380046940/tartines-craquantes-bio-au-sarrasin-sans-glu...</td>\n",
       "      <td>3380380046940</td>\n",
       "      <td>A</td>\n",
       "      <td>1</td>\n",
       "      <td>A</td>\n",
       "      <td>150 g</td>\n",
       "      <td>Carton</td>\n",
       "      <td>Le Pain des Fleurs</td>\n",
       "      <td>Aliments et boissons à base de végétaux, Aliments d'origine végétale, Céréales et pommes de terr...</td>\n",
       "      <td>Peu ou pas de sel, Peu ou pas de sucre, Bio, Végétarien, Sans gluten, Végétalien, Fabriqué en Fr...</td>\n",
       "      <td>xxx</td>\n",
       "      <td>xxx</td>\n",
       "      <td>xxx</td>\n",
       "      <td>https://fr.openfoodfacts.org/eco-score-l-impact-environnemental-des-produits-alimentaires</td>\n",
       "      <td>xxx</td>\n",
       "      <td>Belgique, France</td>\n",
       "      <td>xxx</td>\n",
       "      <td>xxx</td>\n",
       "      <td>xxx</td>\n",
       "      <td>xxx</td>\n",
       "      <td>2.7</td>\n",
       "      <td>0.6</td>\n",
       "      <td>1.7</td>\n",
       "      <td>0.0</td>\n",
       "      <td>Tartines craquantes</td>\n",
       "      <td>1642.0</td>\n",
       "      <td>388.0</td>\n",
       "      <td>Sans huile de palme, Végétalien, Végétarien</td>\n",
       "      <td>xxx</td>\n",
       "      <td>xxx</td>\n",
       "      <td>2</td>\n",
       "      <td>NaN</td>\n",
       "      <td>xxx</td>\n",
       "    </tr>\n",
       "  </tbody>\n",
       "</table>\n",
       "</div>"
      ],
      "text/plain": [
       "      Unnamed: 0  Unnamed: 0.1  \\\n",
       "1569        1569          1569   \n",
       "\n",
       "                                                                               nom  \\\n",
       "1569  Tartines craquantes bio au sarrasin sans gluten - Le Pain des Fleurs - 150 g   \n",
       "\n",
       "                                                                                                      URL  \\\n",
       "1569  https://fr.openfoodfacts.org//produit/3380380046940/tartines-craquantes-bio-au-sarrasin-sans-glu...   \n",
       "\n",
       "           code bar nutriscore nova ecoscore quantite conditionnement  \\\n",
       "1569  3380380046940          A    1        A    150 g          Carton   \n",
       "\n",
       "                 marques  \\\n",
       "1569  Le Pain des Fleurs   \n",
       "\n",
       "                                                                                                categorie  \\\n",
       "1569  Aliments et boissons à base de végétaux, Aliments d'origine végétale, Céréales et pommes de terr...   \n",
       "\n",
       "                                                                         label,certifications,récompenses  \\\n",
       "1569  Peu ou pas de sel, Peu ou pas de sucre, Bio, Végétarien, Sans gluten, Végétalien, Fabriqué en Fr...   \n",
       "\n",
       "     origine lieu de fabrication code de traçabilité  \\\n",
       "1569     xxx                 xxx                 xxx   \n",
       "\n",
       "                                                                   lien vers la page du produit  \\\n",
       "1569  https://fr.openfoodfacts.org/eco-score-l-impact-environnemental-des-produits-alimentaires   \n",
       "\n",
       "     magasins     pays de vente additifs  \\\n",
       "1569      xxx  Belgique, France      xxx   \n",
       "\n",
       "     ingrédients issus de l'huile de palme vitamines ajoutées  \\\n",
       "1569                                   xxx                xxx   \n",
       "\n",
       "     minéraux ajoutés  matières grasses/lipides pour 100g  \\\n",
       "1569              xxx                                 2.7   \n",
       "\n",
       "      acides gras saturés pour 100g  sucres pour 100g  sel pour 100g  \\\n",
       "1569                            0.6               1.7            0.0   \n",
       "\n",
       "     catégories aux repères nutritionels similaires  énergie en kj pour 100g  \\\n",
       "1569                            Tartines craquantes                   1642.0   \n",
       "\n",
       "      énergie en kcal pour 100g                               libellés verts  \\\n",
       "1569                      388.0  Sans huile de palme, Végétalien, Végétarien   \n",
       "\n",
       "     libellés oranges libellés rouges nb_pays_vente  nb_additifs  \\\n",
       "1569              xxx             xxx             2          NaN   \n",
       "\n",
       "     huile de palme  \n",
       "1569            xxx  "
      ]
     },
     "execution_count": 116,
     "metadata": {},
     "output_type": "execute_result"
    }
   ],
   "source": [
    "dgf_op=data[(data['nom'].str.contains('(sans gluten|glutenfree|gluten free)',flags=re.IGNORECASE)) &\\\n",
    "    (data['nova']=='1') & (data['nutriscore']=='A') & (data['ecoscore']=='A')]\n",
    "dgf_op"
   ]
  },
  {
   "cell_type": "markdown",
   "metadata": {},
   "source": [
    "Nous ne trouvons qu'un seul produit gluten free \"optimal\". Nous décidons de faire une heatmap particulière pour les produits sans gluten. "
   ]
  },
  {
   "cell_type": "code",
   "execution_count": 117,
   "metadata": {},
   "outputs": [
    {
     "name": "stderr",
     "output_type": "stream",
     "text": [
      "C:\\Users\\celine\\anaconda3\\lib\\site-packages\\pandas\\core\\strings.py:1954: UserWarning: This pattern has match groups. To actually get the groups, use str.extract.\n",
      "  return func(self, *args, **kwargs)\n"
     ]
    }
   ],
   "source": [
    "#ensemble des produits gluten free\n",
    "dgf=data[data['nom'].str.contains('(sans gluten|glutenfree|gluten free)',flags=re.IGNORECASE)]"
   ]
  },
  {
   "cell_type": "code",
   "execution_count": 118,
   "metadata": {},
   "outputs": [
    {
     "data": {
      "text/plain": [
       "(349, 36)"
      ]
     },
     "execution_count": 118,
     "metadata": {},
     "output_type": "execute_result"
    }
   ],
   "source": [
    "dgf.shape  #présence de 349 produits dans notre dataset"
   ]
  },
  {
   "cell_type": "code",
   "execution_count": 119,
   "metadata": {},
   "outputs": [
    {
     "data": {
      "image/png": "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\n",
      "text/plain": [
       "<Figure size 1440x720 with 2 Axes>"
      ]
     },
     "metadata": {
      "needs_background": "light"
     },
     "output_type": "display_data"
    }
   ],
   "source": [
    "dh=pd.crosstab(dgf['nutriscore'], [dgf['nova'], dgf['ecoscore']],normalize=True)\n",
    "dh=np.round(dh,4)*100  #obtenir les proportions en %\n",
    "# visualisation avec heatmap\n",
    "plt.figure(figsize=(20,10))\n",
    "ax=plt.axes()\n",
    "sns.heatmap(dh,cmap='magma_r',linewidths=0.01,xticklabels=1,annot=True,fmt='g',center=6)\n",
    "ax.set_title('Distribution en pourcentage du nombre de produits glutenfree par nutriscore, nova et écoscore')\n",
    "plt.show()"
   ]
  },
  {
   "cell_type": "markdown",
   "metadata": {},
   "source": [
    "L'une des plus large sous classe des produits gluten free a pour nutriscore D, nova 4 et ecoscore D (6.02 %)"
   ]
  },
  {
   "cell_type": "markdown",
   "metadata": {},
   "source": [
    "### 3.3 Nombre de produit dont le ratio sucre/produit est supérieur à 0.6\n"
   ]
  },
  {
   "cell_type": "code",
   "execution_count": 120,
   "metadata": {},
   "outputs": [
    {
     "data": {
      "text/plain": [
       "(1624, 36)"
      ]
     },
     "execution_count": 120,
     "metadata": {},
     "output_type": "execute_result"
    }
   ],
   "source": [
    "data[data['sucres pour 100g']>60].shape"
   ]
  },
  {
   "cell_type": "code",
   "execution_count": 121,
   "metadata": {
    "scrolled": true
   },
   "outputs": [
    {
     "data": {
      "text/html": [
       "<div>\n",
       "<style scoped>\n",
       "    .dataframe tbody tr th:only-of-type {\n",
       "        vertical-align: middle;\n",
       "    }\n",
       "\n",
       "    .dataframe tbody tr th {\n",
       "        vertical-align: top;\n",
       "    }\n",
       "\n",
       "    .dataframe thead th {\n",
       "        text-align: right;\n",
       "    }\n",
       "</style>\n",
       "<table border=\"1\" class=\"dataframe\">\n",
       "  <thead>\n",
       "    <tr style=\"text-align: right;\">\n",
       "      <th></th>\n",
       "      <th>nom</th>\n",
       "      <th>URL</th>\n",
       "      <th>sucres pour 100g</th>\n",
       "    </tr>\n",
       "  </thead>\n",
       "  <tbody>\n",
       "    <tr>\n",
       "      <th>20849</th>\n",
       "      <td>Dulce de leche Estilo Colonial - La Serenísima - 400 g</td>\n",
       "      <td>https://fr.openfoodfacts.org//produit/7790742140609/dulce-de-leche-estilo-colonial-la-serenisima</td>\n",
       "      <td>275.0</td>\n",
       "    </tr>\n",
       "    <tr>\n",
       "      <th>8794</th>\n",
       "      <td>Poudre de chocolat - Nestlé - 800 g</td>\n",
       "      <td>https://fr.openfoodfacts.org//produit/7613036184359/poudre-de-chocolat-nestle</td>\n",
       "      <td>146.0</td>\n",
       "    </tr>\n",
       "    <tr>\n",
       "      <th>40024</th>\n",
       "      <td>Koa &amp; Choc 7 vitamines - Rik &amp; Rok - 400 g</td>\n",
       "      <td>https://fr.openfoodfacts.org//produit/3254560039940/koa-choc-7-vitamines-rik-rok</td>\n",
       "      <td>135.0</td>\n",
       "    </tr>\n",
       "    <tr>\n",
       "      <th>40051</th>\n",
       "      <td>Leader quick - Leader Price - 1 kg</td>\n",
       "      <td>https://fr.openfoodfacts.org//produit/3263850776212/leader-quick-leader-price</td>\n",
       "      <td>125.0</td>\n",
       "    </tr>\n",
       "    <tr>\n",
       "      <th>8252</th>\n",
       "      <td>Grand arôme - Poulain - 400g</td>\n",
       "      <td>https://fr.openfoodfacts.org//produit/10662564/grand-arome-poulain</td>\n",
       "      <td>120.0</td>\n",
       "    </tr>\n",
       "    <tr>\n",
       "      <th>20783</th>\n",
       "      <td>Sirop d'agave pur - Allos - 500 ml</td>\n",
       "      <td>https://fr.openfoodfacts.org//produit/4016249015732/sirop-d-agave-pur-allos</td>\n",
       "      <td>104.0</td>\n",
       "    </tr>\n",
       "    <tr>\n",
       "      <th>31700</th>\n",
       "      <td>Sucre Poudre - Béghin Say - 500 g</td>\n",
       "      <td>https://fr.openfoodfacts.org//produit/3174660000902/sucre-poudre-beghin-say</td>\n",
       "      <td>100.0</td>\n",
       "    </tr>\n",
       "    <tr>\n",
       "      <th>22103</th>\n",
       "      <td>Erstein morceau boite 1kg - gamme courants - 1000 g</td>\n",
       "      <td>https://fr.openfoodfacts.org//produit/3071900001111/erstein-morceau-boite-1kg-gamme-courants</td>\n",
       "      <td>100.0</td>\n",
       "    </tr>\n",
       "    <tr>\n",
       "      <th>64353</th>\n",
       "      <td>Sucre de betterave bio - AF - 750 g</td>\n",
       "      <td>https://fr.openfoodfacts.org//produit/3268740100016/sucre-de-betterave-bio-af</td>\n",
       "      <td>100.0</td>\n",
       "    </tr>\n",
       "    <tr>\n",
       "      <th>9111</th>\n",
       "      <td>Sucre blond de canne - CARREFOUR BIO - 500 g</td>\n",
       "      <td>https://fr.openfoodfacts.org//produit/3270190191155/sucre-blond-de-canne-carrefour-bio</td>\n",
       "      <td>100.0</td>\n",
       "    </tr>\n",
       "  </tbody>\n",
       "</table>\n",
       "</div>"
      ],
      "text/plain": [
       "                                                          nom  \\\n",
       "20849  Dulce de leche Estilo Colonial - La Serenísima - 400 g   \n",
       "8794                      Poudre de chocolat - Nestlé - 800 g   \n",
       "40024              Koa & Choc 7 vitamines - Rik & Rok - 400 g   \n",
       "40051                      Leader quick - Leader Price - 1 kg   \n",
       "8252                             Grand arôme - Poulain - 400g   \n",
       "20783                      Sirop d'agave pur - Allos - 500 ml   \n",
       "31700                       Sucre Poudre - Béghin Say - 500 g   \n",
       "22103     Erstein morceau boite 1kg - gamme courants - 1000 g   \n",
       "64353                     Sucre de betterave bio - AF - 750 g   \n",
       "9111             Sucre blond de canne - CARREFOUR BIO - 500 g   \n",
       "\n",
       "                                                                                                    URL  \\\n",
       "20849  https://fr.openfoodfacts.org//produit/7790742140609/dulce-de-leche-estilo-colonial-la-serenisima   \n",
       "8794                      https://fr.openfoodfacts.org//produit/7613036184359/poudre-de-chocolat-nestle   \n",
       "40024                  https://fr.openfoodfacts.org//produit/3254560039940/koa-choc-7-vitamines-rik-rok   \n",
       "40051                     https://fr.openfoodfacts.org//produit/3263850776212/leader-quick-leader-price   \n",
       "8252                                 https://fr.openfoodfacts.org//produit/10662564/grand-arome-poulain   \n",
       "20783                       https://fr.openfoodfacts.org//produit/4016249015732/sirop-d-agave-pur-allos   \n",
       "31700                       https://fr.openfoodfacts.org//produit/3174660000902/sucre-poudre-beghin-say   \n",
       "22103      https://fr.openfoodfacts.org//produit/3071900001111/erstein-morceau-boite-1kg-gamme-courants   \n",
       "64353                     https://fr.openfoodfacts.org//produit/3268740100016/sucre-de-betterave-bio-af   \n",
       "9111             https://fr.openfoodfacts.org//produit/3270190191155/sucre-blond-de-canne-carrefour-bio   \n",
       "\n",
       "       sucres pour 100g  \n",
       "20849             275.0  \n",
       "8794              146.0  \n",
       "40024             135.0  \n",
       "40051             125.0  \n",
       "8252              120.0  \n",
       "20783             104.0  \n",
       "31700             100.0  \n",
       "22103             100.0  \n",
       "64353             100.0  \n",
       "9111              100.0  "
      ]
     },
     "execution_count": 121,
     "metadata": {},
     "output_type": "execute_result"
    }
   ],
   "source": [
    "data[data['sucres pour 100g']>60].sort_values(by='sucres pour 100g',ascending=False).loc[:,['nom','URL','sucres pour 100g']].head(10)"
   ]
  },
  {
   "cell_type": "markdown",
   "metadata": {},
   "source": [
    "certains produits ont un taux >100, je suppose qu'il s'agit d'une erreur de conversion/report."
   ]
  },
  {
   "cell_type": "markdown",
   "metadata": {},
   "source": [
    "### 3. 4. Liste des produits dont le nombre de calories pour 100g est supérieur à 500."
   ]
  },
  {
   "cell_type": "code",
   "execution_count": 122,
   "metadata": {},
   "outputs": [
    {
     "data": {
      "text/plain": [
       "Index(['Unnamed: 0', 'Unnamed: 0.1', 'nom', 'URL', 'code bar', 'nutriscore',\n",
       "       'nova', 'ecoscore', 'quantite', 'conditionnement', 'marques',\n",
       "       'categorie', 'label,certifications,récompenses', 'origine',\n",
       "       'lieu de fabrication', 'code de traçabilité',\n",
       "       'lien vers la page du produit', 'magasins', 'pays de vente', 'additifs',\n",
       "       'ingrédients issus de l'huile de palme', 'vitamines ajoutées',\n",
       "       'minéraux ajoutés', 'matières grasses/lipides pour 100g',\n",
       "       'acides gras saturés pour 100g', 'sucres pour 100g', 'sel pour 100g',\n",
       "       'catégories aux repères nutritionels similaires',\n",
       "       'énergie en kj pour 100g', 'énergie en kcal pour 100g',\n",
       "       'libellés verts', 'libellés oranges', 'libellés rouges',\n",
       "       'nb_pays_vente', 'nb_additifs', 'huile de palme'],\n",
       "      dtype='object')"
      ]
     },
     "execution_count": 122,
     "metadata": {},
     "output_type": "execute_result"
    }
   ],
   "source": [
    "data.columns"
   ]
  },
  {
   "cell_type": "code",
   "execution_count": null,
   "metadata": {},
   "outputs": [],
   "source": []
  },
  {
   "cell_type": "code",
   "execution_count": 123,
   "metadata": {},
   "outputs": [
    {
     "data": {
      "text/html": [
       "<div>\n",
       "<style scoped>\n",
       "    .dataframe tbody tr th:only-of-type {\n",
       "        vertical-align: middle;\n",
       "    }\n",
       "\n",
       "    .dataframe tbody tr th {\n",
       "        vertical-align: top;\n",
       "    }\n",
       "\n",
       "    .dataframe thead th {\n",
       "        text-align: right;\n",
       "    }\n",
       "</style>\n",
       "<table border=\"1\" class=\"dataframe\">\n",
       "  <thead>\n",
       "    <tr style=\"text-align: right;\">\n",
       "      <th></th>\n",
       "      <th>nom</th>\n",
       "      <th>URL</th>\n",
       "      <th>énergie en kcal pour 100g</th>\n",
       "    </tr>\n",
       "  </thead>\n",
       "  <tbody>\n",
       "    <tr>\n",
       "      <th>4067</th>\n",
       "      <td>Chocolat noir Amande et écorces d'orange - J.D. Gross - 125g</td>\n",
       "      <td>https://fr.openfoodfacts.org//produit/20936600/chocolat-noir-amande-et-ecorces-d-orange-j-d-gross</td>\n",
       "      <td>4580.0000</td>\n",
       "    </tr>\n",
       "    <tr>\n",
       "      <th>3999</th>\n",
       "      <td>Petit St Michel Bio au bon beurre - 144g</td>\n",
       "      <td>https://fr.openfoodfacts.org//produit/3178530419979/petit-st-michel-bio-au-bon-beurre</td>\n",
       "      <td>3720.0000</td>\n",
       "    </tr>\n",
       "    <tr>\n",
       "      <th>55125</th>\n",
       "      <td>Psyllium Blond Bio - 150G - Uberti - 150 g</td>\n",
       "      <td>https://fr.openfoodfacts.org//produit/3760048990790/psyllium-blond-bio-150g-uberti</td>\n",
       "      <td>2810.0000</td>\n",
       "    </tr>\n",
       "    <tr>\n",
       "      <th>21132</th>\n",
       "      <td>Mayonesa - Kania - 500 ml</td>\n",
       "      <td>https://fr.openfoodfacts.org//produit/20578992/mayonesa-kania</td>\n",
       "      <td>2569.0000</td>\n",
       "    </tr>\n",
       "    <tr>\n",
       "      <th>48494</th>\n",
       "      <td>Nu+cao coconut cinnamon - nucao - 40g</td>\n",
       "      <td>https://fr.openfoodfacts.org//produit/4260500650013/nu-cao-coconut-cinnamon-nucao</td>\n",
       "      <td>2558.0000</td>\n",
       "    </tr>\n",
       "    <tr>\n",
       "      <th>...</th>\n",
       "      <td>...</td>\n",
       "      <td>...</td>\n",
       "      <td>...</td>\n",
       "    </tr>\n",
       "    <tr>\n",
       "      <th>55771</th>\n",
       "      <td>Kessel Chips - Pulled Beef flavour - Snack Day - 150 g</td>\n",
       "      <td>https://fr.openfoodfacts.org//produit/4056489141136/kessel-chips-pulled-beef-flavour-snack-day</td>\n",
       "      <td>501.0000</td>\n",
       "    </tr>\n",
       "    <tr>\n",
       "      <th>55836</th>\n",
       "      <td>Crusti Croc Kessel Chips Sweet Chili - 150</td>\n",
       "      <td>https://fr.openfoodfacts.org//produit/20768034/crusti-croc-kessel-chips-sweet-chili</td>\n",
       "      <td>501.0000</td>\n",
       "    </tr>\n",
       "    <tr>\n",
       "      <th>3182</th>\n",
       "      <td>Nos tartinettes à croquer - jardin Bio - 138g</td>\n",
       "      <td>https://fr.openfoodfacts.org//produit/3456300009880/nos-tartinettes-a-croquer-jardin-bio</td>\n",
       "      <td>501.0000</td>\n",
       "    </tr>\n",
       "    <tr>\n",
       "      <th>9940</th>\n",
       "      <td>Granola low sugar - Lizi's - 500g</td>\n",
       "      <td>https://fr.openfoodfacts.org//produit/5060092030687/granola-low-sugar-lizi-s</td>\n",
       "      <td>501.0000</td>\n",
       "    </tr>\n",
       "    <tr>\n",
       "      <th>6053</th>\n",
       "      <td>Sablés aux céréales chocolat au lait BIO - Chabrior - 200 g</td>\n",
       "      <td>https://fr.openfoodfacts.org//produit/3250391641345/sables-aux-cereales-chocolat-au-lait-bio-cha...</td>\n",
       "      <td>500.1433</td>\n",
       "    </tr>\n",
       "  </tbody>\n",
       "</table>\n",
       "<p>8617 rows × 3 columns</p>\n",
       "</div>"
      ],
      "text/plain": [
       "                                                                nom  \\\n",
       "4067   Chocolat noir Amande et écorces d'orange - J.D. Gross - 125g   \n",
       "3999                       Petit St Michel Bio au bon beurre - 144g   \n",
       "55125                    Psyllium Blond Bio - 150G - Uberti - 150 g   \n",
       "21132                                     Mayonesa - Kania - 500 ml   \n",
       "48494                         Nu+cao coconut cinnamon - nucao - 40g   \n",
       "...                                                             ...   \n",
       "55771        Kessel Chips - Pulled Beef flavour - Snack Day - 150 g   \n",
       "55836                    Crusti Croc Kessel Chips Sweet Chili - 150   \n",
       "3182                  Nos tartinettes à croquer - jardin Bio - 138g   \n",
       "9940                              Granola low sugar - Lizi's - 500g   \n",
       "6053    Sablés aux céréales chocolat au lait BIO - Chabrior - 200 g   \n",
       "\n",
       "                                                                                                       URL  \\\n",
       "4067     https://fr.openfoodfacts.org//produit/20936600/chocolat-noir-amande-et-ecorces-d-orange-j-d-gross   \n",
       "3999                 https://fr.openfoodfacts.org//produit/3178530419979/petit-st-michel-bio-au-bon-beurre   \n",
       "55125                   https://fr.openfoodfacts.org//produit/3760048990790/psyllium-blond-bio-150g-uberti   \n",
       "21132                                        https://fr.openfoodfacts.org//produit/20578992/mayonesa-kania   \n",
       "48494                    https://fr.openfoodfacts.org//produit/4260500650013/nu-cao-coconut-cinnamon-nucao   \n",
       "...                                                                                                    ...   \n",
       "55771       https://fr.openfoodfacts.org//produit/4056489141136/kessel-chips-pulled-beef-flavour-snack-day   \n",
       "55836                  https://fr.openfoodfacts.org//produit/20768034/crusti-croc-kessel-chips-sweet-chili   \n",
       "3182              https://fr.openfoodfacts.org//produit/3456300009880/nos-tartinettes-a-croquer-jardin-bio   \n",
       "9940                          https://fr.openfoodfacts.org//produit/5060092030687/granola-low-sugar-lizi-s   \n",
       "6053   https://fr.openfoodfacts.org//produit/3250391641345/sables-aux-cereales-chocolat-au-lait-bio-cha...   \n",
       "\n",
       "       énergie en kcal pour 100g  \n",
       "4067                   4580.0000  \n",
       "3999                   3720.0000  \n",
       "55125                  2810.0000  \n",
       "21132                  2569.0000  \n",
       "48494                  2558.0000  \n",
       "...                          ...  \n",
       "55771                   501.0000  \n",
       "55836                   501.0000  \n",
       "3182                    501.0000  \n",
       "9940                    501.0000  \n",
       "6053                    500.1433  \n",
       "\n",
       "[8617 rows x 3 columns]"
      ]
     },
     "execution_count": 123,
     "metadata": {},
     "output_type": "execute_result"
    }
   ],
   "source": [
    "data[data['énergie en kcal pour 100g']>500].sort_values(by='énergie en kcal pour 100g',ascending=False).loc[:,['nom','URL','énergie en kcal pour 100g']]"
   ]
  },
  {
   "cell_type": "markdown",
   "metadata": {},
   "source": [
    "### 3.5. Liste des produits contenant de l’huile de palme, vendus en France et en Belgique"
   ]
  },
  {
   "cell_type": "code",
   "execution_count": 124,
   "metadata": {},
   "outputs": [],
   "source": [
    "def palm(x):\n",
    "    if re.search('palm',x,re.IGNORECASE):\n",
    "        return True\n",
    "    else:\n",
    "        return 'xxx'\n",
    "\n",
    "data['huile de palme']=data['libellés rouges'].apply(palm) #True si le produit porte l'étiquette \"présence d'huile de palme\",\"xxx\" sinon\n"
   ]
  },
  {
   "cell_type": "markdown",
   "metadata": {},
   "source": [
    "On compte 4819 produits contenant de l'huile de palme vendus en France ou en Belgique: "
   ]
  },
  {
   "cell_type": "code",
   "execution_count": 125,
   "metadata": {
    "scrolled": true
   },
   "outputs": [
    {
     "name": "stdout",
     "output_type": "stream",
     "text": [
      "(4819, 2)\n"
     ]
    },
    {
     "name": "stderr",
     "output_type": "stream",
     "text": [
      "C:\\Users\\celine\\anaconda3\\lib\\site-packages\\pandas\\core\\strings.py:1954: UserWarning: This pattern has match groups. To actually get the groups, use str.extract.\n",
      "  return func(self, *args, **kwargs)\n"
     ]
    },
    {
     "data": {
      "text/html": [
       "<div>\n",
       "<style scoped>\n",
       "    .dataframe tbody tr th:only-of-type {\n",
       "        vertical-align: middle;\n",
       "    }\n",
       "\n",
       "    .dataframe tbody tr th {\n",
       "        vertical-align: top;\n",
       "    }\n",
       "\n",
       "    .dataframe thead th {\n",
       "        text-align: right;\n",
       "    }\n",
       "</style>\n",
       "<table border=\"1\" class=\"dataframe\">\n",
       "  <thead>\n",
       "    <tr style=\"text-align: right;\">\n",
       "      <th></th>\n",
       "      <th>nom</th>\n",
       "      <th>URL</th>\n",
       "    </tr>\n",
       "  </thead>\n",
       "  <tbody>\n",
       "    <tr>\n",
       "      <th>0</th>\n",
       "      <td>Pain grillé de campagne Blé complet - Pelletier - 500 g e</td>\n",
       "      <td>https://fr.openfoodfacts.org//produit/3017760542890/pain-grille-de-campagne-ble-complet-pelletier</td>\n",
       "    </tr>\n",
       "    <tr>\n",
       "      <th>5</th>\n",
       "      <td>bn chocolat - 10</td>\n",
       "      <td>https://fr.openfoodfacts.org//produit/3061990141354/bn-chocolat</td>\n",
       "    </tr>\n",
       "    <tr>\n",
       "      <th>8</th>\n",
       "      <td>Thé - Biscuits - Lu  thé - 350 g ℮</td>\n",
       "      <td>https://fr.openfoodfacts.org//produit/7622210476296/the-biscuits-lu-the</td>\n",
       "    </tr>\n",
       "    <tr>\n",
       "      <th>24</th>\n",
       "      <td>Granola Gros éclats de Chocolat - LU - 276 g</td>\n",
       "      <td>https://fr.openfoodfacts.org//produit/7622300689124/granola-gros-eclats-de-chocolat-lu</td>\n",
       "    </tr>\n",
       "    <tr>\n",
       "      <th>26</th>\n",
       "      <td>Krisprolls - 425 g</td>\n",
       "      <td>https://fr.openfoodfacts.org//produit/7311070032611/krisprolls</td>\n",
       "    </tr>\n",
       "    <tr>\n",
       "      <th>27</th>\n",
       "      <td>Kinder bueno gaufrettes enrobees de chocolat 2 barres - 43 g</td>\n",
       "      <td>https://fr.openfoodfacts.org//produit/8000500037560/kinder-bueno-gaufrettes-enrobees-de-chocolat...</td>\n",
       "    </tr>\n",
       "    <tr>\n",
       "      <th>29</th>\n",
       "      <td>Biscotte Fibres+ - Heudebert - 280g, 2 sachets de 16 biscottes</td>\n",
       "      <td>https://fr.openfoodfacts.org//produit/3017760363990/biscotte-fibres-heudebert</td>\n",
       "    </tr>\n",
       "    <tr>\n",
       "      <th>43</th>\n",
       "      <td>Extra chocolat au lait - Kellogg’s - 500g</td>\n",
       "      <td>https://fr.openfoodfacts.org//produit/5050083516313/extra-chocolat-au-lait-kellogg-s</td>\n",
       "    </tr>\n",
       "    <tr>\n",
       "      <th>73</th>\n",
       "      <td>Nutella - Ferrero - 350 g</td>\n",
       "      <td>https://fr.openfoodfacts.org//produit/80177173/nutella-ferrero</td>\n",
       "    </tr>\n",
       "    <tr>\n",
       "      <th>75</th>\n",
       "      <td>Spéculoos à tartiner - Lotus - 400g</td>\n",
       "      <td>https://fr.openfoodfacts.org//produit/5410126006957/speculoos-a-tartiner-lotus</td>\n",
       "    </tr>\n",
       "    <tr>\n",
       "      <th>81</th>\n",
       "      <td>Krisprolls - 425 g</td>\n",
       "      <td>https://fr.openfoodfacts.org//produit/7311070362664/krisprolls</td>\n",
       "    </tr>\n",
       "    <tr>\n",
       "      <th>82</th>\n",
       "      <td>Ferrero rocher fines gaufrettes enrobees de chocolat au lait et noisettes avec noisette entiere ...</td>\n",
       "      <td>https://fr.openfoodfacts.org//produit/8000500167113/ferrero-rocher-fines-gaufrettes-enrobees-de-...</td>\n",
       "    </tr>\n",
       "    <tr>\n",
       "      <th>91</th>\n",
       "      <td>Oreo Original - MONDELEZ - 154 g</td>\n",
       "      <td>https://fr.openfoodfacts.org//produit/7622300336738/oreo-original-mondelez</td>\n",
       "    </tr>\n",
       "    <tr>\n",
       "      <th>103</th>\n",
       "      <td>Monaco - Belin - 100 g e</td>\n",
       "      <td>https://fr.openfoodfacts.org//produit/7622210998095/monaco-belin</td>\n",
       "    </tr>\n",
       "    <tr>\n",
       "      <th>108</th>\n",
       "      <td>Sablés Anglais - MCVITIE'S - 400 g</td>\n",
       "      <td>https://fr.openfoodfacts.org//produit/5000168198491/sables-anglais-mcvitie-s</td>\n",
       "    </tr>\n",
       "    <tr>\n",
       "      <th>124</th>\n",
       "      <td>Heudebert biscottes sans sel ajouté - 300 g</td>\n",
       "      <td>https://fr.openfoodfacts.org//produit/3392460481114/heudebert-biscottes-sans-sel-ajoute</td>\n",
       "    </tr>\n",
       "    <tr>\n",
       "      <th>129</th>\n",
       "      <td>Nutella pate a tartiner noisettes-cacao t630 pot de - 630 g (630 g)</td>\n",
       "      <td>https://fr.openfoodfacts.org//produit/59032823/nutella-pate-a-tartiner-noisettes-cacao-t630-pot-de</td>\n",
       "    </tr>\n",
       "    <tr>\n",
       "      <th>130</th>\n",
       "      <td>Cracotte Chocolat - LU - 200 g</td>\n",
       "      <td>https://fr.openfoodfacts.org//produit/3041090061615/cracotte-chocolat-lu</td>\n",
       "    </tr>\n",
       "    <tr>\n",
       "      <th>133</th>\n",
       "      <td>Matière grasse a tartiner - St Hubert - 510 g e</td>\n",
       "      <td>https://fr.openfoodfacts.org//produit/3366321051686/matiere-grasse-a-tartiner-st-hubert</td>\n",
       "    </tr>\n",
       "    <tr>\n",
       "      <th>139</th>\n",
       "      <td>Nutella pate a tartiner noisettes-cacao t.600 pot de - Ferrero - 600 g (600 g)</td>\n",
       "      <td>https://fr.openfoodfacts.org//produit/3017620406003/nutella-pate-a-tartiner-noisettes-cacao-t-60...</td>\n",
       "    </tr>\n",
       "  </tbody>\n",
       "</table>\n",
       "</div>"
      ],
      "text/plain": [
       "                                                                                                     nom  \\\n",
       "0                                              Pain grillé de campagne Blé complet - Pelletier - 500 g e   \n",
       "5                                                                                       bn chocolat - 10   \n",
       "8                                                                     Thé - Biscuits - Lu  thé - 350 g ℮   \n",
       "24                                                          Granola Gros éclats de Chocolat - LU - 276 g   \n",
       "26                                                                                    Krisprolls - 425 g   \n",
       "27                                          Kinder bueno gaufrettes enrobees de chocolat 2 barres - 43 g   \n",
       "29                                        Biscotte Fibres+ - Heudebert - 280g, 2 sachets de 16 biscottes   \n",
       "43                                                             Extra chocolat au lait - Kellogg’s - 500g   \n",
       "73                                                                             Nutella - Ferrero - 350 g   \n",
       "75                                                                   Spéculoos à tartiner - Lotus - 400g   \n",
       "81                                                                                    Krisprolls - 425 g   \n",
       "82   Ferrero rocher fines gaufrettes enrobees de chocolat au lait et noisettes avec noisette entiere ...   \n",
       "91                                                                      Oreo Original - MONDELEZ - 154 g   \n",
       "103                                                                             Monaco - Belin - 100 g e   \n",
       "108                                                                   Sablés Anglais - MCVITIE'S - 400 g   \n",
       "124                                                          Heudebert biscottes sans sel ajouté - 300 g   \n",
       "129                                  Nutella pate a tartiner noisettes-cacao t630 pot de - 630 g (630 g)   \n",
       "130                                                                       Cracotte Chocolat - LU - 200 g   \n",
       "133                                                      Matière grasse a tartiner - St Hubert - 510 g e   \n",
       "139                       Nutella pate a tartiner noisettes-cacao t.600 pot de - Ferrero - 600 g (600 g)   \n",
       "\n",
       "                                                                                                     URL  \n",
       "0      https://fr.openfoodfacts.org//produit/3017760542890/pain-grille-de-campagne-ble-complet-pelletier  \n",
       "5                                        https://fr.openfoodfacts.org//produit/3061990141354/bn-chocolat  \n",
       "8                                https://fr.openfoodfacts.org//produit/7622210476296/the-biscuits-lu-the  \n",
       "24                https://fr.openfoodfacts.org//produit/7622300689124/granola-gros-eclats-de-chocolat-lu  \n",
       "26                                        https://fr.openfoodfacts.org//produit/7311070032611/krisprolls  \n",
       "27   https://fr.openfoodfacts.org//produit/8000500037560/kinder-bueno-gaufrettes-enrobees-de-chocolat...  \n",
       "29                         https://fr.openfoodfacts.org//produit/3017760363990/biscotte-fibres-heudebert  \n",
       "43                  https://fr.openfoodfacts.org//produit/5050083516313/extra-chocolat-au-lait-kellogg-s  \n",
       "73                                        https://fr.openfoodfacts.org//produit/80177173/nutella-ferrero  \n",
       "75                        https://fr.openfoodfacts.org//produit/5410126006957/speculoos-a-tartiner-lotus  \n",
       "81                                        https://fr.openfoodfacts.org//produit/7311070362664/krisprolls  \n",
       "82   https://fr.openfoodfacts.org//produit/8000500167113/ferrero-rocher-fines-gaufrettes-enrobees-de-...  \n",
       "91                            https://fr.openfoodfacts.org//produit/7622300336738/oreo-original-mondelez  \n",
       "103                                     https://fr.openfoodfacts.org//produit/7622210998095/monaco-belin  \n",
       "108                         https://fr.openfoodfacts.org//produit/5000168198491/sables-anglais-mcvitie-s  \n",
       "124              https://fr.openfoodfacts.org//produit/3392460481114/heudebert-biscottes-sans-sel-ajoute  \n",
       "129   https://fr.openfoodfacts.org//produit/59032823/nutella-pate-a-tartiner-noisettes-cacao-t630-pot-de  \n",
       "130                             https://fr.openfoodfacts.org//produit/3041090061615/cracotte-chocolat-lu  \n",
       "133              https://fr.openfoodfacts.org//produit/3366321051686/matiere-grasse-a-tartiner-st-hubert  \n",
       "139  https://fr.openfoodfacts.org//produit/3017620406003/nutella-pate-a-tartiner-noisettes-cacao-t-60...  "
      ]
     },
     "execution_count": 125,
     "metadata": {},
     "output_type": "execute_result"
    }
   ],
   "source": [
    "#les noms des pays ont déjà été nettoyés dans la partie 2.\n",
    "df=data[(data['pays de vente'].str.contains('(France|belgique)',case=False)) & (data['huile de palme']==True)].loc[:,['nom','URL']]\n",
    "print(df.shape)\n",
    "df.head(20)"
   ]
  },
  {
   "cell_type": "markdown",
   "metadata": {},
   "source": [
    "Il s'agit essentiellement de biscuits et gâteaux.\n",
    "<br/> Question: \n",
    "est ce que l'on compte sur openfoodfacts plus de produits contenant de l'huile de palme en vendus France ou en Belgique ?"
   ]
  },
  {
   "cell_type": "markdown",
   "metadata": {},
   "source": [
    "### 3.6 Distribution des produits par nombre de pays de vente"
   ]
  },
  {
   "cell_type": "code",
   "execution_count": 126,
   "metadata": {},
   "outputs": [
    {
     "data": {
      "text/plain": [
       "Index(['Unnamed: 0', 'Unnamed: 0.1', 'nom', 'URL', 'code bar', 'nutriscore',\n",
       "       'nova', 'ecoscore', 'quantite', 'conditionnement', 'marques',\n",
       "       'categorie', 'label,certifications,récompenses', 'origine',\n",
       "       'lieu de fabrication', 'code de traçabilité',\n",
       "       'lien vers la page du produit', 'magasins', 'pays de vente', 'additifs',\n",
       "       'ingrédients issus de l'huile de palme', 'vitamines ajoutées',\n",
       "       'minéraux ajoutés', 'matières grasses/lipides pour 100g',\n",
       "       'acides gras saturés pour 100g', 'sucres pour 100g', 'sel pour 100g',\n",
       "       'catégories aux repères nutritionels similaires',\n",
       "       'énergie en kj pour 100g', 'énergie en kcal pour 100g',\n",
       "       'libellés verts', 'libellés oranges', 'libellés rouges',\n",
       "       'nb_pays_vente', 'nb_additifs', 'huile de palme'],\n",
       "      dtype='object')"
      ]
     },
     "execution_count": 126,
     "metadata": {},
     "output_type": "execute_result"
    }
   ],
   "source": [
    "data.columns"
   ]
  },
  {
   "cell_type": "code",
   "execution_count": 130,
   "metadata": {
    "scrolled": true
   },
   "outputs": [
    {
     "name": "stdout",
     "output_type": "stream",
     "text": [
      "1      58666\n",
      "2      15949\n",
      "3       3661\n",
      "4+      1723\n",
      "xxx        1\n",
      "Name: nb_pays_vente, dtype: int64\n",
      "1      0.733325\n",
      "2      0.199362\n",
      "3      0.045762\n",
      "4+     0.021538\n",
      "xxx    0.000013\n",
      "Name: nb_pays_vente, dtype: float64\n"
     ]
    }
   ],
   "source": [
    "print(data['nb_pays_vente'].value_counts())\n",
    "print(data['nb_pays_vente'].value_counts(normalize=True))"
   ]
  },
  {
   "cell_type": "markdown",
   "metadata": {},
   "source": [
    "73 % des produits ont un seul pays de vente"
   ]
  },
  {
   "cell_type": "code",
   "execution_count": 132,
   "metadata": {},
   "outputs": [
    {
     "data": {
      "image/png": "iVBORw0KGgoAAAANSUhEUgAAAa4AAAEXCAYAAAD1MKAnAAAABHNCSVQICAgIfAhkiAAAAAlwSFlzAAALEgAACxIB0t1+/AAAADh0RVh0U29mdHdhcmUAbWF0cGxvdGxpYiB2ZXJzaW9uMy4yLjIsIGh0dHA6Ly9tYXRwbG90bGliLm9yZy+WH4yJAAAgAElEQVR4nO3de/xVVZ3/8dcbNMQLKIKGoGJBF3QmTVLKyRypkalMf5M29EulomFyLOs3TqVdJrswaTVZVlqaJmimpJnk/KwMJGdMITDK+89v3iAVUAGx0gQ/vz/WOrm/h/M9HOB7ON/15f18PM7j7LP2WmuvfTufs/beZ29FBGZmZqUY0OkGmJmZbQoHLjMzK4oDl5mZFcWBy8zMiuLAZWZmRXHgMjOzohQTuCR9S9KnOt2O/kRSSBq7kTyzJf1ia7VpU0maL+l9nW5HM5KOkLRsK07v3ZL+Z2tNr91a2U5LV9o8ShqT27xdC3n3kfS0pIG9Nf0+EbgkPSjpT5LWSlot6ZeS3i/pL+2LiPdHxOc62c5tjaTXA+uBWyVNqRv3oKQ3dqZlZp2ztX+IlC4iHo6InSNiPfTOj80+EbiyoyNiF2Bf4CzgY8BF7Z5oK78YtmEvBj4EnAkM7mxTth29+cvUrBXFfQ9GRMdfwIPAG+vSDgGeBw7Iny8BPp+HdwOuA1YCq/Lw6ErZ/YCbgLXAz4FvApflcWOAAKYBDwM35fQfAI8Ba3LZ/Sv1XQKcB1wPPA3cTPpS/2qe/j3AQXXz8xHgt8AfSAF4z1y+1qbdKvknAr8EVgO/AY5osqz2Aq7O8/4AcGpl3JnAbGBWns6dwIQmdQVwKnA/8DjwJWBAHvdSYB7wRB73PWDXPO7SvG7+lJfHR3P62/I0VwPzgVfWLZN/y8tkDXAlsEMeNzyvw9XAk8B/19rRoM1vyst7DfAN4BfA+yrzf1klb21db9dku2vYpjz+n4Cu3KY5wF51y+5fgPvysv5cXma3AE/l9fCinPcIYBnw8bwsHwTeVbd9nQ/837y9vLHZem4wH7vn9j0FLMxt+Z/K+FcAN+T5uBd4R5O65gNfyPWsAa4FhlXGN9xPgNcAy6vLGng7sKSyPy/KbVwOfKVJGz4CPAo8Arw3L+uxedwg4MukfXc58C1gcIM6BuXt6YBK2gjSNrtH/vxWYEnO90vgrze2bQA75TqeJ237T+d1NQA4HfgdaZ+ZXV1uvTWPbNq+0mz/fjfpe+ycXM/ngaGk746VwEPAJyv5B+Y2PZ7rO4XKvkXddziVfZHKfgjMIB3FeSYvu28Ayu1YkZf1b6vrreG8bUqAaderfqYr6Q8DJ1d27lrg2p20U+wI7ELamX5UKXdLXsgvAv6GtLPUL8RZeSOsbRDvzXUNIgWkJXVfLI8DB5M23nmkL5OT8gr9PHBj3fzcSgpWo/IKuQ04KNc/D/h0zjuKtKG/mbTxvyl/HtFgeQwAFgP/nuftJXkjOqqysTyT6xpI+gK6tclyD+BGYBiwD/D/eCEIjM1tGUTa4W8CvtrTOgNeRvrSfROwPfBR0pf+iyr5F5J28mHA3cD787gvkHbO7fPr9YAatHd4XpfH5Xz/B1jHlgWuntp0ZF7nr87L4OvkHzmVZTcHGALsDzwLzM3rZChwFzA15z0it/Mrua435GX18sr2tQY4LK/jHZut5wbzcQXpi3In4ADg9+TAldOWAu8hfXG8Os/X/j3UNT+XPyCXvbpumTbbT+4C/r7y+RrgtMo+eWIe3hmY2MP0J5O+rGvTv5zuX+pfzct9WG7Hj4Ev9FDXxcCMyudTgJ/k4VeT9stDSfvK1Lw9DGph2zgCWFY3rQ+T9vnRedl8G/h+b88jLe4rLezf7yZtkx/M28Vg0nfitXmaY3L+aTn/+0k/GPfO9d3IZgSuyjb2vkreo0jb+66kIPZKYGTTmNFKYGn3q36mK+m3Ap+o7Nyf76H8gcCqPLxPXiE7VsZf1mAhvqRJe3bNeYZWpn1hZfwHgbsrn/8KWF03P9Vf1FcD59eV/1Ee/hhwad30f0r+0qtLPxR4uC7tDOC7lY3l55Vx44E/NZnPACZXPv8LMLeHvMcCv+5pnQGfAmZXPg8gfQEeUcl/QmX8F4Fv5eHPknaYsRvZTk6iEojzRr6MLQtcPbXpIuCLlXE7A88BYyrL7rDK+MXAxyqf/5Mc6HkhcO1UGT8b+FRl+5rV6nquSx+Y2/WKStp/8ELg+kfgv+vKfJv8w6lBffOBs+q2oT8DA1vYTz4GfC8PDwP+SP4CIv3w+QwwfCPr+OK66b8sT2NsXt9/AF5aGf9a4IEe6nojcH/l883ASXn4fOBzdfnvBd7QwrZxBBsGrruBSZXPI/N62WDb25J5pMV9pbKNNty/SYHr4cq4gaQfX+Mraf8MzM/D88iBO3/+O3ovcB1JCpIT6aH3WP/qS+e4GhlF6sZ2I2lHSd+W9JCkp0g7xa753MBewJMR8cdKkaUN6v5LmqSBks6S9Ltc34N51PBK/uWV4T81+LxzXf2t5t8XOD5flLJa0mpSL3FkgzbvC+xVl/fjpJ5dzWOV4T8CO2zk+HV12TxEWn5I2kPSFZJ+n5fJZXRfHvX2yuUBiIjnc92jmrSttgy+ROqd/UzS/ZJObzKNv7Q30lbfaN1uip7aVD8/T5N6wtX52ZRtYlVE/KHy+S/LOqvORyvruWYE6Rdz/Xqs1nVoXV3vIh3q7kl9XdsDw1vYTy4Djpa0M/AOUsB8NI+bRvqCvkfSryS9tYdpd1vHdfMygtwbrczLT3J6I/OAwZIOlbQv6QfuNXncvsBpdctlb7qvk562jUb2Ba6p1HU36ZBYo3W2JfPY6r5S03D/bjBuOKl3/1Bd/tr23qzNWyQi5pEOGX4TWC7pAklDmpXps4FL0mtIC63RZb2nAS8HDo2IIcDhtWKk48bDJO1Yyb93gzqiMvy/gWNIv9CGkn4h1Oprt6WkHteulddOEXFWD3kfqMu7S0S8eQumX102+5COuUM6JBGk4/5DgBPovjyqy49cbt/aB0nKdf9+Yw2IiLURcVpEvAQ4GvhXSZMaZH202t7KNGr+QNrpa5p9OW9M/fzsRDpEvdH56cFuuY6a6rKG7stzU9bzSlJvrn49Vuv6RV1dO0fEyU3aWl/Xc6TDi033k4j4PemQ4P8CTiSdCyWPuy8i3gnsAZwNXFW3PGq6reO6eXmc9INg/8q8DI2IhgEl/3iaDbwzt/26iFhbWS4z6pbLjhHx/SbL5S9VN0hbSjpMWq1vh7xMem0eN2Ffqelp/66fj8dJ63nfuvy19jdrM2zavrfB8ouIcyPiYNJh95eRzgH2qM8FLklD8q+xK0hdzdsbZNuFtHJXSxoGfLo2IiIeIp0EPlPSiyS9lrSCm9mF1E1+grTw/2PL56RltV+pR+VftDvky21HN8i7EHhK0sckDc75D8hBfnN9RNJukvYmXUF4ZU7fhXTydLWkUWy4IS0nnXupmQ28RdIkSduTflw8Szrp3ZSkt0oamwPRU6RfqusbZP0vYH9J/5B7kafSfQdZAhye/zcylHR4bXNdDrxH0oGSBpG2iQUR8eAW1PmZvE2+nnRhwA96yNfyeo50ifEPSdv7jpLGk87X1FwHvEzSiZK2z6/XSHplk3aeIGl8/vH3WeCqPJ1W9pNZpPObf8ULvRsknSBpRA4mq3Nyo3U8G3h3ZfrVfft54ELgHEl75HpHSTqqybxcTjpc+q48XHMh8P7cG5OknSS9RdIuTeqqWQ7snrexmm8BM3LPDkkjJB3TQ/nNnsdN2Fdqetq/u8nrd3aeh13yfPwr6fup1uZTJY2WtBvpQpSqJcCUvH1NIJ2H7km37468PR6avzf+QDpP32ye+lTg+rGktaRfLp8gnch+Tw95v0o6mfg46TzYT+rGv4t0XPgJ0oUTV5J2uJ7MInV9f086wXzr5s3CpouIpaRfsR8n/XpeSgoSG6ybvHEdTTrk8QBp/r9D+vW7ua4lnZ9ZQgoMtb8gfIZ0AntNTv9hXbkvAJ/MhzP+LSLuJfXKvp7bdTTpLw5/bqEN40hXWj5N+sV+XkTMr88UEY8Dx5P+LvFELndzZfwNpHX92zxP17Uw7YYiYi7pvN3VpF+bLwWmNC3U3GOkK1AfIV2h+f6IuKeHaW/qev4A6TDWY6TzZd+t1LWWdD5iSp72Y6Qez6Ambb001/MY6WKkU3N6K/vJNeTDZnWHRicDd0p6GvgaMCUinmkw79eT9u95pENi8+qyfCyn35oPV/6cdPSloYhYQPoy3It0VW8tfRHpqtFvkNZLF+m8z0bl9fZ94P68/e+V52kO6RDeWtKyObSH8lsyjy3tKxU97d+NfJC0rO4nHem6nHQ+DlIw/Snpqufb2PD74FOkfWQV6bvjcnr2NeA4SasknUu6wOnCXPYh0r795Sbl09Uo/Z2kK4F7IuLTG81stg2TNJ90pOM7W1DH74B/joif91rDbJNJCmBcRHR1ui29rS/1uHpN7nq+VNIASZNJPZofdbpdZv2dpLeTzmHU9yLMek1Z/5Zu3YtJXdndSZdLnxwRv+5sk8z6t9xbG0/6v9bzHW6O9WPbxKFCMzPrP/rloUIzM+u/+uuhwh4NHz48xowZ0+lmmJkVZfHixY9HRE9/9t6qtrnANWbMGBYtWtTpZpiZFUVSr90tY0v5UKGZmRWlrYFL0q6SrpJ0j6S7Jb1W0jBJN0i6L7/vVsl/hqQuSfdW/w0v6WBJt+dx5+Z/jSNpkKQrc/oCSWPaOT9mZtZ57e5xfY30GIFXAK8i3XjydNIdiseRHgNxOkC+Vc0U0r2qJgPn6YUH6p0PTCf9a3xcHg/pxp2rImIs6XkuZ7d5fszMrMPaFriU7u57OPkWIxHx54hYTfoz8MycbSbpcRnk9Csi4tmIeIB0y5NDJI0EhkTELflu4LPqytTqugqYVOuNmZlZ/9TOHtdLSPfe+66kX0v6jtLdoPesPeogv++R84+i+23zl+W0UXm4Pr1bmYhYR7qv3u71DZE0XdIiSYtWrlzZW/NnZmYd0M7AVXva6vkRcRDp5o3Nnh3TqKcUTdKblemeEHFBREyIiAkjRvSJqznNzGwztTNwLSM9JXRB/nwVKZAtz4f/yO8rKvmrz3sZTbqb9bI8XJ/erUx+zMVQGjx40szM+o+2Ba6IeAxYKql2O/5JpEchzOGF5wVNJd12n5w+JV8puB/pIoyF+XDiWkkT8/mrk+rK1Oo6DpgXvoeVmVm/1u4/IH8Q+J6kF5Ge8fIeUrCcLWka8DDp+UpExJ2SZpOC2zrglPxcIoCTSc8HGkx6pk7tuToXAZdK6iL1tLbkeUlmZlaAbe4muxMmTIhmd844+COztmJr+rbFXzqp000wsz5C0uKImNDpdoDvnGFmZoVx4DIzs6I4cJmZWVEcuMzMrCgOXGZmVhQHLjMzK4oDl5mZFcWBy8zMiuLAZWZmRXHgMjOzojhwmZlZURy4zMysKA5cZmZWFAcuMzMrigOXmZkVxYHLzMyK4sBlZmZFceAyM7OiOHCZmVlRHLjMzKwoDlxmZlYUBy4zMyuKA5eZmRXFgcvMzIriwGVmZkVx4DIzs6K0NXBJelDS7ZKWSFqU04ZJukHSffl9t0r+MyR1SbpX0lGV9INzPV2SzpWknD5I0pU5fYGkMe2cHzMz67yt0eP624g4MCIm5M+nA3MjYhwwN39G0nhgCrA/MBk4T9LAXOZ8YDowLr8m5/RpwKqIGAucA5y9FebHzMw6qBOHCo8BZubhmcCxlfQrIuLZiHgA6AIOkTQSGBIRt0REALPqytTqugqYVOuNmZlZ/9TuwBXAzyQtljQ9p+0ZEY8C5Pc9cvooYGml7LKcNioP16d3KxMR64A1wO71jZA0XdIiSYtWrlzZKzNmZmadsV2b6z8sIh6RtAdwg6R7muRt1FOKJunNynRPiLgAuABgwoQJG4w3M7NytLXHFRGP5PcVwDXAIcDyfPiP/L4iZ18G7F0pPhp4JKePbpDerYyk7YChwJPtmBczM+sb2ha4JO0kaZfaMPB3wB3AHGBqzjYVuDYPzwGm5CsF9yNdhLEwH05cK2liPn91Ul2ZWl3HAfPyeTAzM+un2nmocE/gmnytxHbA5RHxE0m/AmZLmgY8DBwPEBF3SpoN3AWsA06JiPW5rpOBS4DBwPX5BXARcKmkLlJPa0ob58fMzPqAtgWuiLgfeFWD9CeAST2UmQHMaJC+CDigQfoz5MBnZmbbBt85w8zMiuLAZWZmRXHgMjOzojhwmZlZURy4zMysKA5cZmZWFAcuMzMrigOXmZkVxYHLzMyK4sBlZmZFceAyM7OiOHCZmVlRHLjMzKwoDlxmZlYUBy4zMyuKA5eZmRXFgcvMzIriwGVmZkVx4DIzs6I4cJmZWVEcuMzMrCgOXGZmVhQHLjMzK4oDl5mZFcWBy8zMiuLAZWZmRWl74JI0UNKvJV2XPw+TdIOk+/L7bpW8Z0jqknSvpKMq6QdLuj2PO1eScvogSVfm9AWSxrR7fszMrLO2Ro/rQ8Ddlc+nA3MjYhwwN39G0nhgCrA/MBk4T9LAXOZ8YDowLr8m5/RpwKqIGAucA5zd3lkxM7NOa2vgkjQaeAvwnUryMcDMPDwTOLaSfkVEPBsRDwBdwCGSRgJDIuKWiAhgVl2ZWl1XAZNqvTEzM+uf2t3j+irwUeD5StqeEfEoQH7fI6ePApZW8i3LaaPycH16tzIRsQ5YA+zeu7NgZmZ9SdsCl6S3AisiYnGrRRqkRZP0ZmXq2zJd0iJJi1auXNlic8zMrC9qZ4/rMOBtkh4ErgCOlHQZsDwf/iO/r8j5lwF7V8qPBh7J6aMbpHcrI2k7YCjwZH1DIuKCiJgQERNGjBjRO3NnZmYd0bbAFRFnRMToiBhDuuhiXkScAMwBpuZsU4Fr8/AcYEq+UnA/0kUYC/PhxLWSJubzVyfVlanVdVyexgY9LjMz6z+268A0zwJmS5oGPAwcDxARd0qaDdwFrANOiYj1uczJwCXAYOD6/AK4CLhUUheppzVla82EmZl1xlYJXBExH5ifh58AJvWQbwYwo0H6IuCABunPkAOfmZltG3znDDMzK4oDl5mZFcWBy8zMiuLAZWZmRXHgMjOzojhwmZlZURy4zMysKA5cZmZWFAcuMzMrigOXmZkVxYHLzMyK4sBlZmZFceAyM7OiOHCZmVlRHLjMzKwoDlxmZlaUlgKXpLmtpJmZmbVb0ycgS9oB2BEYLmk3QHnUEGCvNrfNzMxsA00DF/DPwIdJQWoxLwSup4BvtrFdZmZmDTUNXBHxNeBrkj4YEV/fSm0yMzPr0cZ6XABExNclvQ4YUy0TEbPa1C4zM7OGWgpcki4FXgosAdbn5AAcuMzMbKtqKXABE4DxERHtbIyZmdnGtPo/rjuAF7ezIWZmZq1otcc1HLhL0kLg2VpiRLytLa0yMzPrQauB68x2NsLMzKxVrV5V+It2N8TMzKwVrd7yaa2kp/LrGUnrJT21kTI7SFoo6TeS7pT0mZw+TNINku7L77tVypwhqUvSvZKOqqQfLOn2PO5cScrpgyRdmdMXSBqzOQvBzMzK0VLgiohdImJIfu0AvB34xkaKPQscGRGvAg4EJkuaCJwOzI2IccDc/BlJ44EpwP7AZOA8SQNzXecD04Fx+TU5p08DVkXEWOAc4OxW5sfMzMq1WXeHj4gfAUduJE9ExNP54/b5FcAxwMycPhM4Ng8fA1wREc9GxANAF3CIpJHAkIi4JV+OP6uuTK2uq4BJtd6YmZn1T63+AfkfKh8HkP7XtdH/dOUe02JgLPDNiFggac+IeBQgIh6VtEfOPgq4tVJ8WU57Lg/Xp9fKLM11rZO0BtgdeLyuHdNJPTb22Wefjc6vmZn1Xa1eVXh0ZXgd8CCpt9NURKwHDpS0K3CNpAOaZG/UU4om6c3K1LfjAuACgAkTJvhP1GZmBWv1qsL3bMlEImK1pPmkc1PLJY3Mva2RwIqcbRmwd6XYaOCRnD66QXq1zDJJ2wFDgSe3pK1mZta3tXpV4WhJ10haIWm5pKsljd5ImRG5p4WkwcAbgXuAOcDUnG0qcG0engNMyVcK7ke6CGNhPqy4VtLEfP7qpLoytbqOA+b5tlRmZv1bq4cKvwtcDhyfP5+Q097UpMxIYGY+zzUAmB0R10m6BZgtaRrwcK3OiLhT0mzgLtLhyFPyoUaAk4FLgMHA9fkFcBFwqaQuUk9rSovzY2ZmhWo1cI2IiO9WPl8i6cPNCkTEb4GDGqQ/AUzqocwMYEaD9EXABufHIuIZXgimZma2DWj1cvjHJZ0gaWB+nQA80c6GmZmZNdJq4Hov8A7gMeBR0vmkLbpgw8zMbHO0eqjwc8DUiFgF6bZNwJdJAc3MzGyrabXH9de1oAUQEU/S4PyVmZlZu7UauAbU3Qx3GK331szMzHpNq8HnP4FfSrqKdGeKd9Dg6j8zM7N2a/XOGbMkLSLdWFfAP0TEXW1tmZmZWQMtH+7LgcrByszMOmqzHmtiZmbWKQ5cZmZWFAcuMzMrigOXmZkVxYHLzMyK4sBlZmZFceAyM7OiOHCZmVlRHLjMzKwoDlxmZlYUBy4zMyuKA5eZmRXFgcvMzIriwGVmZkVx4DIzs6I4cJmZWVEcuMzMrCgOXGZmVpS2BS5Je0u6UdLdku6U9KGcPkzSDZLuy++7VcqcIalL0r2SjqqkHyzp9jzuXEnK6YMkXZnTF0ga0675MTOzvqGdPa51wGkR8UpgInCKpPHA6cDciBgHzM2fyeOmAPsDk4HzJA3MdZ0PTAfG5dfknD4NWBURY4FzgLPbOD9mZtYHtC1wRcSjEXFbHl4L3A2MAo4BZuZsM4Fj8/AxwBUR8WxEPAB0AYdIGgkMiYhbIiKAWXVlanVdBUyq9cbMzKx/2irnuPIhvIOABcCeEfEopOAG7JGzjQKWVooty2mj8nB9ercyEbEOWAPs3mD60yUtkrRo5cqVvTNTZmbWEW0PXJJ2Bq4GPhwRTzXL2iAtmqQ3K9M9IeKCiJgQERNGjBixsSabmVkf1tbAJWl7UtD6XkT8MCcvz4f/yO8rcvoyYO9K8dHAIzl9dIP0bmUkbQcMBZ7s/TkxM7O+op1XFQq4CLg7Ir5SGTUHmJqHpwLXVtKn5CsF9yNdhLEwH05cK2lirvOkujK1uo4D5uXzYGZm1k9t18a6DwNOBG6XtCSnfRw4C5gtaRrwMHA8QETcKWk2cBfpisRTImJ9LncycAkwGLg+vyAFxksldZF6WlPaOD9mZtYHtC1wRcT/0PgcFMCkHsrMAGY0SF8EHNAg/Rly4DMzs22D75xhZmZFceAyM7OiOHCZmVlRHLjMzKwoDlxmZlYUBy4zMyuKA5eZmRXFgcvMzIriwGVmZkVp5y2fzHj4s3/V6Sb0Gfv8++2dboJZv+Ael5mZFcWBy8zMiuLAZWZmRXHgMjOzojhwmZlZURy4zMysKA5cZmZWFAcuMzMrigOXmZkVxYHLzMyK4sBlZmZFceAyM7OiOHCZmVlRHLjMzKwoDlxmZlYUBy4zMytK2wKXpIslrZB0RyVtmKQbJN2X33erjDtDUpekeyUdVUk/WNLtedy5kpTTB0m6MqcvkDSmXfNiZmZ9Rzt7XJcAk+vSTgfmRsQ4YG7+jKTxwBRg/1zmPEkDc5nzgenAuPyq1TkNWBURY4FzgLPbNidmZtZntC1wRcRNwJN1yccAM/PwTODYSvoVEfFsRDwAdAGHSBoJDImIWyIigFl1ZWp1XQVMqvXGzMys/9ra57j2jIhHAfL7Hjl9FLC0km9ZThuVh+vTu5WJiHXAGmD3trXczMz6hL5ycUajnlI0SW9WZsPKpemSFklatHLlys1sopmZ9QVbO3Atz4f/yO8rcvoyYO9KvtHAIzl9dIP0bmUkbQcMZcNDkwBExAURMSEiJowYMaKXZsXMzDphaweuOcDUPDwVuLaSPiVfKbgf6SKMhflw4lpJE/P5q5PqytTqOg6Yl8+DmZlZP7ZduyqW9H3gCGC4pGXAp4GzgNmSpgEPA8cDRMSdkmYDdwHrgFMiYn2u6mTSFYqDgevzC+Ai4FJJXaSe1pR2zYuZmfUdbQtcEfHOHkZN6iH/DGBGg/RFwAEN0p8hBz4zM9t29JWLM8zMzFriwGVmZkVx4DIzs6I4cJmZWVEcuMzMrCgOXGZmVhQHLjMzK4oDl5mZFcWBy8zMiuLAZWZmRXHgMjOzojhwmZlZURy4zMysKA5cZmZWFAcuMzMrigOXmZkVxYHLzMyK0rYnIJtZ7zvs64d1ugl9xs0fvLnTTbAOcY/LzMyK4sBlZmZFceAyM7OiOHCZmVlRHLjMzKwoDlxmZlYUXw5vZtusXxz+hk43oc94w02/6HQTWuYel5mZFcWBy8zMilJ84JI0WdK9kroknd7p9piZWXsVHbgkDQS+Cfw9MB54p6TxnW2VmZm1U9GBCzgE6IqI+yPiz8AVwDEdbpOZmbWRIqLTbdhsko4DJkfE+/LnE4FDI+IDdfmmA9Pzx5cD927Vhm6e4cDjnW5EP+Ll2Xu8LHtXKctz34gY0elGQPmXw6tB2gaROCIuAC5of3N6j6RFETGh0+3oL7w8e4+XZe/y8tx0pR8qXAbsXfk8GnikQ20xM7OtoPTA9StgnKT9JL0ImALM6XCbzMysjYo+VBgR6yR9APgpMBC4OCLu7HCzektRhzYL4OXZe7wse5eX5yYq+uIMMzPb9pR+qNDMzLYxDlxmZlYUB64+RtLFklZIuqPTbSmdpL0l3Sjpbkl3SvpQp9tUMkk7SFoo6Td5eX6m020qjaSBkn4t6bpOt6VkDlx9zyXA5E43op9YB5wWEa8EJgKn+JZgW+RZ4MiIeBVwIDBZ0sQOt6k0HwLubjRC0oNbtynlcuDqYyLiJuDJTrejP4iIRyPitjy8lvSFMaqzrSpXJE/nj9vnl6/uapGk0cBbgO90ui2lc+CybYKkMcBBwILOtqRs+VDXEmAFcENEeHm27qvAR4HnO92Q0jlwWb8naWfgauDDEfFUp9tTsohYHxEHku5Sc4ikAzrdphJIeiuwIiIW16V/QtKS/GNgr9qwpG92pqVlKPoPyGYbI2l7UtD6XgL6IJwAAAQLSURBVET8sNPt6S8iYrWk+aTzsb6QaOMOA94m6c3ADsAQSZdFxAnADEjnuPKPAtsI97is35Ik4CLg7oj4SqfbUzpJIyTtmocHA28E7ulsq8oQEWdExOiIGEO6Nd28HLRsMzhw9TGSvg/cArxc0jJJ0zrdpoIdBpwIHFk5BPPmTjeqYCOBGyX9lnSf0Bsiwpd121bnWz6ZmVlR3OMyM7OiOHCZmVlRHLjMzKwoDlxmZlYUBy4zMyuKA5eZmRXFgcusjqT5kiZ0uh3tJulY3y3fSuTAZbbtOhZw4LLiOHDZNkvSmPyQyQvzgxF/lm9lBHCCpF9KukPSIU3qOFPSpZLmSbpP0j/l9J0lzZV0m6TbJR2T0z9XfaClpBmSTpU0UtJN+e4ed0h6fQ/TO1nSFyuf3y3p63n4hPygxyWSvi1pYE5/Ok/nN5JulbSnpNcBbwO+lPO/NL9+ImmxpP+W9IotXMRm7RERfvm1Tb6AMaSHTR6YP88GTgDmAxfmtMOBO5rUcSbwG2AwMBxYCuxFuoH1kJxnONAFKE/ztpw+APgdsDtwGvCJnD4Q2KWH6Y0Auiqfrwf+Bngl8GNg+5x+HnBSHg7g6Dz8ReCTefgS4LhKXXOBcXn4UNL99Dq+nvzyq/7lu8Pbtu6BiFiShxeTAgvA9yE92FPSEEm7RsTqHuq4NiL+BPxJ0o3AIcB/Af8h6XDS85dGAXtGxIOSnpB0ELAn8OuIeELSr4CL893sf1RpUzcRsVLS/fnJw/cBLwduBk4BDgZ+le4tzGDSM7MA/gzU7im4GHhTfb350S+vA36QywMM6mF+zTrKgcu2dc9WhteTvvBhwyf7NrupZ6O87yL1jg6OiOfyY9l3yOO/A7wbeDFwMfwlQB5OekLupZK+FBGzepjelcA7SHdmvyYiIt8Jf2ZEnNEg/3MRUWvjehrv9wOA1eHHalgBfI7LrLF/BJD0N8CaiFjTJO8xknaQtDtwBOnO6UNJDw58TtLfAvtW8l9Deo7Va4Cf5unsm/NfSHoUy6ubTO+HpAsr3kkKYpAO8x0naY9c37BcZzNrgV0AIj1g8wFJx+fykvSqjZQ36wj3uMwaWyXpl8AQ4L0bybuQdGhwH+BzEfGIpO8BP5a0CFhC5blVEfHnfEhxdUSsz8lHAB+R9BzwNHBSTxOLiFWS7gLGR8TCnHaXpE8CP5M0AHiOdPjwoSbtvgK4UNKpwHGkXuL5uZ7t8/jfbGTezbY6P9bEbAtIOhN4OiK+vAllBgC3AcdHxH3taptZf+VDhWZbUf7Dbxcw10HLbPO4x2XWAknvAT5Ul3xzRJzSxmkuYMMr+06MiNvbNU2zEjhwmZlZUXyo0MzMiuLAZWZmRXHgMjOzojhwmZlZUf4/TI6sDBpvNwcAAAAASUVORK5CYII=\n",
      "text/plain": [
       "<Figure size 432x288 with 1 Axes>"
      ]
     },
     "metadata": {
      "needs_background": "light"
     },
     "output_type": "display_data"
    }
   ],
   "source": [
    "sns.countplot(data=data,x='nb_pays_vente',order=['1','2','3','4+'])\n",
    "plt.title('Diagramme en bâtons du nombre de pays de vente des produits')\n",
    "plt.show()"
   ]
  },
  {
   "cell_type": "markdown",
   "metadata": {},
   "source": [
    "### 3.7 Est-ce que tous les produits du site sont vendus en France ?"
   ]
  },
  {
   "cell_type": "code",
   "execution_count": 137,
   "metadata": {
    "scrolled": false
   },
   "outputs": [
    {
     "data": {
      "text/plain": [
       "79999"
      ]
     },
     "execution_count": 137,
     "metadata": {},
     "output_type": "execute_result"
    }
   ],
   "source": [
    "data[data['pays de vente'].str.contains('France',case=False)].shape[0]"
   ]
  },
  {
   "cell_type": "code",
   "execution_count": 139,
   "metadata": {},
   "outputs": [
    {
     "data": {
      "text/plain": [
       "4390"
      ]
     },
     "execution_count": 139,
     "metadata": {},
     "output_type": "execute_result"
    }
   ],
   "source": [
    "data[data['pays de vente'].str.contains('Allemagne',case=False)].shape[0]"
   ]
  },
  {
   "cell_type": "code",
   "execution_count": 141,
   "metadata": {},
   "outputs": [
    {
     "data": {
      "text/plain": [
       "1"
      ]
     },
     "execution_count": 141,
     "metadata": {},
     "output_type": "execute_result"
    }
   ],
   "source": [
    "data[data['pays de vente'].str.contains('Grèce',case=False)].shape[0]"
   ]
  },
  {
   "cell_type": "markdown",
   "metadata": {},
   "source": [
    "Dans notre dataset, la (quasi)totalité des produits sont vendus en France.\n",
    "<br/>Openfoodfacts est un projet collaboratif né en France où l'on peut répertorier des produits du monde entier  (https://fr.openfoodfacts.org/decouvrir)\n",
    "<br/> On peut penser qu'openfoodfacts n'est pas très connu à l'internationale et que ce sont essentiellement des bénévoles Français qui ont rempli les renseignements des produits."
   ]
  },
  {
   "cell_type": "markdown",
   "metadata": {},
   "source": [
    "### 3.8 L'écoscore est-il sensible au nombre de pays de vente?"
   ]
  },
  {
   "cell_type": "code",
   "execution_count": 142,
   "metadata": {},
   "outputs": [],
   "source": [
    "a=pd.crosstab(data['ecoscore'],data['nb_pays_vente'])"
   ]
  },
  {
   "cell_type": "code",
   "execution_count": 143,
   "metadata": {
    "scrolled": true
   },
   "outputs": [],
   "source": [
    "b=a.apply(lambda x: x*100/sum(x), axis=1)"
   ]
  },
  {
   "cell_type": "code",
   "execution_count": 144,
   "metadata": {},
   "outputs": [
    {
     "data": {
      "text/html": [
       "<div>\n",
       "<style scoped>\n",
       "    .dataframe tbody tr th:only-of-type {\n",
       "        vertical-align: middle;\n",
       "    }\n",
       "\n",
       "    .dataframe tbody tr th {\n",
       "        vertical-align: top;\n",
       "    }\n",
       "\n",
       "    .dataframe thead th {\n",
       "        text-align: right;\n",
       "    }\n",
       "</style>\n",
       "<table border=\"1\" class=\"dataframe\">\n",
       "  <thead>\n",
       "    <tr style=\"text-align: right;\">\n",
       "      <th>nb_pays_vente</th>\n",
       "      <th>1</th>\n",
       "      <th>2</th>\n",
       "      <th>3</th>\n",
       "      <th>4+</th>\n",
       "      <th>xxx</th>\n",
       "    </tr>\n",
       "    <tr>\n",
       "      <th>ecoscore</th>\n",
       "      <th></th>\n",
       "      <th></th>\n",
       "      <th></th>\n",
       "      <th></th>\n",
       "      <th></th>\n",
       "    </tr>\n",
       "  </thead>\n",
       "  <tbody>\n",
       "    <tr>\n",
       "      <th>A</th>\n",
       "      <td>80.428599</td>\n",
       "      <td>13.901005</td>\n",
       "      <td>3.356723</td>\n",
       "      <td>2.313673</td>\n",
       "      <td>0.000000</td>\n",
       "    </tr>\n",
       "    <tr>\n",
       "      <th>B</th>\n",
       "      <td>74.726357</td>\n",
       "      <td>18.642497</td>\n",
       "      <td>4.331963</td>\n",
       "      <td>2.299183</td>\n",
       "      <td>0.000000</td>\n",
       "    </tr>\n",
       "    <tr>\n",
       "      <th>C</th>\n",
       "      <td>71.320084</td>\n",
       "      <td>20.487963</td>\n",
       "      <td>5.509775</td>\n",
       "      <td>2.682178</td>\n",
       "      <td>0.000000</td>\n",
       "    </tr>\n",
       "    <tr>\n",
       "      <th>D</th>\n",
       "      <td>72.393222</td>\n",
       "      <td>20.776414</td>\n",
       "      <td>4.763963</td>\n",
       "      <td>2.066402</td>\n",
       "      <td>0.000000</td>\n",
       "    </tr>\n",
       "    <tr>\n",
       "      <th>E</th>\n",
       "      <td>73.270742</td>\n",
       "      <td>18.528454</td>\n",
       "      <td>5.115923</td>\n",
       "      <td>3.084882</td>\n",
       "      <td>0.000000</td>\n",
       "    </tr>\n",
       "    <tr>\n",
       "      <th>xxx</th>\n",
       "      <td>72.435240</td>\n",
       "      <td>21.525250</td>\n",
       "      <td>4.367954</td>\n",
       "      <td>1.668021</td>\n",
       "      <td>0.003534</td>\n",
       "    </tr>\n",
       "  </tbody>\n",
       "</table>\n",
       "</div>"
      ],
      "text/plain": [
       "nb_pays_vente          1          2         3        4+       xxx\n",
       "ecoscore                                                         \n",
       "A              80.428599  13.901005  3.356723  2.313673  0.000000\n",
       "B              74.726357  18.642497  4.331963  2.299183  0.000000\n",
       "C              71.320084  20.487963  5.509775  2.682178  0.000000\n",
       "D              72.393222  20.776414  4.763963  2.066402  0.000000\n",
       "E              73.270742  18.528454  5.115923  3.084882  0.000000\n",
       "xxx            72.435240  21.525250  4.367954  1.668021  0.003534"
      ]
     },
     "execution_count": 144,
     "metadata": {},
     "output_type": "execute_result"
    }
   ],
   "source": [
    "b"
   ]
  },
  {
   "cell_type": "code",
   "execution_count": 145,
   "metadata": {},
   "outputs": [
    {
     "data": {
      "image/png": "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\n",
      "text/plain": [
       "<Figure size 432x288 with 1 Axes>"
      ]
     },
     "metadata": {
      "needs_background": "light"
     },
     "output_type": "display_data"
    }
   ],
   "source": [
    "b.plot(kind='bar', stacked=True,title='Répartition du nombre de pays de vente par écoscore').legend(bbox_to_anchor=(1, 0.5))\n",
    "plt.ylabel('pourcentage')\n",
    "plt.legend(bbox_to_anchor=(1, 0.5),title='Nombre de pays de vente')\n",
    "plt.show()"
   ]
  },
  {
   "cell_type": "markdown",
   "metadata": {},
   "source": [
    "80% des produits en écoscore A sont vendus dans un seul pays de vente, 74 % pour l'ecoscore B, 71% pour le C et 73% pour le E. \n",
    "Remarque : L'écoscore semble légèrement sensible au nombre de pays de vente. "
   ]
  },
  {
   "cell_type": "markdown",
   "metadata": {},
   "source": [
    "### 3.9 Les produits végétariens, végétaliens sont ils dans l'ensemble très transformés ?"
   ]
  },
  {
   "cell_type": "code",
   "execution_count": 146,
   "metadata": {},
   "outputs": [],
   "source": [
    "import re\n",
    "\n",
    "def vegetar(x):\n",
    "    if re.search('v.g.tarien',x,re.IGNORECASE):\n",
    "        return True\n",
    "    else:\n",
    "        return 'xxx'\n",
    "\n",
    "def vegetal(x):\n",
    "    if re.search('v.g.talien',x,re.IGNORECASE):\n",
    "        return True\n",
    "    else:\n",
    "        return 'xxx'\n"
   ]
  },
  {
   "cell_type": "code",
   "execution_count": 148,
   "metadata": {},
   "outputs": [],
   "source": [
    "data['vegetarien']=data['libellés verts'].apply(vegetar) #True si le produit porte le libellé 'est végétarien', xxx sinon\n",
    "data['vegetalien']=data['libellés verts'].apply(vegetal) # True si le produit porte le libellé 'est végétalien', xxx sinon\n",
    "data['nvegetarien']=data['libellés rouges'].apply(vegetar) #True si le produit porte le libellé 'est végétarien' ,  xxx sinon\n",
    "data['nvegetalien']=data['libellés rouges'].apply(vegetal) # True si le produit porte le libellé 'n'est pas végétalien', xxx sinon\n"
   ]
  },
  {
   "cell_type": "code",
   "execution_count": 149,
   "metadata": {},
   "outputs": [],
   "source": [
    "#on créée respectivement des datasets des produits végétaliens, végétariens, non végétariens, non végétaliens, avec huile de palme\n",
    "data_v=data[data['vegetarien']==True]\n",
    "data_vl=data[data['vegetalien']==True]\n",
    "data_nv=data[data['nvegetarien']==True]\n",
    "data_nvl=data[data['nvegetalien']==True]\n",
    "data_p=data[data['huile de palme']==True]"
   ]
  },
  {
   "cell_type": "code",
   "execution_count": 150,
   "metadata": {
    "scrolled": false
   },
   "outputs": [
    {
     "data": {
      "image/png": "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\n",
      "text/plain": [
       "<Figure size 432x288 with 1 Axes>"
      ]
     },
     "metadata": {
      "needs_background": "light"
     },
     "output_type": "display_data"
    }
   ],
   "source": [
    "sns.countplot(data=data_v,x='nova',order=['1','2','3','4','xxx'])\n",
    "plt.title('Répartition du nombre de produits portant l\\'étiquette \"végétarien\" par score nova')\n",
    "plt.show()"
   ]
  },
  {
   "cell_type": "markdown",
   "metadata": {},
   "source": [
    "Parmi les produits végétariens, on compte davatage de produits nova 3 ou 4 (transformés et ultra-transformés) que de nova 1, même si la quantité de produits végétariens nova 1 reste importante. Les produits végétaliens, eux sont dans l'ensemble moins transformés:"
   ]
  },
  {
   "cell_type": "code",
   "execution_count": 151,
   "metadata": {},
   "outputs": [
    {
     "data": {
      "image/png": "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\n",
      "text/plain": [
       "<Figure size 432x288 with 1 Axes>"
      ]
     },
     "metadata": {
      "needs_background": "light"
     },
     "output_type": "display_data"
    }
   ],
   "source": [
    "sns.countplot(data=data_vl,x='nova',order=['1','2','3','4','xxx'])\n",
    "plt.title('Répartition du nombre de produits portant l\\'étiquette \"végétalien\" par score nova')\n",
    "plt.show()"
   ]
  },
  {
   "cell_type": "code",
   "execution_count": 152,
   "metadata": {},
   "outputs": [
    {
     "data": {
      "image/png": "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\n",
      "text/plain": [
       "<Figure size 432x288 with 1 Axes>"
      ]
     },
     "metadata": {
      "needs_background": "light"
     },
     "output_type": "display_data"
    }
   ],
   "source": [
    "sns.countplot(data=data_nv,x='nova',order=['1','2','3','4','xxx'])\n",
    "plt.title('Répartition du nombre de produits portant l\\'étiquette \"non végétarien\" par score nova')\n",
    "plt.show()"
   ]
  },
  {
   "cell_type": "markdown",
   "metadata": {},
   "source": [
    "Les produits ayant l'étiquette \"non végétarien\" sont dans l'ensemble très transformés. "
   ]
  },
  {
   "cell_type": "markdown",
   "metadata": {},
   "source": [
    "### 3.10. Quels sont les 20 produits végétariens contenant le plus d'additifs? "
   ]
  },
  {
   "cell_type": "code",
   "execution_count": 197,
   "metadata": {
    "scrolled": true
   },
   "outputs": [
    {
     "data": {
      "text/html": [
       "<div>\n",
       "<style scoped>\n",
       "    .dataframe tbody tr th:only-of-type {\n",
       "        vertical-align: middle;\n",
       "    }\n",
       "\n",
       "    .dataframe tbody tr th {\n",
       "        vertical-align: top;\n",
       "    }\n",
       "\n",
       "    .dataframe thead th {\n",
       "        text-align: right;\n",
       "    }\n",
       "</style>\n",
       "<table border=\"1\" class=\"dataframe\">\n",
       "  <thead>\n",
       "    <tr style=\"text-align: right;\">\n",
       "      <th></th>\n",
       "      <th>nom</th>\n",
       "      <th>URL</th>\n",
       "      <th>nb_additifs</th>\n",
       "    </tr>\n",
       "  </thead>\n",
       "  <tbody>\n",
       "    <tr>\n",
       "      <th>63294</th>\n",
       "      <td>Skittles fruits - 191.4 g</td>\n",
       "      <td>https://fr.openfoodfacts.org//produit/4009900532839/skittles-fruits</td>\n",
       "      <td>15.0</td>\n",
       "    </tr>\n",
       "    <tr>\n",
       "      <th>59137</th>\n",
       "      <td>Cake gourmand citron - Monoprix Gourmet - 320 g</td>\n",
       "      <td>https://fr.openfoodfacts.org//produit/3350033231740/cake-gourmand-citron-monoprix-gourmet</td>\n",
       "      <td>15.0</td>\n",
       "    </tr>\n",
       "    <tr>\n",
       "      <th>74568</th>\n",
       "      <td>Skittles Smoothies - Mars Wrigley Confectionery - 191,4 g</td>\n",
       "      <td>https://fr.openfoodfacts.org//produit/4009900531597/skittles-smoothies-mars-wrigley-confectionery</td>\n",
       "      <td>12.0</td>\n",
       "    </tr>\n",
       "    <tr>\n",
       "      <th>30428</th>\n",
       "      <td>Wraps - Goldähren - 372g</td>\n",
       "      <td>https://fr.openfoodfacts.org//produit/4061458045780/wraps-goldahren</td>\n",
       "      <td>12.0</td>\n",
       "    </tr>\n",
       "    <tr>\n",
       "      <th>36561</th>\n",
       "      <td>Cordon Bleu  Végétale - Céréal - 200 g</td>\n",
       "      <td>https://fr.openfoodfacts.org//produit/3175681209831/cordon-bleu-vegetale-cereal</td>\n",
       "      <td>11.0</td>\n",
       "    </tr>\n",
       "    <tr>\n",
       "      <th>2456</th>\n",
       "      <td>Pringles Hot &amp; Spicy - 175 g</td>\n",
       "      <td>https://fr.openfoodfacts.org//produit/5053990155941/pringles-hot-spicy</td>\n",
       "      <td>11.0</td>\n",
       "    </tr>\n",
       "    <tr>\n",
       "      <th>1818</th>\n",
       "      <td>Pain Complet 12 Céréales &amp; Graines - bimbo - 680 g</td>\n",
       "      <td>https://fr.openfoodfacts.org//produit/8412600024485/pain-complet-12-cereales-graines-bimbo</td>\n",
       "      <td>11.0</td>\n",
       "    </tr>\n",
       "    <tr>\n",
       "      <th>72825</th>\n",
       "      <td>Go Ahead! Forest Fruit Yogurt Breaks 5 Packs of 2 Slices (178g) - 178 g (5 x 35.6 g)</td>\n",
       "      <td>https://fr.openfoodfacts.org//produit/5000168181578/go-ahead-forest-fruit-yogurt-breaks-5-packs-...</td>\n",
       "      <td>11.0</td>\n",
       "    </tr>\n",
       "    <tr>\n",
       "      <th>68805</th>\n",
       "      <td>Mini cakes marbrés - Cereal</td>\n",
       "      <td>https://fr.openfoodfacts.org//produit/5410063023949/mini-cakes-marbres-cereal</td>\n",
       "      <td>11.0</td>\n",
       "    </tr>\n",
       "    <tr>\n",
       "      <th>52955</th>\n",
       "      <td>Sweet Strawberries - Look-O-Look - 115g</td>\n",
       "      <td>https://fr.openfoodfacts.org//produit/8713600175000/sweet-strawberries-look-o-look</td>\n",
       "      <td>10.0</td>\n",
       "    </tr>\n",
       "    <tr>\n",
       "      <th>64490</th>\n",
       "      <td>24 blinis cocktail - Labeyrie - 200 g</td>\n",
       "      <td>https://fr.openfoodfacts.org//produit/3292070101351/24-blinis-cocktail-labeyrie</td>\n",
       "      <td>10.0</td>\n",
       "    </tr>\n",
       "    <tr>\n",
       "      <th>43727</th>\n",
       "      <td>Sauce tartare - Carrefour - 345 g</td>\n",
       "      <td>https://fr.openfoodfacts.org//produit/3560070496808/sauce-tartare-carrefour</td>\n",
       "      <td>10.0</td>\n",
       "    </tr>\n",
       "    <tr>\n",
       "      <th>59632</th>\n",
       "      <td>Mcvities Jaffa Cakes Twin Pack</td>\n",
       "      <td>https://fr.openfoodfacts.org//produit/5000168200941/mcvities-jaffa-cakes-twin-pack</td>\n",
       "      <td>10.0</td>\n",
       "    </tr>\n",
       "    <tr>\n",
       "      <th>42200</th>\n",
       "      <td>Happy Cola Zéro - 50 cl</td>\n",
       "      <td>https://fr.openfoodfacts.org//produit/7613413576005/happy-cola-zero</td>\n",
       "      <td>10.0</td>\n",
       "    </tr>\n",
       "    <tr>\n",
       "      <th>20929</th>\n",
       "      <td>Veggie Ramyun Noodle Soup Gourmet Mild - NONGSHIM - 112 g</td>\n",
       "      <td>https://fr.openfoodfacts.org//produit/8801043022705/veggie-ramyun-noodle-soup-gourmet-mild-nongshim</td>\n",
       "      <td>10.0</td>\n",
       "    </tr>\n",
       "    <tr>\n",
       "      <th>19179</th>\n",
       "      <td>Fanta limón zero azúcar - 33ml</td>\n",
       "      <td>https://fr.openfoodfacts.org//produit/5449000120991/fanta-limon-zero-azucar</td>\n",
       "      <td>10.0</td>\n",
       "    </tr>\n",
       "    <tr>\n",
       "      <th>14435</th>\n",
       "      <td>Ben &amp; Jerry's Glace Pot Vanille Pecan Blondie - 500 ml (414 g)</td>\n",
       "      <td>https://fr.openfoodfacts.org//produit/8712100871320/ben-jerry-s-glace-pot-vanille-pecan-blondie</td>\n",
       "      <td>10.0</td>\n",
       "    </tr>\n",
       "    <tr>\n",
       "      <th>19718</th>\n",
       "      <td>Blinis Apéro - Blini - 125 g</td>\n",
       "      <td>https://fr.openfoodfacts.org//produit/3292070004898/blinis-apero-blini</td>\n",
       "      <td>9.0</td>\n",
       "    </tr>\n",
       "    <tr>\n",
       "      <th>7060</th>\n",
       "      <td>Viennetta Biscuit Caramel - 350 g</td>\n",
       "      <td>https://fr.openfoodfacts.org//produit/8711200607198/viennetta-biscuit-caramel</td>\n",
       "      <td>9.0</td>\n",
       "    </tr>\n",
       "    <tr>\n",
       "      <th>67696</th>\n",
       "      <td>Burger végétal - Curry - Sojasun - 155 g</td>\n",
       "      <td>https://fr.openfoodfacts.org//produit/3273220086186/burger-vegetal-curry-sojasun</td>\n",
       "      <td>9.0</td>\n",
       "    </tr>\n",
       "  </tbody>\n",
       "</table>\n",
       "</div>"
      ],
      "text/plain": [
       "                                                                                        nom  \\\n",
       "63294                                                             Skittles fruits - 191.4 g   \n",
       "59137                                       Cake gourmand citron - Monoprix Gourmet - 320 g   \n",
       "74568                             Skittles Smoothies - Mars Wrigley Confectionery - 191,4 g   \n",
       "30428                                                              Wraps - Goldähren - 372g   \n",
       "36561                                                Cordon Bleu  Végétale - Céréal - 200 g   \n",
       "2456                                                           Pringles Hot & Spicy - 175 g   \n",
       "1818                                     Pain Complet 12 Céréales & Graines - bimbo - 680 g   \n",
       "72825  Go Ahead! Forest Fruit Yogurt Breaks 5 Packs of 2 Slices (178g) - 178 g (5 x 35.6 g)   \n",
       "68805                                                           Mini cakes marbrés - Cereal   \n",
       "52955                                               Sweet Strawberries - Look-O-Look - 115g   \n",
       "64490                                                 24 blinis cocktail - Labeyrie - 200 g   \n",
       "43727                                                     Sauce tartare - Carrefour - 345 g   \n",
       "59632                                                        Mcvities Jaffa Cakes Twin Pack   \n",
       "42200                                                               Happy Cola Zéro - 50 cl   \n",
       "20929                             Veggie Ramyun Noodle Soup Gourmet Mild - NONGSHIM - 112 g   \n",
       "19179                                                        Fanta limón zero azúcar - 33ml   \n",
       "14435                        Ben & Jerry's Glace Pot Vanille Pecan Blondie - 500 ml (414 g)   \n",
       "19718                                                          Blinis Apéro - Blini - 125 g   \n",
       "7060                                                      Viennetta Biscuit Caramel - 350 g   \n",
       "67696                                              Burger végétal - Curry - Sojasun - 155 g   \n",
       "\n",
       "                                                                                                       URL  \\\n",
       "63294                                  https://fr.openfoodfacts.org//produit/4009900532839/skittles-fruits   \n",
       "59137            https://fr.openfoodfacts.org//produit/3350033231740/cake-gourmand-citron-monoprix-gourmet   \n",
       "74568    https://fr.openfoodfacts.org//produit/4009900531597/skittles-smoothies-mars-wrigley-confectionery   \n",
       "30428                                  https://fr.openfoodfacts.org//produit/4061458045780/wraps-goldahren   \n",
       "36561                      https://fr.openfoodfacts.org//produit/3175681209831/cordon-bleu-vegetale-cereal   \n",
       "2456                                https://fr.openfoodfacts.org//produit/5053990155941/pringles-hot-spicy   \n",
       "1818            https://fr.openfoodfacts.org//produit/8412600024485/pain-complet-12-cereales-graines-bimbo   \n",
       "72825  https://fr.openfoodfacts.org//produit/5000168181578/go-ahead-forest-fruit-yogurt-breaks-5-packs-...   \n",
       "68805                        https://fr.openfoodfacts.org//produit/5410063023949/mini-cakes-marbres-cereal   \n",
       "52955                   https://fr.openfoodfacts.org//produit/8713600175000/sweet-strawberries-look-o-look   \n",
       "64490                      https://fr.openfoodfacts.org//produit/3292070101351/24-blinis-cocktail-labeyrie   \n",
       "43727                          https://fr.openfoodfacts.org//produit/3560070496808/sauce-tartare-carrefour   \n",
       "59632                   https://fr.openfoodfacts.org//produit/5000168200941/mcvities-jaffa-cakes-twin-pack   \n",
       "42200                                  https://fr.openfoodfacts.org//produit/7613413576005/happy-cola-zero   \n",
       "20929  https://fr.openfoodfacts.org//produit/8801043022705/veggie-ramyun-noodle-soup-gourmet-mild-nongshim   \n",
       "19179                          https://fr.openfoodfacts.org//produit/5449000120991/fanta-limon-zero-azucar   \n",
       "14435      https://fr.openfoodfacts.org//produit/8712100871320/ben-jerry-s-glace-pot-vanille-pecan-blondie   \n",
       "19718                               https://fr.openfoodfacts.org//produit/3292070004898/blinis-apero-blini   \n",
       "7060                         https://fr.openfoodfacts.org//produit/8711200607198/viennetta-biscuit-caramel   \n",
       "67696                     https://fr.openfoodfacts.org//produit/3273220086186/burger-vegetal-curry-sojasun   \n",
       "\n",
       "       nb_additifs  \n",
       "63294         15.0  \n",
       "59137         15.0  \n",
       "74568         12.0  \n",
       "30428         12.0  \n",
       "36561         11.0  \n",
       "2456          11.0  \n",
       "1818          11.0  \n",
       "72825         11.0  \n",
       "68805         11.0  \n",
       "52955         10.0  \n",
       "64490         10.0  \n",
       "43727         10.0  \n",
       "59632         10.0  \n",
       "42200         10.0  \n",
       "20929         10.0  \n",
       "19179         10.0  \n",
       "14435         10.0  \n",
       "19718          9.0  \n",
       "7060           9.0  \n",
       "67696          9.0  "
      ]
     },
     "execution_count": 197,
     "metadata": {},
     "output_type": "execute_result"
    }
   ],
   "source": [
    "dt=data_v.sort_values(by=['nb_additifs'],ascending=False).head(20).loc[:,['nom','URL','nb_additifs']]\n",
    "dt"
   ]
<<<<<<< HEAD
=======
  },
  {
   "cell_type": "markdown",
   "metadata": {},
   "source": [
    "# 4. Un modèle de machine learning pour prédire le nutriscore d'un produit.\n"
   ]
  },
  {
   "cell_type": "markdown",
   "metadata": {},
   "source": [
    "Motivation : Nous avons remarqué qu'aucun produit végétarien n'a de nutriscore indiqué:"
   ]
  },
  {
   "cell_type": "code",
   "execution_count": 155,
   "metadata": {
    "scrolled": false
   },
   "outputs": [
    {
     "data": {
      "image/png": "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\n",
      "text/plain": [
       "<Figure size 432x288 with 1 Axes>"
      ]
     },
     "metadata": {
      "needs_background": "light"
     },
     "output_type": "display_data"
    }
   ],
   "source": [
    "sns.countplot(data=data_v,x='nutriscore',order=['1','2','3','4','xxx'])\n",
    "plt.show()"
   ]
  },
  {
   "cell_type": "markdown",
   "metadata": {},
   "source": [
    "N'ayant pas trouvé de formule précise du nutriscore, nous décidons de faire un modèle de classification qui peut prédire le nutriscore d'un produit."
   ]
  },
  {
   "cell_type": "code",
   "execution_count": 158,
   "metadata": {},
   "outputs": [
    {
     "data": {
      "text/plain": [
       "Index(['Unnamed: 0', 'Unnamed: 0.1', 'nom', 'URL', 'code bar', 'nutriscore',\n",
       "       'nova', 'ecoscore', 'quantite', 'conditionnement', 'marques',\n",
       "       'categorie', 'label,certifications,récompenses', 'origine',\n",
       "       'lieu de fabrication', 'code de traçabilité',\n",
       "       'lien vers la page du produit', 'magasins', 'pays de vente', 'additifs',\n",
       "       'ingrédients issus de l'huile de palme', 'vitamines ajoutées',\n",
       "       'minéraux ajoutés', 'matières grasses/lipides pour 100g',\n",
       "       'acides gras saturés pour 100g', 'sucres pour 100g', 'sel pour 100g',\n",
       "       'catégories aux repères nutritionels similaires',\n",
       "       'énergie en kj pour 100g', 'énergie en kcal pour 100g',\n",
       "       'libellés verts', 'libellés oranges', 'libellés rouges',\n",
       "       'nb_pays_vente', 'nb_additifs', 'huile de palme', 'vegetarien',\n",
       "       'vegetalien', 'nvegetarien', 'nvegetalien'],\n",
       "      dtype='object')"
      ]
     },
     "execution_count": 158,
     "metadata": {},
     "output_type": "execute_result"
    }
   ],
   "source": [
    "data.columns"
   ]
  },
  {
   "cell_type": "code",
   "execution_count": 159,
   "metadata": {},
   "outputs": [],
   "source": [
    "# Nous sélectionnons les colonnes relatives aux valeurs nutritives complétées\n",
    "d=data[(data['nova']!='xxx') & (data['nutriscore']!='xxx') &\\\n",
    "          (data['ecoscore']!=\"xxx\") & (data['matières grasses/lipides pour 100g'].notnull())&\\\n",
    "      (data['acides gras saturés pour 100g'].notnull()) & (data[\"sucres pour 100g\"].notnull()) & (data[\"sel pour 100g\"].notnull())&\\\n",
    "       (data['énergie en kj pour 100g'].notnull()) & (data['énergie en kcal pour 100g'].notnull())]"
   ]
  },
  {
   "cell_type": "code",
   "execution_count": 162,
   "metadata": {},
   "outputs": [],
   "source": [
    "d=d.loc[:,['nova',\"nutriscore\",'ecoscore','matières grasses/lipides pour 100g','acides gras saturés pour 100g',\\\n",
    "          \"sucres pour 100g\",\"sel pour 100g\",\"énergie en kj pour 100g\",\"énergie en kcal pour 100g\"]]"
   ]
  },
  {
   "cell_type": "code",
   "execution_count": 163,
   "metadata": {},
   "outputs": [
    {
     "data": {
      "text/plain": [
       "(13250, 9)"
      ]
     },
     "execution_count": 163,
     "metadata": {},
     "output_type": "execute_result"
    }
   ],
   "source": [
    "d.shape"
   ]
  },
  {
   "cell_type": "markdown",
   "metadata": {},
   "source": [
    "Quelques nuages de points pour observer la répartion: "
   ]
  },
  {
   "cell_type": "code",
   "execution_count": 193,
   "metadata": {},
   "outputs": [
    {
     "data": {
      "image/png": "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\n",
      "text/plain": [
       "<Figure size 842.4x595.44 with 1 Axes>"
      ]
     },
     "metadata": {},
     "output_type": "display_data"
    }
   ],
   "source": [
    "sns.set(rc={'figure.figsize':(11.7,8.27)})\n",
    "sns.scatterplot(data=d,x='matières grasses/lipides pour 100g',y='sucres pour 100g',hue='nutriscore',alpha=0.5,palette='tab10')\n",
    "plt.show()"
   ]
  },
  {
   "cell_type": "code",
   "execution_count": 205,
   "metadata": {},
   "outputs": [
    {
     "data": {
      "image/png": "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\n",
      "text/plain": [
       "<Figure size 842.4x595.44 with 1 Axes>"
      ]
     },
     "metadata": {},
     "output_type": "display_data"
    }
   ],
   "source": [
    "sns.set(rc={'figure.figsize':(11.7,8.27)})\n",
    "sns.scatterplot(data=d,x='énergie en kcal pour 100g',y='énergie en kj pour 100g',hue='nutriscore',alpha=0.5,palette='tab10')\n",
    "plt.xlim(0,1000)\n",
    "plt.ylim(0,4000)\n",
    "plt.show()"
   ]
  },
  {
   "cell_type": "markdown",
   "metadata": {},
   "source": [
    "remarque : présence d'outliers qui ne respectent pas la conversion kj à kcal."
   ]
  },
  {
   "cell_type": "markdown",
   "metadata": {},
   "source": [
    "Modèle "
   ]
  },
  {
   "cell_type": "code",
   "execution_count": 164,
   "metadata": {},
   "outputs": [],
   "source": [
    "#standardization des variables numériques\n",
    "data1=d.select_dtypes(include=['float64'])"
   ]
  },
  {
   "cell_type": "code",
   "execution_count": 165,
   "metadata": {
    "scrolled": true
   },
   "outputs": [
    {
     "data": {
      "text/html": [
       "<div>\n",
       "<style scoped>\n",
       "    .dataframe tbody tr th:only-of-type {\n",
       "        vertical-align: middle;\n",
       "    }\n",
       "\n",
       "    .dataframe tbody tr th {\n",
       "        vertical-align: top;\n",
       "    }\n",
       "\n",
       "    .dataframe thead th {\n",
       "        text-align: right;\n",
       "    }\n",
       "</style>\n",
       "<table border=\"1\" class=\"dataframe\">\n",
       "  <thead>\n",
       "    <tr style=\"text-align: right;\">\n",
       "      <th></th>\n",
       "      <th>matières grasses/lipides pour 100g</th>\n",
       "      <th>acides gras saturés pour 100g</th>\n",
       "      <th>sucres pour 100g</th>\n",
       "      <th>sel pour 100g</th>\n",
       "      <th>énergie en kj pour 100g</th>\n",
       "      <th>énergie en kcal pour 100g</th>\n",
       "    </tr>\n",
       "  </thead>\n",
       "  <tbody>\n",
       "    <tr>\n",
       "      <th>2</th>\n",
       "      <td>1.5</td>\n",
       "      <td>0.3</td>\n",
       "      <td>15.0</td>\n",
       "      <td>1.00</td>\n",
       "      <td>1588.0</td>\n",
       "      <td>375.0</td>\n",
       "    </tr>\n",
       "    <tr>\n",
       "      <th>7</th>\n",
       "      <td>0.0</td>\n",
       "      <td>0.0</td>\n",
       "      <td>8.2</td>\n",
       "      <td>0.00</td>\n",
       "      <td>147.0</td>\n",
       "      <td>34.0</td>\n",
       "    </tr>\n",
       "    <tr>\n",
       "      <th>10</th>\n",
       "      <td>0.2</td>\n",
       "      <td>0.1</td>\n",
       "      <td>3.9</td>\n",
       "      <td>0.09</td>\n",
       "      <td>244.0</td>\n",
       "      <td>57.0</td>\n",
       "    </tr>\n",
       "    <tr>\n",
       "      <th>11</th>\n",
       "      <td>1.8</td>\n",
       "      <td>0.6</td>\n",
       "      <td>11.0</td>\n",
       "      <td>0.90</td>\n",
       "      <td>1557.0</td>\n",
       "      <td>368.0</td>\n",
       "    </tr>\n",
       "    <tr>\n",
       "      <th>14</th>\n",
       "      <td>12.0</td>\n",
       "      <td>7.5</td>\n",
       "      <td>23.0</td>\n",
       "      <td>1.39</td>\n",
       "      <td>1832.0</td>\n",
       "      <td>43.0</td>\n",
       "    </tr>\n",
       "    <tr>\n",
       "      <th>...</th>\n",
       "      <td>...</td>\n",
       "      <td>...</td>\n",
       "      <td>...</td>\n",
       "      <td>...</td>\n",
       "      <td>...</td>\n",
       "      <td>...</td>\n",
       "    </tr>\n",
       "    <tr>\n",
       "      <th>79978</th>\n",
       "      <td>8.0</td>\n",
       "      <td>5.0</td>\n",
       "      <td>17.0</td>\n",
       "      <td>0.08</td>\n",
       "      <td>723.0</td>\n",
       "      <td>172.0</td>\n",
       "    </tr>\n",
       "    <tr>\n",
       "      <th>79991</th>\n",
       "      <td>92.0</td>\n",
       "      <td>13.0</td>\n",
       "      <td>0.0</td>\n",
       "      <td>0.00</td>\n",
       "      <td>3404.0</td>\n",
       "      <td>828.0</td>\n",
       "    </tr>\n",
       "    <tr>\n",
       "      <th>79993</th>\n",
       "      <td>0.5</td>\n",
       "      <td>0.1</td>\n",
       "      <td>11.0</td>\n",
       "      <td>0.01</td>\n",
       "      <td>258.0</td>\n",
       "      <td>61.0</td>\n",
       "    </tr>\n",
       "    <tr>\n",
       "      <th>79994</th>\n",
       "      <td>0.8</td>\n",
       "      <td>0.5</td>\n",
       "      <td>10.5</td>\n",
       "      <td>0.12</td>\n",
       "      <td>276.0</td>\n",
       "      <td>65.0</td>\n",
       "    </tr>\n",
       "    <tr>\n",
       "      <th>79999</th>\n",
       "      <td>0.5</td>\n",
       "      <td>0.1</td>\n",
       "      <td>1.4</td>\n",
       "      <td>0.00</td>\n",
       "      <td>106.0</td>\n",
       "      <td>25.0</td>\n",
       "    </tr>\n",
       "  </tbody>\n",
       "</table>\n",
       "<p>13250 rows × 6 columns</p>\n",
       "</div>"
      ],
      "text/plain": [
       "       matières grasses/lipides pour 100g  acides gras saturés pour 100g  \\\n",
       "2                                     1.5                            0.3   \n",
       "7                                     0.0                            0.0   \n",
       "10                                    0.2                            0.1   \n",
       "11                                    1.8                            0.6   \n",
       "14                                   12.0                            7.5   \n",
       "...                                   ...                            ...   \n",
       "79978                                 8.0                            5.0   \n",
       "79991                                92.0                           13.0   \n",
       "79993                                 0.5                            0.1   \n",
       "79994                                 0.8                            0.5   \n",
       "79999                                 0.5                            0.1   \n",
       "\n",
       "       sucres pour 100g  sel pour 100g  énergie en kj pour 100g  \\\n",
       "2                  15.0           1.00                   1588.0   \n",
       "7                   8.2           0.00                    147.0   \n",
       "10                  3.9           0.09                    244.0   \n",
       "11                 11.0           0.90                   1557.0   \n",
       "14                 23.0           1.39                   1832.0   \n",
       "...                 ...            ...                      ...   \n",
       "79978              17.0           0.08                    723.0   \n",
       "79991               0.0           0.00                   3404.0   \n",
       "79993              11.0           0.01                    258.0   \n",
       "79994              10.5           0.12                    276.0   \n",
       "79999               1.4           0.00                    106.0   \n",
       "\n",
       "       énergie en kcal pour 100g  \n",
       "2                          375.0  \n",
       "7                           34.0  \n",
       "10                          57.0  \n",
       "11                         368.0  \n",
       "14                          43.0  \n",
       "...                          ...  \n",
       "79978                      172.0  \n",
       "79991                      828.0  \n",
       "79993                       61.0  \n",
       "79994                       65.0  \n",
       "79999                       25.0  \n",
       "\n",
       "[13250 rows x 6 columns]"
      ]
     },
     "execution_count": 165,
     "metadata": {},
     "output_type": "execute_result"
    }
   ],
   "source": [
    "data1"
   ]
  },
  {
   "cell_type": "code",
   "execution_count": 166,
   "metadata": {},
   "outputs": [
    {
     "data": {
      "text/html": [
       "<div>\n",
       "<style scoped>\n",
       "    .dataframe tbody tr th:only-of-type {\n",
       "        vertical-align: middle;\n",
       "    }\n",
       "\n",
       "    .dataframe tbody tr th {\n",
       "        vertical-align: top;\n",
       "    }\n",
       "\n",
       "    .dataframe thead th {\n",
       "        text-align: right;\n",
       "    }\n",
       "</style>\n",
       "<table border=\"1\" class=\"dataframe\">\n",
       "  <thead>\n",
       "    <tr style=\"text-align: right;\">\n",
       "      <th></th>\n",
       "      <th>matières grasses/lipides pour 100g</th>\n",
       "      <th>acides gras saturés pour 100g</th>\n",
       "      <th>sucres pour 100g</th>\n",
       "      <th>sel pour 100g</th>\n",
       "      <th>énergie en kj pour 100g</th>\n",
       "      <th>énergie en kcal pour 100g</th>\n",
       "    </tr>\n",
       "  </thead>\n",
       "  <tbody>\n",
       "    <tr>\n",
       "      <th>0</th>\n",
       "      <td>-0.744187</td>\n",
       "      <td>-0.643495</td>\n",
       "      <td>0.162986</td>\n",
       "      <td>0.114829</td>\n",
       "      <td>0.521550</td>\n",
       "      <td>0.478849</td>\n",
       "    </tr>\n",
       "    <tr>\n",
       "      <th>1</th>\n",
       "      <td>-0.827523</td>\n",
       "      <td>-0.678976</td>\n",
       "      <td>-0.229512</td>\n",
       "      <td>-0.685297</td>\n",
       "      <td>-1.300223</td>\n",
       "      <td>-1.287392</td>\n",
       "    </tr>\n",
       "    <tr>\n",
       "      <th>2</th>\n",
       "      <td>-0.816412</td>\n",
       "      <td>-0.667149</td>\n",
       "      <td>-0.477709</td>\n",
       "      <td>-0.613286</td>\n",
       "      <td>-1.177592</td>\n",
       "      <td>-1.168262</td>\n",
       "    </tr>\n",
       "    <tr>\n",
       "      <th>3</th>\n",
       "      <td>-0.727520</td>\n",
       "      <td>-0.608014</td>\n",
       "      <td>-0.067895</td>\n",
       "      <td>0.034817</td>\n",
       "      <td>0.482358</td>\n",
       "      <td>0.442592</td>\n",
       "    </tr>\n",
       "    <tr>\n",
       "      <th>4</th>\n",
       "      <td>-0.160836</td>\n",
       "      <td>0.208044</td>\n",
       "      <td>0.624749</td>\n",
       "      <td>0.426879</td>\n",
       "      <td>0.830025</td>\n",
       "      <td>-1.240776</td>\n",
       "    </tr>\n",
       "    <tr>\n",
       "      <th>...</th>\n",
       "      <td>...</td>\n",
       "      <td>...</td>\n",
       "      <td>...</td>\n",
       "      <td>...</td>\n",
       "      <td>...</td>\n",
       "      <td>...</td>\n",
       "    </tr>\n",
       "    <tr>\n",
       "      <th>13245</th>\n",
       "      <td>-0.383065</td>\n",
       "      <td>-0.087629</td>\n",
       "      <td>0.278427</td>\n",
       "      <td>-0.621287</td>\n",
       "      <td>-0.572020</td>\n",
       "      <td>-0.572608</td>\n",
       "    </tr>\n",
       "    <tr>\n",
       "      <th>13246</th>\n",
       "      <td>4.283746</td>\n",
       "      <td>0.858525</td>\n",
       "      <td>-0.702818</td>\n",
       "      <td>-0.685297</td>\n",
       "      <td>2.817413</td>\n",
       "      <td>2.825206</td>\n",
       "    </tr>\n",
       "    <tr>\n",
       "      <th>13247</th>\n",
       "      <td>-0.799744</td>\n",
       "      <td>-0.667149</td>\n",
       "      <td>-0.067895</td>\n",
       "      <td>-0.677296</td>\n",
       "      <td>-1.159892</td>\n",
       "      <td>-1.147543</td>\n",
       "    </tr>\n",
       "    <tr>\n",
       "      <th>13248</th>\n",
       "      <td>-0.783077</td>\n",
       "      <td>-0.619841</td>\n",
       "      <td>-0.096755</td>\n",
       "      <td>-0.589282</td>\n",
       "      <td>-1.137136</td>\n",
       "      <td>-1.126825</td>\n",
       "    </tr>\n",
       "    <tr>\n",
       "      <th>13249</th>\n",
       "      <td>-0.799744</td>\n",
       "      <td>-0.667149</td>\n",
       "      <td>-0.622010</td>\n",
       "      <td>-0.685297</td>\n",
       "      <td>-1.352057</td>\n",
       "      <td>-1.334009</td>\n",
       "    </tr>\n",
       "  </tbody>\n",
       "</table>\n",
       "<p>13250 rows × 6 columns</p>\n",
       "</div>"
      ],
      "text/plain": [
       "       matières grasses/lipides pour 100g  acides gras saturés pour 100g  \\\n",
       "0                               -0.744187                      -0.643495   \n",
       "1                               -0.827523                      -0.678976   \n",
       "2                               -0.816412                      -0.667149   \n",
       "3                               -0.727520                      -0.608014   \n",
       "4                               -0.160836                       0.208044   \n",
       "...                                   ...                            ...   \n",
       "13245                           -0.383065                      -0.087629   \n",
       "13246                            4.283746                       0.858525   \n",
       "13247                           -0.799744                      -0.667149   \n",
       "13248                           -0.783077                      -0.619841   \n",
       "13249                           -0.799744                      -0.667149   \n",
       "\n",
       "       sucres pour 100g  sel pour 100g  énergie en kj pour 100g  \\\n",
       "0              0.162986       0.114829                 0.521550   \n",
       "1             -0.229512      -0.685297                -1.300223   \n",
       "2             -0.477709      -0.613286                -1.177592   \n",
       "3             -0.067895       0.034817                 0.482358   \n",
       "4              0.624749       0.426879                 0.830025   \n",
       "...                 ...            ...                      ...   \n",
       "13245          0.278427      -0.621287                -0.572020   \n",
       "13246         -0.702818      -0.685297                 2.817413   \n",
       "13247         -0.067895      -0.677296                -1.159892   \n",
       "13248         -0.096755      -0.589282                -1.137136   \n",
       "13249         -0.622010      -0.685297                -1.352057   \n",
       "\n",
       "       énergie en kcal pour 100g  \n",
       "0                       0.478849  \n",
       "1                      -1.287392  \n",
       "2                      -1.168262  \n",
       "3                       0.442592  \n",
       "4                      -1.240776  \n",
       "...                          ...  \n",
       "13245                  -0.572608  \n",
       "13246                   2.825206  \n",
       "13247                  -1.147543  \n",
       "13248                  -1.126825  \n",
       "13249                  -1.334009  \n",
       "\n",
       "[13250 rows x 6 columns]"
      ]
     },
     "execution_count": 166,
     "metadata": {},
     "output_type": "execute_result"
    }
   ],
   "source": [
    "from sklearn.preprocessing import StandardScaler\n",
    "\n",
    "# create a scaler object\n",
    "std_scaler = StandardScaler()\n",
    "std_scaler\n",
    "# fit and transform the data\n",
    "data1_std = pd.DataFrame(std_scaler.fit_transform(data1), columns=data1.columns)\n",
    "\n",
    "data1_std"
   ]
  },
  {
   "cell_type": "code",
   "execution_count": 167,
   "metadata": {},
   "outputs": [],
   "source": [
    "#traitement des variables catégorielles\n",
    "\n",
    "data2=d.select_dtypes(include=['object'])"
   ]
  },
  {
   "cell_type": "code",
   "execution_count": 168,
   "metadata": {},
   "outputs": [
    {
     "data": {
      "text/html": [
       "<div>\n",
       "<style scoped>\n",
       "    .dataframe tbody tr th:only-of-type {\n",
       "        vertical-align: middle;\n",
       "    }\n",
       "\n",
       "    .dataframe tbody tr th {\n",
       "        vertical-align: top;\n",
       "    }\n",
       "\n",
       "    .dataframe thead th {\n",
       "        text-align: right;\n",
       "    }\n",
       "</style>\n",
       "<table border=\"1\" class=\"dataframe\">\n",
       "  <thead>\n",
       "    <tr style=\"text-align: right;\">\n",
       "      <th></th>\n",
       "      <th>nova</th>\n",
       "      <th>nutriscore</th>\n",
       "      <th>ecoscore</th>\n",
       "    </tr>\n",
       "  </thead>\n",
       "  <tbody>\n",
       "    <tr>\n",
       "      <th>2</th>\n",
       "      <td>4</td>\n",
       "      <td>C</td>\n",
       "      <td>C</td>\n",
       "    </tr>\n",
       "    <tr>\n",
       "      <th>7</th>\n",
       "      <td>4</td>\n",
       "      <td>E</td>\n",
       "      <td>C</td>\n",
       "    </tr>\n",
       "    <tr>\n",
       "      <th>10</th>\n",
       "      <td>3</td>\n",
       "      <td>A</td>\n",
       "      <td>D</td>\n",
       "    </tr>\n",
       "    <tr>\n",
       "      <th>11</th>\n",
       "      <td>4</td>\n",
       "      <td>A</td>\n",
       "      <td>B</td>\n",
       "    </tr>\n",
       "    <tr>\n",
       "      <th>14</th>\n",
       "      <td>4</td>\n",
       "      <td>E</td>\n",
       "      <td>C</td>\n",
       "    </tr>\n",
       "  </tbody>\n",
       "</table>\n",
       "</div>"
      ],
      "text/plain": [
       "   nova nutriscore ecoscore\n",
       "2     4          C        C\n",
       "7     4          E        C\n",
       "10    3          A        D\n",
       "11    4          A        B\n",
       "14    4          E        C"
      ]
     },
     "execution_count": 168,
     "metadata": {},
     "output_type": "execute_result"
    }
   ],
   "source": [
    "data2.head()"
   ]
  },
  {
   "cell_type": "code",
   "execution_count": 169,
   "metadata": {},
   "outputs": [],
   "source": [
    "dummy=pd.get_dummies(data2)"
   ]
  },
  {
   "cell_type": "code",
   "execution_count": 170,
   "metadata": {},
   "outputs": [],
   "source": [
    "df=pd.concat([dummy,data1],axis=1) "
   ]
  },
  {
   "cell_type": "code",
   "execution_count": 171,
   "metadata": {},
   "outputs": [],
   "source": [
    "X= df.to_numpy()                                    #X ensemble des variables prédictives\n",
    "y_text = d['nutriscore'].to_numpy()   #y variable à prédire"
   ]
  },
  {
   "cell_type": "code",
   "execution_count": 172,
   "metadata": {},
   "outputs": [
    {
     "data": {
      "text/plain": [
       "(13250, 20)"
      ]
     },
     "execution_count": 172,
     "metadata": {},
     "output_type": "execute_result"
    }
   ],
   "source": [
    "X.shape"
   ]
  },
  {
   "cell_type": "code",
   "execution_count": 173,
   "metadata": {},
   "outputs": [
    {
     "data": {
      "text/plain": [
       "(13250,)"
      ]
     },
     "execution_count": 173,
     "metadata": {},
     "output_type": "execute_result"
    }
   ],
   "source": [
    "y_text.shape"
   ]
  },
  {
   "cell_type": "code",
   "execution_count": 198,
   "metadata": {},
   "outputs": [],
   "source": [
    "from sklearn.model_selection import train_test_split\n",
    "from sklearn.ensemble import RandomForestClassifier \n",
    "from sklearn.preprocessing import LabelEncoder\n",
    "from sklearn.metrics import accuracy_score\n"
   ]
  },
  {
   "cell_type": "code",
   "execution_count": 199,
   "metadata": {},
   "outputs": [],
   "source": [
    "y = LabelEncoder().fit_transform(y_text)  \n"
   ]
  },
  {
   "cell_type": "code",
   "execution_count": 200,
   "metadata": {},
   "outputs": [
    {
     "data": {
      "text/plain": [
       "D    3724\n",
       "C    2815\n",
       "A    2755\n",
       "E    2081\n",
       "B    1875\n",
       "Name: nutriscore, dtype: int64"
      ]
     },
     "execution_count": 200,
     "metadata": {},
     "output_type": "execute_result"
    }
   ],
   "source": [
    "d['nutriscore'].value_counts()"
   ]
  },
  {
   "cell_type": "code",
   "execution_count": 201,
   "metadata": {},
   "outputs": [],
   "source": [
    "(X_train, X_test, y_train, y_test) = train_test_split(X, y, test_size=0.2,random_state=0)"
   ]
  },
  {
   "cell_type": "code",
   "execution_count": 221,
   "metadata": {},
   "outputs": [
    {
     "name": "stdout",
     "output_type": "stream",
     "text": [
      "1   0.9288679245283019\n",
      "2   0.9941509433962263\n",
      "3   1.0\n",
      "4   1.0\n",
      "5   1.0\n",
      "6   1.0\n",
      "7   1.0\n",
      "8   1.0\n",
      "9   1.0\n"
     ]
    }
   ],
   "source": [
    "#On va réalise un random forest\n",
    "#choix de max_depth\n",
    "from sklearn.model_selection import cross_val_score\n",
    "valscore=[]\n",
    "for k in range(1,10):\n",
    "    clf=RandomForestClassifier(max_depth=k,n_estimators=30)   \n",
    "    score=cross_val_score(clf , X_train, y_train, cv = 5,scoring='accuracy').mean()\n",
    "    print(k,' ',score)\n",
    "    valscore.append(score)"
   ]
  },
  {
   "cell_type": "code",
   "execution_count": 222,
   "metadata": {},
   "outputs": [],
   "source": [
    "rnd_clf=knn=RandomForestClassifier(max_depth=3,n_estimators=30)"
   ]
  },
  {
   "cell_type": "code",
   "execution_count": 223,
   "metadata": {},
   "outputs": [
    {
     "data": {
      "text/plain": [
       "RandomForestClassifier(max_depth=3, n_estimators=30)"
      ]
     },
     "execution_count": 223,
     "metadata": {},
     "output_type": "execute_result"
    }
   ],
   "source": [
    "rnd_clf.fit(X_train,y_train)"
   ]
  },
  {
   "cell_type": "code",
   "execution_count": 227,
   "metadata": {},
   "outputs": [],
   "source": [
    "yhat_train=rnd_clf.predict(X_train)"
   ]
  },
  {
   "cell_type": "code",
   "execution_count": 228,
   "metadata": {},
   "outputs": [
    {
     "data": {
      "text/plain": [
       "1.0"
      ]
     },
     "execution_count": 228,
     "metadata": {},
     "output_type": "execute_result"
    }
   ],
   "source": [
    "accuracy_score(yhat_train,y_train)"
   ]
  },
  {
   "cell_type": "code",
   "execution_count": 229,
   "metadata": {},
   "outputs": [],
   "source": [
    "yhat_test=rnd_clf.predict(X_test)"
   ]
  },
  {
   "cell_type": "code",
   "execution_count": 230,
   "metadata": {
    "scrolled": true
   },
   "outputs": [
    {
     "data": {
      "text/plain": [
       "1.0"
      ]
     },
     "execution_count": 230,
     "metadata": {},
     "output_type": "execute_result"
    }
   ],
   "source": [
    "accuracy_score(yhat_test,y_test)"
   ]
  },
  {
   "cell_type": "markdown",
   "metadata": {},
   "source": [
    "On a obtenu une prédiction avec une accuracy de 100 % sur le jeu de test. "
   ]
>>>>>>> e123f7c7f9eb080b644e84ea3e6836d6d13d37d1
  }
 ],
 "metadata": {
  "kernelspec": {
<<<<<<< HEAD
   "display_name": "Python 3 (ipykernel)",
=======
   "display_name": "Python 3",
>>>>>>> e123f7c7f9eb080b644e84ea3e6836d6d13d37d1
   "language": "python",
   "name": "python3"
  },
  "language_info": {
   "codemirror_mode": {
    "name": "ipython",
    "version": 3
   },
   "file_extension": ".py",
   "mimetype": "text/x-python",
   "name": "python",
   "nbconvert_exporter": "python",
   "pygments_lexer": "ipython3",
   "version": "3.8.3"
  }
 },
 "nbformat": 4,
 "nbformat_minor": 4
}
